{
 "cells": [
  {
   "cell_type": "code",
   "execution_count": 138,
   "id": "3df8c670",
   "metadata": {},
   "outputs": [],
   "source": [
    "import numpy as np\n",
    "import pandas as pd\n",
    "from datetime import datetime\n",
    "from sklearn.linear_model import Lasso, LinearRegression\n",
    "from sklearn.model_selection import GridSearchCV, cross_val_score\n",
    "from sklearn.preprocessing import StandardScaler, MinMaxScaler, Normalizer\n",
    "import matplotlib.pyplot as plt"
   ]
  },
  {
   "cell_type": "code",
   "execution_count": 65,
   "id": "5b3e3bef",
   "metadata": {},
   "outputs": [],
   "source": [
    "path = 'prelim_data_acs.csv'\n",
    "lower_alpha_bound = 0\n",
    "upper_alpha_bound = 100\n",
    "alpha_iterations = 100\n",
    "max_iters=1000\n",
    "\n",
    "data = pd.read_csv(path, index_col=0)"
   ]
  },
  {
   "cell_type": "code",
   "execution_count": 81,
   "id": "94fbd009",
   "metadata": {},
   "outputs": [],
   "source": [
    "def run_lasso_model(path, alpha_lower_bound=0, alpha_upper_bound=100, alpha_iterations=101, max_iterations=1000):\n",
    "    '''\n",
    "    Function to run the lasso regression model on our data for the capstone project.\n",
    "    Need to enter in the path to the data, and then have optional arguments you can enter.\n",
    "    \n",
    "    Inputs:\n",
    "    path - name of the data file, in quotes as a text string.\n",
    "    alpha_lower_bound - lower end of the penalization hyperparameter for the lasso regression. Defaults to 0\n",
    "    alpha_upper_bound - upper end of the penalization hyperparameter for the lasso regression. Defaults to 100\n",
    "    alpha_iterations - number of values used in the previously specified range for alpha. Defaults to 101\n",
    "    max_iterations - maximum iterations for the lasso regression. Defaults to 1,000.\n",
    "    '''\n",
    "    # Load the data\n",
    "    data = pd.read_csv(path, index_col=0)\n",
    "    \n",
    "    # Find the y-value column\n",
    "    for i in range(0,500):\n",
    "        try:\n",
    "            datetime.strptime(data.iloc[:,i].name, '%Y-%m')\n",
    "            date_col_name = data.iloc[:,i].name\n",
    "            break\n",
    "        except:\n",
    "            i+=1\n",
    "            \n",
    "    # Create X and y for machine learning\n",
    "    X = data.drop([date_col_name, 'RegionName', 'City', 'State'], axis=1)\n",
    "    y = data[date_col_name]\n",
    "    \n",
    "    # Create and fit the model\n",
    "    lasso = Lasso(normalize=True, max_iter=max_iterations)\n",
    "    lasso_params = {'alpha':np.linspace(alpha_lower_bound,alpha_upper_bound,alpha_iterations)}\n",
    "    grid_lasso = GridSearchCV(lasso, lasso_params, scoring='r2', n_jobs=-1, cv=5, verbose=2)\n",
    "    grid_lasso.fit(X, y)\n",
    "    \n",
    "    # Tell user alpha used\n",
    "    print('Best alpha: ', grid_lasso.best_params_['alpha'])\n",
    "    \n",
    "    # Tell user training score\n",
    "    print('Score on training data: ', round(grid_lasso.score(X,y),3))\n",
    "    \n",
    "    # Tell user the croo-validation scores\n",
    "    print('Scores from 5-fold cross-validation: \\n', cross_val_score(grid_lasso, X, y, scoring='r2', n_jobs=-1, cv=5))\n",
    "    \n",
    "    \n",
    "    "
   ]
  },
  {
   "cell_type": "code",
   "execution_count": 82,
   "id": "19c1c8e6",
   "metadata": {},
   "outputs": [
    {
     "name": "stdout",
     "output_type": "stream",
     "text": [
      "Fitting 5 folds for each of 101 candidates, totalling 505 fits\n",
      "Best alpha:  1.0\n",
      "Score on training data:  0.606\n",
      "Scores from 5-fold cross-validation: \n",
      " [0.83162625 0.82842924 0.85980755 0.28358486 0.80688221]\n"
     ]
    }
   ],
   "source": [
    "run_lasso_model(path)"
   ]
  },
  {
   "cell_type": "code",
   "execution_count": 161,
   "id": "8107e018",
   "metadata": {},
   "outputs": [],
   "source": [
    "# Trying it with a scaler, so I can do multicollinearity analysis after.\n",
    "\n",
    "\n",
    "def run_lasso_model_scaled(path, alpha_lower_bound=0, alpha_upper_bound=100, alpha_iterations=101, max_iterations=1000):\n",
    "    '''\n",
    "    Function to run the lasso regression model on our data for the capstone project.\n",
    "    Need to enter in the path to the data, and then have optional arguments you can enter.\n",
    "    \n",
    "    Inputs:\n",
    "    path - name of the data file, in quotes as a text string.\n",
    "    alpha_lower_bound - lower end of the penalization hyperparameter for the lasso regression. Defaults to 0\n",
    "    alpha_upper_bound - upper end of the penalization hyperparameter for the lasso regression. Defaults to 100\n",
    "    alpha_iterations - number of values used in the previously specified range for alpha. Defaults to 101\n",
    "    max_iterations - maximum iterations for the lasso regression. Defaults to 1,000.\n",
    "    '''\n",
    "    # Load the data\n",
    "    data = pd.read_csv(path, index_col=0)\n",
    "    \n",
    "    # Find the y-value column\n",
    "    for i in range(0,500):\n",
    "        try:\n",
    "            datetime.strptime(data.iloc[:,i].name, '%Y-%m')\n",
    "            date_col_name = data.iloc[:,i].name\n",
    "            break\n",
    "        except:\n",
    "            i+=1\n",
    "            \n",
    "    # Create X and y for machine learning\n",
    "    X = data.drop([date_col_name, 'RegionName', 'City', 'State'], axis=1)\n",
    "    y = data[date_col_name]\n",
    "    \n",
    "    ## SCALE DATA ## - MinMax or Standardization? or Normalizer? I am thinking standardization, less affected by outliers. \n",
    "    X_scaled = StandardScaler().fit_transform(X)\n",
    "    \n",
    "    \n",
    "    # Create and fit the model\n",
    "    lasso = Lasso(normalize=False, max_iter=max_iterations)\n",
    "    lasso_params = {'alpha':np.linspace(alpha_lower_bound,alpha_upper_bound,alpha_iterations)}\n",
    "    grid_lasso = GridSearchCV(lasso, lasso_params, scoring='r2', n_jobs=-1, cv=5, verbose=2)\n",
    "    grid_lasso.fit(X_scaled, y)\n",
    "    \n",
    "    # Tell user alpha used\n",
    "    print('Best alpha: ', grid_lasso.best_params_['alpha'])\n",
    "    \n",
    "    # Tell user training score\n",
    "    print('Score on training data: ', round(grid_lasso.score(X_scaled,y),3))\n",
    "    \n",
    "    # Tell user the croo-validation scores\n",
    "    #print('Scores from 5-fold cross-validation: \\n', cross_val_score(grid_lasso, X_scaled, y, scoring='r2', n_jobs=-1, cv=5))\n",
    "    \n",
    "    # Get coefs for best model\n",
    "    best_mod = Lasso(alpha=grid_lasso.best_params_['alpha'], max_iter = max_iterations)\n",
    "    best_mod.fit(X_scaled, y)\n",
    "    coef_list = list(zip(list(X.columns), best_mod.coef_))\n",
    "    print('Total features: ', len(coef_list))\n",
    "    used_list = []\n",
    "    for x in coef_list:\n",
    "        if x[1] != 0:\n",
    "            used_list.append(x)\n",
    "    print('Number of Features used: ', len(used_list), '\\n')\n",
    "    print('Used Features, sorted by importance:')\n",
    "    for x in sorted(used_list, key=lambda x: abs(x[1]), reverse=True):\n",
    "        print(x)\n",
    "    \n",
    "    # Return multicollinearity chart\n",
    "    feature_names = [x[0] for x in used_list]\n",
    "    RSquared = []\n",
    "    variable_name = []\n",
    "    for var in feature_names:\n",
    "        dep_var = StandardScaler().fit_transform(np.array(X[var]).reshape(-1,1))\n",
    "        predictors =StandardScaler().fit_transform(X.drop(var, axis=1))\n",
    "        ols = LinearRegression()\n",
    "        ols.fit(predictors, dep_var)\n",
    "        variable_name.append(var)\n",
    "        RSquared.append(ols.score(predictors, dep_var))\n",
    "\n",
    "    val_dfs = pd.concat([pd.Series(RSquared), pd.Series(variable_name)], axis=1)\n",
    "    val_dfs = val_dfs.sort_values(by=0, ascending=False)\n",
    "    \n",
    "    ## Plotting multicollinearity test from previous project ##\n",
    "    plt.plot(val_dfs[1], val_dfs[0])\n",
    "    plt.xticks(rotation=90)\n",
    "    plt.ylim(0.5,1)\n",
    "    plt.rcParams[\"figure.figsize\"] = (30,3)\n",
    "    plt.show()\n",
    "    "
   ]
  },
  {
   "cell_type": "code",
   "execution_count": 162,
   "id": "4c444a80",
   "metadata": {},
   "outputs": [
    {
     "name": "stdout",
     "output_type": "stream",
     "text": [
      "Fitting 5 folds for each of 11 candidates, totalling 55 fits\n",
      "Best alpha:  8.0\n",
      "Score on training data:  0.66\n",
      "Total features:  228\n",
      "Number of Features used:  53 \n",
      "\n",
      "Used Features, sorted by importance:\n",
      "('median_rent', 316.26694831435316)\n",
      "('owner_occupied_housing_units_lower_value_quartile', 184.1264194574003)\n",
      "('owner_occupied_housing_units_upper_value_quartile', 107.299873924778)\n",
      "('rent_under_10_percent', 83.20770752402845)\n",
      "('male_45_64_graduate_degree', -73.845637421888)\n",
      "('income_per_capita', -61.04471920503612)\n",
      "('different_house_year_ago_same_city', -51.03801463808566)\n",
      "('male_45_64_less_than_9_grade', 46.964152248697424)\n",
      "('percent_income_spent_on_rent', 43.05029306052354)\n",
      "('income_25000_29999', -39.11124147684708)\n",
      "('million_dollar_housing_units', -35.990815986449114)\n",
      "('rent_30_to_35_percent', 33.42731134167269)\n",
      "('income_50000_59999', -29.926599199637423)\n",
      "('walked_to_work', 29.86440999057707)\n",
      "('male_male_households', 28.07197607775121)\n",
      "('vacant_housing_units_for_rent', -27.755713457881015)\n",
      "('employed_construction', 20.05048591331477)\n",
      "('female_65_to_66', 19.720543884948174)\n",
      "('two_parents_father_in_labor_force_families_with_young_children', -19.714589726594298)\n",
      "('commuters_by_bus', 19.491094934460197)\n",
      "('mobile_homes', 18.35511018982937)\n",
      "('male_70_to_74', 17.744401240040983)\n",
      "('black_male_45_54', 16.223869576713934)\n",
      "('gini_index', 15.662450811185753)\n",
      "('employed_public_administration', -15.616266742083834)\n",
      "('median_age', 15.38211750736323)\n",
      "('income_150000_199999', 14.464461639896044)\n",
      "('income_10000_14999', 13.737403260974222)\n",
      "('commute_30_34_mins', 13.266036748803112)\n",
      "('renter_occupied_housing_units_paying_cash_median_gross_rent', 12.099910523792362)\n",
      "('group_quarters', 11.23879651081954)\n",
      "('male_20', -10.73450531061369)\n",
      "('dwellings_1_units_attached', -10.557822068424004)\n",
      "('commute_10_14_mins', -9.86642914868561)\n",
      "('female_10_to_14', -9.589747297297556)\n",
      "('male_30_to_34', 6.297618480799693)\n",
      "('dwellings_1_units_detached', -5.504358160932121)\n",
      "('not_us_citizen_pop', 4.838166086656706)\n",
      "('hispanic_male_45_54', 4.154797786096126)\n",
      "('different_house_year_ago_different_city', -3.699281476099725)\n",
      "('income_125000_149999', 3.0556410951492383)\n",
      "('armed_forces', -2.902324314840129)\n",
      "('two_or_more_races_pop', -2.811556593472044)\n",
      "('amerindian_pop', -2.4963141339526413)\n",
      "('other_race_pop', 1.982430677196854)\n",
      "('housing_built_2000_to_2004', -1.8827600492568741)\n",
      "('income_35000_39999', -1.3454348952282762)\n",
      "('vacant_housing_units_for_sale', -1.1413750598467967)\n",
      "('income_30000_34999', -0.9596458851535384)\n",
      "('commute_15_19_mins', -0.8156084619830462)\n",
      "('two_parents_not_in_labor_force_families_with_young_children', -0.5487879526775593)\n",
      "('dwellings_50_or_more_units', 0.524575551686767)\n",
      "('two_parents_mother_in_labor_force_families_with_young_children', -0.19860622059666566)\n"
     ]
    },
    {
     "data": {
      "image/png": "[encoded data removed]",
      "text/plain": [
       "<Figure size 2160x216 with 1 Axes>"
      ]
     },
     "metadata": {
      "needs_background": "light"
     },
     "output_type": "display_data"
    }
   ],
   "source": [
    "run_lasso_model_scaled(path, 0, 10, 11)"
   ]
  },
  {
   "cell_type": "code",
   "execution_count": 103,
   "id": "fd135078",
   "metadata": {},
   "outputs": [
    {
     "data": {
      "text/plain": [
       "{'alpha': 1.0101010101010102}"
      ]
     },
     "execution_count": 103,
     "metadata": {},
     "output_type": "execute_result"
    }
   ],
   "source": [
    "list(X.columns)"
   ]
  },
  {
   "cell_type": "code",
   "execution_count": null,
   "id": "1273e633",
   "metadata": {},
   "outputs": [],
   "source": []
  },
  {
   "cell_type": "code",
   "execution_count": null,
   "id": "e6fd31c6",
   "metadata": {},
   "outputs": [],
   "source": []
  },
  {
   "cell_type": "code",
   "execution_count": null,
   "id": "049051a7",
   "metadata": {},
   "outputs": [],
   "source": []
  },
  {
   "cell_type": "code",
   "execution_count": null,
   "id": "9e402714",
   "metadata": {},
   "outputs": [],
   "source": []
  },
  {
   "cell_type": "code",
   "execution_count": null,
   "id": "f91196bb",
   "metadata": {},
   "outputs": [],
   "source": []
  },
  {
   "cell_type": "code",
   "execution_count": null,
   "id": "7bdc5354",
   "metadata": {},
   "outputs": [],
   "source": []
  },
  {
   "cell_type": "code",
   "execution_count": null,
   "id": "f487b5a1",
   "metadata": {},
   "outputs": [],
   "source": []
  },
  {
   "cell_type": "markdown",
   "id": "18d9944e",
   "metadata": {},
   "source": [
    "# Prototyping work for function"
   ]
  },
  {
   "cell_type": "code",
   "execution_count": 66,
   "id": "5a058a41",
   "metadata": {},
   "outputs": [],
   "source": [
    "for i in range(0,500):\n",
    "    try:\n",
    "        datetime.strptime(data.iloc[:,i].name, '%Y-%m')\n",
    "        date_col_name = data.iloc[:,i].name\n",
    "        break\n",
    "    except:\n",
    "        i+=1\n",
    "\n",
    "X = data.drop([date_col_name, 'RegionName', 'City', 'State'], axis=1)\n",
    "y = data[date_col_name]"
   ]
  },
  {
   "cell_type": "code",
   "execution_count": 67,
   "id": "b7762191",
   "metadata": {},
   "outputs": [
    {
     "data": {
      "text/html": [
       "<div>\n",
       "<style scoped>\n",
       "    .dataframe tbody tr th:only-of-type {\n",
       "        vertical-align: middle;\n",
       "    }\n",
       "\n",
       "    .dataframe tbody tr th {\n",
       "        vertical-align: top;\n",
       "    }\n",
       "\n",
       "    .dataframe thead th {\n",
       "        text-align: right;\n",
       "    }\n",
       "</style>\n",
       "<table border=\"1\" class=\"dataframe\">\n",
       "  <thead>\n",
       "    <tr style=\"text-align: right;\">\n",
       "      <th></th>\n",
       "      <th>total_pop</th>\n",
       "      <th>households</th>\n",
       "      <th>male_pop</th>\n",
       "      <th>female_pop</th>\n",
       "      <th>median_age</th>\n",
       "      <th>male_under_5</th>\n",
       "      <th>male_5_to_9</th>\n",
       "      <th>male_10_to_14</th>\n",
       "      <th>male_15_to_17</th>\n",
       "      <th>male_18_to_19</th>\n",
       "      <th>...</th>\n",
       "      <th>occupation_production_transportation_material</th>\n",
       "      <th>occupation_sales_office</th>\n",
       "      <th>occupation_services</th>\n",
       "      <th>management_business_sci_arts_employed</th>\n",
       "      <th>sales_office_employed</th>\n",
       "      <th>in_grades_1_to_4</th>\n",
       "      <th>in_grades_5_to_8</th>\n",
       "      <th>in_grades_9_to_12</th>\n",
       "      <th>in_school</th>\n",
       "      <th>in_undergrad_college</th>\n",
       "    </tr>\n",
       "  </thead>\n",
       "  <tbody>\n",
       "    <tr>\n",
       "      <th>0</th>\n",
       "      <td>92805.0</td>\n",
       "      <td>41910.0</td>\n",
       "      <td>41890.0</td>\n",
       "      <td>50915.0</td>\n",
       "      <td>41.3</td>\n",
       "      <td>1811.0</td>\n",
       "      <td>1442.0</td>\n",
       "      <td>1812.0</td>\n",
       "      <td>848.0</td>\n",
       "      <td>823.0</td>\n",
       "      <td>...</td>\n",
       "      <td>1768.0</td>\n",
       "      <td>7237.0</td>\n",
       "      <td>5557.0</td>\n",
       "      <td>32166.0</td>\n",
       "      <td>7237.0</td>\n",
       "      <td>2694.0</td>\n",
       "      <td>3403.0</td>\n",
       "      <td>2356.0</td>\n",
       "      <td>22134.0</td>\n",
       "      <td>6152.0</td>\n",
       "    </tr>\n",
       "    <tr>\n",
       "      <th>1</th>\n",
       "      <td>70052.0</td>\n",
       "      <td>36624.0</td>\n",
       "      <td>35414.0</td>\n",
       "      <td>34638.0</td>\n",
       "      <td>31.2</td>\n",
       "      <td>1978.0</td>\n",
       "      <td>1151.0</td>\n",
       "      <td>1122.0</td>\n",
       "      <td>275.0</td>\n",
       "      <td>96.0</td>\n",
       "      <td>...</td>\n",
       "      <td>1525.0</td>\n",
       "      <td>10249.0</td>\n",
       "      <td>4323.0</td>\n",
       "      <td>33882.0</td>\n",
       "      <td>10249.0</td>\n",
       "      <td>1552.0</td>\n",
       "      <td>1591.0</td>\n",
       "      <td>812.0</td>\n",
       "      <td>12522.0</td>\n",
       "      <td>3196.0</td>\n",
       "    </tr>\n",
       "    <tr>\n",
       "      <th>2</th>\n",
       "      <td>62435.0</td>\n",
       "      <td>33693.0</td>\n",
       "      <td>27151.0</td>\n",
       "      <td>35284.0</td>\n",
       "      <td>43.3</td>\n",
       "      <td>1583.0</td>\n",
       "      <td>1029.0</td>\n",
       "      <td>993.0</td>\n",
       "      <td>408.0</td>\n",
       "      <td>471.0</td>\n",
       "      <td>...</td>\n",
       "      <td>828.0</td>\n",
       "      <td>6925.0</td>\n",
       "      <td>1922.0</td>\n",
       "      <td>25796.0</td>\n",
       "      <td>6925.0</td>\n",
       "      <td>1429.0</td>\n",
       "      <td>1782.0</td>\n",
       "      <td>1069.0</td>\n",
       "      <td>10397.0</td>\n",
       "      <td>2595.0</td>\n",
       "    </tr>\n",
       "    <tr>\n",
       "      <th>3</th>\n",
       "      <td>114989.0</td>\n",
       "      <td>35342.0</td>\n",
       "      <td>55688.0</td>\n",
       "      <td>59301.0</td>\n",
       "      <td>34.9</td>\n",
       "      <td>4326.0</td>\n",
       "      <td>5416.0</td>\n",
       "      <td>5466.0</td>\n",
       "      <td>3673.0</td>\n",
       "      <td>886.0</td>\n",
       "      <td>...</td>\n",
       "      <td>1980.0</td>\n",
       "      <td>9323.0</td>\n",
       "      <td>4805.0</td>\n",
       "      <td>34386.0</td>\n",
       "      <td>9323.0</td>\n",
       "      <td>9079.0</td>\n",
       "      <td>9539.0</td>\n",
       "      <td>8093.0</td>\n",
       "      <td>39508.0</td>\n",
       "      <td>5843.0</td>\n",
       "    </tr>\n",
       "    <tr>\n",
       "      <th>4</th>\n",
       "      <td>71308.0</td>\n",
       "      <td>33584.0</td>\n",
       "      <td>35945.0</td>\n",
       "      <td>35363.0</td>\n",
       "      <td>30.3</td>\n",
       "      <td>2157.0</td>\n",
       "      <td>1308.0</td>\n",
       "      <td>1285.0</td>\n",
       "      <td>437.0</td>\n",
       "      <td>1073.0</td>\n",
       "      <td>...</td>\n",
       "      <td>1136.0</td>\n",
       "      <td>10501.0</td>\n",
       "      <td>3125.0</td>\n",
       "      <td>32035.0</td>\n",
       "      <td>10501.0</td>\n",
       "      <td>2140.0</td>\n",
       "      <td>1853.0</td>\n",
       "      <td>1448.0</td>\n",
       "      <td>15963.0</td>\n",
       "      <td>5459.0</td>\n",
       "    </tr>\n",
       "    <tr>\n",
       "      <th>...</th>\n",
       "      <td>...</td>\n",
       "      <td>...</td>\n",
       "      <td>...</td>\n",
       "      <td>...</td>\n",
       "      <td>...</td>\n",
       "      <td>...</td>\n",
       "      <td>...</td>\n",
       "      <td>...</td>\n",
       "      <td>...</td>\n",
       "      <td>...</td>\n",
       "      <td>...</td>\n",
       "      <td>...</td>\n",
       "      <td>...</td>\n",
       "      <td>...</td>\n",
       "      <td>...</td>\n",
       "      <td>...</td>\n",
       "      <td>...</td>\n",
       "      <td>...</td>\n",
       "      <td>...</td>\n",
       "      <td>...</td>\n",
       "      <td>...</td>\n",
       "    </tr>\n",
       "    <tr>\n",
       "      <th>1856</th>\n",
       "      <td>2059.0</td>\n",
       "      <td>1344.0</td>\n",
       "      <td>1130.0</td>\n",
       "      <td>929.0</td>\n",
       "      <td>32.2</td>\n",
       "      <td>0.0</td>\n",
       "      <td>7.0</td>\n",
       "      <td>12.0</td>\n",
       "      <td>29.0</td>\n",
       "      <td>0.0</td>\n",
       "      <td>...</td>\n",
       "      <td>35.0</td>\n",
       "      <td>315.0</td>\n",
       "      <td>84.0</td>\n",
       "      <td>1164.0</td>\n",
       "      <td>315.0</td>\n",
       "      <td>15.0</td>\n",
       "      <td>20.0</td>\n",
       "      <td>44.0</td>\n",
       "      <td>246.0</td>\n",
       "      <td>36.0</td>\n",
       "    </tr>\n",
       "    <tr>\n",
       "      <th>1857</th>\n",
       "      <td>7357.0</td>\n",
       "      <td>1973.0</td>\n",
       "      <td>3376.0</td>\n",
       "      <td>3981.0</td>\n",
       "      <td>21.9</td>\n",
       "      <td>298.0</td>\n",
       "      <td>212.0</td>\n",
       "      <td>318.0</td>\n",
       "      <td>207.0</td>\n",
       "      <td>292.0</td>\n",
       "      <td>...</td>\n",
       "      <td>417.0</td>\n",
       "      <td>700.0</td>\n",
       "      <td>467.0</td>\n",
       "      <td>1200.0</td>\n",
       "      <td>700.0</td>\n",
       "      <td>279.0</td>\n",
       "      <td>430.0</td>\n",
       "      <td>493.0</td>\n",
       "      <td>3385.0</td>\n",
       "      <td>1816.0</td>\n",
       "    </tr>\n",
       "    <tr>\n",
       "      <th>1858</th>\n",
       "      <td>2536.0</td>\n",
       "      <td>1595.0</td>\n",
       "      <td>1142.0</td>\n",
       "      <td>1394.0</td>\n",
       "      <td>45.3</td>\n",
       "      <td>31.0</td>\n",
       "      <td>24.0</td>\n",
       "      <td>26.0</td>\n",
       "      <td>32.0</td>\n",
       "      <td>10.0</td>\n",
       "      <td>...</td>\n",
       "      <td>30.0</td>\n",
       "      <td>279.0</td>\n",
       "      <td>38.0</td>\n",
       "      <td>1067.0</td>\n",
       "      <td>279.0</td>\n",
       "      <td>2.0</td>\n",
       "      <td>43.0</td>\n",
       "      <td>121.0</td>\n",
       "      <td>447.0</td>\n",
       "      <td>93.0</td>\n",
       "    </tr>\n",
       "    <tr>\n",
       "      <th>1859</th>\n",
       "      <td>4403.0</td>\n",
       "      <td>1485.0</td>\n",
       "      <td>2462.0</td>\n",
       "      <td>1941.0</td>\n",
       "      <td>37.6</td>\n",
       "      <td>167.0</td>\n",
       "      <td>128.0</td>\n",
       "      <td>145.0</td>\n",
       "      <td>204.0</td>\n",
       "      <td>126.0</td>\n",
       "      <td>...</td>\n",
       "      <td>334.0</td>\n",
       "      <td>343.0</td>\n",
       "      <td>331.0</td>\n",
       "      <td>515.0</td>\n",
       "      <td>343.0</td>\n",
       "      <td>201.0</td>\n",
       "      <td>225.0</td>\n",
       "      <td>327.0</td>\n",
       "      <td>1154.0</td>\n",
       "      <td>231.0</td>\n",
       "    </tr>\n",
       "    <tr>\n",
       "      <th>1860</th>\n",
       "      <td>970.0</td>\n",
       "      <td>678.0</td>\n",
       "      <td>326.0</td>\n",
       "      <td>644.0</td>\n",
       "      <td>49.1</td>\n",
       "      <td>0.0</td>\n",
       "      <td>0.0</td>\n",
       "      <td>0.0</td>\n",
       "      <td>0.0</td>\n",
       "      <td>0.0</td>\n",
       "      <td>...</td>\n",
       "      <td>22.0</td>\n",
       "      <td>109.0</td>\n",
       "      <td>81.0</td>\n",
       "      <td>472.0</td>\n",
       "      <td>109.0</td>\n",
       "      <td>0.0</td>\n",
       "      <td>0.0</td>\n",
       "      <td>0.0</td>\n",
       "      <td>52.0</td>\n",
       "      <td>14.0</td>\n",
       "    </tr>\n",
       "  </tbody>\n",
       "</table>\n",
       "<p>1858 rows × 228 columns</p>\n",
       "</div>"
      ],
      "text/plain": [
       "      total_pop  households  male_pop  female_pop  median_age  male_under_5  \\\n",
       "0       92805.0     41910.0   41890.0     50915.0        41.3        1811.0   \n",
       "1       70052.0     36624.0   35414.0     34638.0        31.2        1978.0   \n",
       "2       62435.0     33693.0   27151.0     35284.0        43.3        1583.0   \n",
       "3      114989.0     35342.0   55688.0     59301.0        34.9        4326.0   \n",
       "4       71308.0     33584.0   35945.0     35363.0        30.3        2157.0   \n",
       "...         ...         ...       ...         ...         ...           ...   \n",
       "1856     2059.0      1344.0    1130.0       929.0        32.2           0.0   \n",
       "1857     7357.0      1973.0    3376.0      3981.0        21.9         298.0   \n",
       "1858     2536.0      1595.0    1142.0      1394.0        45.3          31.0   \n",
       "1859     4403.0      1485.0    2462.0      1941.0        37.6         167.0   \n",
       "1860      970.0       678.0     326.0       644.0        49.1           0.0   \n",
       "\n",
       "      male_5_to_9  male_10_to_14  male_15_to_17  male_18_to_19  ...  \\\n",
       "0          1442.0         1812.0          848.0          823.0  ...   \n",
       "1          1151.0         1122.0          275.0           96.0  ...   \n",
       "2          1029.0          993.0          408.0          471.0  ...   \n",
       "3          5416.0         5466.0         3673.0          886.0  ...   \n",
       "4          1308.0         1285.0          437.0         1073.0  ...   \n",
       "...           ...            ...            ...            ...  ...   \n",
       "1856          7.0           12.0           29.0            0.0  ...   \n",
       "1857        212.0          318.0          207.0          292.0  ...   \n",
       "1858         24.0           26.0           32.0           10.0  ...   \n",
       "1859        128.0          145.0          204.0          126.0  ...   \n",
       "1860          0.0            0.0            0.0            0.0  ...   \n",
       "\n",
       "      occupation_production_transportation_material  occupation_sales_office  \\\n",
       "0                                            1768.0                   7237.0   \n",
       "1                                            1525.0                  10249.0   \n",
       "2                                             828.0                   6925.0   \n",
       "3                                            1980.0                   9323.0   \n",
       "4                                            1136.0                  10501.0   \n",
       "...                                             ...                      ...   \n",
       "1856                                           35.0                    315.0   \n",
       "1857                                          417.0                    700.0   \n",
       "1858                                           30.0                    279.0   \n",
       "1859                                          334.0                    343.0   \n",
       "1860                                           22.0                    109.0   \n",
       "\n",
       "      occupation_services  management_business_sci_arts_employed  \\\n",
       "0                  5557.0                                32166.0   \n",
       "1                  4323.0                                33882.0   \n",
       "2                  1922.0                                25796.0   \n",
       "3                  4805.0                                34386.0   \n",
       "4                  3125.0                                32035.0   \n",
       "...                   ...                                    ...   \n",
       "1856                 84.0                                 1164.0   \n",
       "1857                467.0                                 1200.0   \n",
       "1858                 38.0                                 1067.0   \n",
       "1859                331.0                                  515.0   \n",
       "1860                 81.0                                  472.0   \n",
       "\n",
       "      sales_office_employed  in_grades_1_to_4  in_grades_5_to_8  \\\n",
       "0                    7237.0            2694.0            3403.0   \n",
       "1                   10249.0            1552.0            1591.0   \n",
       "2                    6925.0            1429.0            1782.0   \n",
       "3                    9323.0            9079.0            9539.0   \n",
       "4                   10501.0            2140.0            1853.0   \n",
       "...                     ...               ...               ...   \n",
       "1856                  315.0              15.0              20.0   \n",
       "1857                  700.0             279.0             430.0   \n",
       "1858                  279.0               2.0              43.0   \n",
       "1859                  343.0             201.0             225.0   \n",
       "1860                  109.0               0.0               0.0   \n",
       "\n",
       "      in_grades_9_to_12  in_school  in_undergrad_college  \n",
       "0                2356.0    22134.0                6152.0  \n",
       "1                 812.0    12522.0                3196.0  \n",
       "2                1069.0    10397.0                2595.0  \n",
       "3                8093.0    39508.0                5843.0  \n",
       "4                1448.0    15963.0                5459.0  \n",
       "...                 ...        ...                   ...  \n",
       "1856               44.0      246.0                  36.0  \n",
       "1857              493.0     3385.0                1816.0  \n",
       "1858              121.0      447.0                  93.0  \n",
       "1859              327.0     1154.0                 231.0  \n",
       "1860                0.0       52.0                  14.0  \n",
       "\n",
       "[1858 rows x 228 columns]"
      ]
     },
     "execution_count": 67,
     "metadata": {},
     "output_type": "execute_result"
    }
   ],
   "source": [
    "X"
   ]
  },
  {
   "cell_type": "code",
   "execution_count": 72,
   "id": "1bc6751a",
   "metadata": {},
   "outputs": [
    {
     "name": "stdout",
     "output_type": "stream",
     "text": [
      "Fitting 5 folds for each of 100 candidates, totalling 500 fits\n"
     ]
    },
    {
     "data": {
      "text/plain": [
       "GridSearchCV(cv=5, estimator=Lasso(normalize=True), n_jobs=-1,\n",
       "             param_grid={'alpha': array([  0.        ,   1.01010101,   2.02020202,   3.03030303,\n",
       "         4.04040404,   5.05050505,   6.06060606,   7.07070707,\n",
       "         8.08080808,   9.09090909,  10.1010101 ,  11.11111111,\n",
       "        12.12121212,  13.13131313,  14.14141414,  15.15151515,\n",
       "        16.16161616,  17.17171717,  18.18181818,  19.19191919,\n",
       "        20.2020202 ,  21.21212121,  22.22222222,  23.2323...\n",
       "        72.72727273,  73.73737374,  74.74747475,  75.75757576,\n",
       "        76.76767677,  77.77777778,  78.78787879,  79.7979798 ,\n",
       "        80.80808081,  81.81818182,  82.82828283,  83.83838384,\n",
       "        84.84848485,  85.85858586,  86.86868687,  87.87878788,\n",
       "        88.88888889,  89.8989899 ,  90.90909091,  91.91919192,\n",
       "        92.92929293,  93.93939394,  94.94949495,  95.95959596,\n",
       "        96.96969697,  97.97979798,  98.98989899, 100.        ])},\n",
       "             return_train_score=True, scoring='r2', verbose=2)"
      ]
     },
     "execution_count": 72,
     "metadata": {},
     "output_type": "execute_result"
    }
   ],
   "source": [
    "lasso = Lasso(normalize=True, max_iter=1000)\n",
    "lasso_params = {'alpha':np.linspace(0,100,100)}\n",
    "grid_lasso = GridSearchCV(lasso, lasso_params, scoring='r2', n_jobs=-1, cv=5, verbose=2)\n",
    "\n",
    "grid_lasso.fit(X, y)"
   ]
  },
  {
   "cell_type": "code",
   "execution_count": 78,
   "id": "9c650a11",
   "metadata": {},
   "outputs": [
    {
     "data": {
      "text/plain": [
       "1.0101010101010102"
      ]
     },
     "execution_count": 78,
     "metadata": {},
     "output_type": "execute_result"
    }
   ],
   "source": [
    "grid_lasso.best_params_['alpha']"
   ]
  },
  {
   "cell_type": "code",
   "execution_count": 73,
   "id": "3678cc4b",
   "metadata": {},
   "outputs": [
    {
     "data": {
      "text/plain": [
       "0.605816069780345"
      ]
     },
     "execution_count": 73,
     "metadata": {},
     "output_type": "execute_result"
    }
   ],
   "source": [
    "grid_lasso.score(X,y)"
   ]
  },
  {
   "cell_type": "code",
   "execution_count": 77,
   "id": "1e5f9f1e",
   "metadata": {},
   "outputs": [
    {
     "data": {
      "text/plain": [
       "array([0.83129275, 0.82774072, 0.85928768, 0.28358486, 0.80651477])"
      ]
     },
     "execution_count": 77,
     "metadata": {},
     "output_type": "execute_result"
    }
   ],
   "source": [
    "cross_val_score(grid_lasso, X, y, scoring='r2', n_jobs=-1, cv=5)"
   ]
  },
  {
   "cell_type": "code",
   "execution_count": null,
   "id": "ac9522a7",
   "metadata": {},
   "outputs": [],
   "source": []
  },
  {
   "cell_type": "markdown",
   "id": "030ade07",
   "metadata": {},
   "source": [
    "# Maybe go log price??"
   ]
  },
  {
   "cell_type": "code",
   "execution_count": 55,
   "id": "d3aa3af5",
   "metadata": {},
   "outputs": [
    {
     "data": {
      "image/png": "[encoded data removed]",
      "text/plain": [
       "<Figure size 432x288 with 1 Axes>"
      ]
     },
     "metadata": {
      "needs_background": "light"
     },
     "output_type": "display_data"
    }
   ],
   "source": [
    "plt.hist(y, bins=500)\n",
    "plt.xlim(0,5000)\n",
    "plt.title('Rental Index by Zip Code. There is an unshown outlier at 17k')\n",
    "plt.show()"
   ]
  },
  {
   "cell_type": "code",
   "execution_count": 56,
   "id": "13d3917f",
   "metadata": {},
   "outputs": [
    {
     "data": {
      "image/png": "[encoded data removed]",
      "text/plain": [
       "<Figure size 432x288 with 1 Axes>"
      ]
     },
     "metadata": {
      "needs_background": "light"
     },
     "output_type": "display_data"
    }
   ],
   "source": [
    "plt.hist(np.log(y), bins=100)\n",
    "plt.title('ln(Rental Indox) by Zip Code')\n",
    "plt.show()"
   ]
  },
  {
   "cell_type": "markdown",
   "id": "9141b604",
   "metadata": {},
   "source": [
    "## What is an outlier?"
   ]
  },
  {
   "cell_type": "code",
   "execution_count": 42,
   "id": "e731c846",
   "metadata": {},
   "outputs": [
    {
     "data": {
      "text/plain": [
       "30"
      ]
     },
     "execution_count": 42,
     "metadata": {},
     "output_type": "execute_result"
    }
   ],
   "source": [
    "len(y[y>3500])"
   ]
  },
  {
   "cell_type": "code",
   "execution_count": 43,
   "id": "de575847",
   "metadata": {},
   "outputs": [
    {
     "data": {
      "text/plain": [
       "1858"
      ]
     },
     "execution_count": 43,
     "metadata": {},
     "output_type": "execute_result"
    }
   ],
   "source": [
    "len(y)"
   ]
  },
  {
   "cell_type": "code",
   "execution_count": 48,
   "id": "2e10211b",
   "metadata": {},
   "outputs": [
    {
     "data": {
      "text/plain": [
       "0.3845720106469143"
      ]
     },
     "execution_count": 48,
     "metadata": {},
     "output_type": "execute_result"
    }
   ],
   "source": [
    "np.std(np.log(y))"
   ]
  },
  {
   "cell_type": "code",
   "execution_count": 49,
   "id": "1c23f3ea",
   "metadata": {},
   "outputs": [
    {
     "data": {
      "text/plain": [
       "7.329237791578592"
      ]
     },
     "execution_count": 49,
     "metadata": {},
     "output_type": "execute_result"
    }
   ],
   "source": [
    "np.mean(np.log(y))"
   ]
  },
  {
   "cell_type": "code",
   "execution_count": 50,
   "id": "6b187dc6",
   "metadata": {},
   "outputs": [
    {
     "data": {
      "text/plain": [
       "8.482953823519335"
      ]
     },
     "execution_count": 50,
     "metadata": {},
     "output_type": "execute_result"
    }
   ],
   "source": [
    "np.mean(np.log(y)) + 3*np.std(np.log(y))"
   ]
  },
  {
   "cell_type": "code",
   "execution_count": 51,
   "id": "fbd810ac",
   "metadata": {},
   "outputs": [
    {
     "data": {
      "text/plain": [
       "4831.700830689226"
      ]
     },
     "execution_count": 51,
     "metadata": {},
     "output_type": "execute_result"
    }
   ],
   "source": [
    "np.exp(np.mean(np.log(y)) + 3*np.std(np.log(y)))"
   ]
  }
 ],
 "metadata": {
  "kernelspec": {
   "display_name": "Python 3",
   "language": "python",
   "name": "python3"
  },
  "language_info": {
   "codemirror_mode": {
    "name": "ipython",
    "version": 3
   },
   "file_extension": ".py",
   "mimetype": "text/x-python",
   "name": "python",
   "nbconvert_exporter": "python",
   "pygments_lexer": "ipython3",
   "version": "3.8.8"
  }
 },
 "nbformat": 4,
 "nbformat_minor": 5
}
