{
 "cells": [
  {
   "cell_type": "code",
   "execution_count": 1,
   "id": "2edd88df",
   "metadata": {},
   "outputs": [],
   "source": [
    "import numpy as np\n",
    "import pandas as pd\n",
    "from datetime import datetime\n",
    "from sklearn.linear_model import Lasso, LinearRegression\n",
    "from sklearn.model_selection import GridSearchCV, cross_val_score\n",
    "from sklearn.preprocessing import StandardScaler, MinMaxScaler, Normalizer\n",
    "import matplotlib.pyplot as plt"
   ]
  },
  {
   "cell_type": "code",
   "execution_count": 2,
   "id": "ca2a66d0",
   "metadata": {},
   "outputs": [],
   "source": [
    "train_path = 'TRAINDATAnewcols7.15.csv'\n",
    "test_path = 'TESTDATAnewcols7.15.csv'\n",
    "lower_alpha_bound = 0\n",
    "upper_alpha_bound = 100\n",
    "alpha_iterations = 100\n",
    "max_iters=1000\n",
    "\n",
    "#data = pd.read_csv(path, index_col=0)"
   ]
  },
  {
   "cell_type": "code",
   "execution_count": 81,
   "id": "d7fa7331",
   "metadata": {},
   "outputs": [],
   "source": [
    "# def run_lasso_model(train_path, test_path, alpha_lower_bound=0, alpha_upper_bound=100, alpha_iterations=101, max_iterations=1000):\n",
    "#     '''\n",
    "#     NOTE: NOT UPDATED!! USE run_lasso_model_scaled, or go through and make adjustments\n",
    "#     to this function for the train and test split files being implemented. Started, not finished.\n",
    "    \n",
    "#     Function to run the lasso regression model on our data for the capstone project.\n",
    "#     Need to enter in the path to the data, and then have optional arguments you can enter.\n",
    "    \n",
    "#     Inputs:\n",
    "#     path - name of the data file, in quotes as a text string.\n",
    "#     alpha_lower_bound - lower end of the penalization hyperparameter for the lasso regression. Defaults to 0\n",
    "#     alpha_upper_bound - upper end of the penalization hyperparameter for the lasso regression. Defaults to 100\n",
    "#     alpha_iterations - number of values used in the previously specified range for alpha. Defaults to 101\n",
    "#     max_iterations - maximum iterations for the lasso regression. Defaults to 1,000.\n",
    "#     '''\n",
    "#     # Load the data\n",
    "#     data = pd.read_csv(train_path, index_col=0)\n",
    "#     test_data = pd.read_csv(test_path, index_col=0)\n",
    "    \n",
    "#     # Find the y-value column\n",
    "#     for i in range(0,500):\n",
    "#         try:\n",
    "#             datetime.strptime(data.iloc[:,i].name, '%Y-%m')\n",
    "#             date_col_name = data.iloc[:,i].name\n",
    "#             break\n",
    "#         except:\n",
    "#             i+=1\n",
    "            \n",
    "#     # Create X and y for machine learning\n",
    "#     train_X = data.drop([date_col_name, 'RegionName', 'City', 'State'], axis=1)\n",
    "#     train_y = data[date_col_name]\n",
    "    \n",
    "#     test_X = test_data.drop([date_col_name, 'RegionName', 'City', 'State'], axis=1)\n",
    "#     test_y = test_data[date_col_name]\n",
    "    \n",
    "#     # Create and fit the model\n",
    "#     lasso = Lasso(normalize=True, max_iter=max_iterations)\n",
    "#     lasso_params = {'alpha':np.linspace(alpha_lower_bound,alpha_upper_bound,alpha_iterations)}\n",
    "#     grid_lasso = GridSearchCV(lasso, lasso_params, scoring='r2', n_jobs=-1, cv=5, verbose=2)\n",
    "#     grid_lasso.fit(train_X, train_y)\n",
    "    \n",
    "#     # Tell user alpha used\n",
    "#     print('Best alpha: ', grid_lasso.best_params_['alpha'])\n",
    "    \n",
    "#     # Tell user training score\n",
    "#     print('Score on training data: ', round(grid_lasso.score(train_X,train_y),3))\n",
    "    \n",
    "#     # Tell user the cross-validation scores\n",
    "#     print('Scores from 5-fold cross-validation: \\n', cross_val_score(grid_lasso, train_X, train_y, scoring='r2', n_jobs=-1, cv=5))\n",
    "    \n",
    "#     # Tell user the test score\n",
    "#     print('Scores on test data: ', round(grid_lasso.score(test_X,test_y),3))\n",
    "    \n",
    "    \n",
    "    "
   ]
  },
  {
   "cell_type": "code",
   "execution_count": 82,
   "id": "581092b8",
   "metadata": {},
   "outputs": [
    {
     "name": "stdout",
     "output_type": "stream",
     "text": [
      "Fitting 5 folds for each of 101 candidates, totalling 505 fits\n",
      "Best alpha:  1.0\n",
      "Score on training data:  0.606\n",
      "Scores from 5-fold cross-validation: \n",
      " [0.83162625 0.82842924 0.85980755 0.28358486 0.80688221]\n"
     ]
    }
   ],
   "source": [
    "#run_lasso_model(path)"
   ]
  },
  {
   "cell_type": "code",
   "execution_count": 9,
   "id": "51af8d36",
   "metadata": {},
   "outputs": [],
   "source": [
    "# Trying it with a scaler, so I can do multicollinearity analysis after.\n",
    "\n",
    "\n",
    "def run_lasso_model_scaled(train_path, test_path, alpha_lower_bound=0, alpha_upper_bound=100, alpha_iterations=101, max_iterations=1000):\n",
    "    '''\n",
    "    Function to run the lasso regression model on our data for the capstone project.\n",
    "    Need to enter in the path to the data, and then have optional arguments you can enter.\n",
    "    \n",
    "    Inputs:\n",
    "    train_path - name of the training data file, in quotes as a text string.\n",
    "    test_path - name of the testing data file, in quotes as a text string.\n",
    "    alpha_lower_bound - lower end of the penalization hyperparameter for the lasso regression. Defaults to 0\n",
    "    alpha_upper_bound - upper end of the penalization hyperparameter for the lasso regression. Defaults to 100\n",
    "    alpha_iterations - number of values used in the previously specified range for alpha. Defaults to 101\n",
    "    max_iterations - maximum iterations for the lasso regression. Defaults to 1,000.\n",
    "    '''\n",
    "    # Load the data\n",
    "    data = pd.read_csv(train_path, index_col=False)\n",
    "    test_data = pd.read_csv(test_path, index_col=False)\n",
    "    \n",
    "    # Find the y-value column\n",
    "    # NEW y-val WILL BE CALLED RENT\n",
    "#     for i in range(0,500):\n",
    "#         try:\n",
    "#             datetime.strptime(data.iloc[:,i].name, '%Y-%m')\n",
    "#             date_col_name = data.iloc[:,i].name\n",
    "#             break\n",
    "#         except:\n",
    "#             i+=1\n",
    "            \n",
    "    # Create X and y for machine learning\n",
    "    train_X = data.drop(['Rent', 'RegionName', 'City', 'State'], axis=1)\n",
    "    train_y = data['Rent']\n",
    "    \n",
    "    test_X = test_data.drop(['Rent', 'RegionName', 'City', 'State'], axis=1)\n",
    "    test_y = test_data['Rent']\n",
    "    \n",
    "    ## SCALE DATA ## - MinMax or Standardization? or Normalizer? I am thinking standardization, less affected by outliers. \n",
    "    train_X_scaled = StandardScaler().fit_transform(train_X)\n",
    "    test_X_scaled = StandardScaler().fit_transform(test_X)\n",
    "    \n",
    "    # Create and fit the model\n",
    "    lasso = Lasso(normalize=False, max_iter=max_iterations)\n",
    "    lasso_params = {'alpha':np.linspace(alpha_lower_bound,alpha_upper_bound,alpha_iterations)}\n",
    "    grid_lasso = GridSearchCV(lasso, lasso_params, scoring='r2', n_jobs=-1, cv=5, verbose=2)\n",
    "    grid_lasso.fit(train_X_scaled, train_y)\n",
    "    \n",
    "    # Tell user alpha used\n",
    "    print('Best alpha: ', grid_lasso.best_params_['alpha'])\n",
    "    \n",
    "    # Tell user training score\n",
    "    print('Score on training data: ', round(grid_lasso.score(train_X_scaled,train_y),3))\n",
    "    \n",
    "    # Tell user the croo-validation scores\n",
    "    print('Scores from 5-fold cross-validation: \\n', cross_val_score(grid_lasso, train_X_scaled, train_y, scoring='r2', n_jobs=-1, cv=5))\n",
    "    \n",
    "    # Tell user the test score\n",
    "    print('Score on TEST data: ', round(grid_lasso.score(test_X_scaled,test_y),3))\n",
    "    \n",
    "    # Get coefs for best model\n",
    "    best_mod = Lasso(alpha=grid_lasso.best_params_['alpha'], max_iter = max_iterations)\n",
    "    best_mod.fit(train_X_scaled, train_y)\n",
    "    coef_list = list(zip(list(train_X.columns), best_mod.coef_))\n",
    "    print('Total features: ', len(coef_list))\n",
    "    used_list = []\n",
    "    for x in coef_list:\n",
    "        if x[1] != 0:\n",
    "            used_list.append(x)\n",
    "    print('Number of Features used: ', len(used_list), '\\n')\n",
    "    print('Used Features, sorted by importance:')\n",
    "    for x in sorted(used_list, key=lambda x: abs(x[1]), reverse=True):\n",
    "        print(x)\n",
    "    \n",
    "    # Return multicollinearity chart\n",
    "    feature_names = [x[0] for x in used_list]\n",
    "    RSquared = []\n",
    "    variable_name = []\n",
    "    for var in feature_names:\n",
    "        dep_var = StandardScaler().fit_transform(np.array(train_X[var]).reshape(-1,1))\n",
    "        predictors =StandardScaler().fit_transform(train_X.drop(var, axis=1))\n",
    "        ols = LinearRegression()\n",
    "        ols.fit(predictors, dep_var)\n",
    "        variable_name.append(var)\n",
    "        RSquared.append(ols.score(predictors, dep_var))\n",
    "\n",
    "    val_dfs = pd.concat([pd.Series(RSquared), pd.Series(variable_name)], axis=1)\n",
    "    val_dfs = val_dfs.sort_values(by=0, ascending=False)\n",
    "    \n",
    "    # Print multicollinearity info\n",
    "    print('\\nMulticollinearity tests for used variables:\\n', val_dfs)\n",
    "    \n",
    "    ## Plotting multicollinearity test from previous project ##\n",
    "    plt.rcParams[\"figure.figsize\"] = (30,3)\n",
    "    plt.plot(val_dfs[1], val_dfs[0])\n",
    "    plt.xticks(rotation=90)\n",
    "    plt.ylim(0,1)\n",
    "\n",
    "    plt.show()\n",
    "    "
   ]
  },
  {
   "cell_type": "code",
   "execution_count": 10,
   "id": "e4b65bf7",
   "metadata": {},
   "outputs": [
    {
     "name": "stdout",
     "output_type": "stream",
     "text": [
      "Fitting 5 folds for each of 21 candidates, totalling 105 fits\n",
      "Best alpha:  0.7000000000000001\n",
      "Score on training data:  0.558\n",
      "Scores from 5-fold cross-validation: \n",
      " [0.47708217 0.69796487 0.47429032 0.49753235 0.7113266 ]\n",
      "Score on TEST data:  0.589\n",
      "Total features:  39\n",
      "Number of Features used:  36 \n",
      "\n",
      "Used Features, sorted by importance:\n",
      "('median_income', 313.52326099881856)\n",
      "('Perc_hispanic', 195.63465894392607)\n",
      "('total_pop', 186.5205281131622)\n",
      "('dwellings_1_units', -170.8316608139019)\n",
      "('families_with_young_children_summed', -167.06164847566222)\n",
      "('walked_to_work', 147.46053130294968)\n",
      "('Perc_commuter_by_public_transport', 133.78081942588923)\n",
      "('Perc_asian', 114.06137670942167)\n",
      "('gini_index', 91.55209233516933)\n",
      "('dwellings_50_or_more_units', -91.01769022265552)\n",
      "('Perc_different_house_year_ago_same_city', -86.11415392794972)\n",
      "('million_dollar_housing_units', 83.01702169098786)\n",
      "('Percent_pop_25_64', 62.12893788328632)\n",
      "('Advanced_degree_perc', -61.90723605800541)\n",
      "('dwellings_under_10_units', -53.469800618840864)\n",
      "('median_age', 51.46991417629743)\n",
      "('Perc_black', 45.61007114382233)\n",
      "('unemployment_rate', 43.913149813768676)\n",
      "('Perc_worked_at_home', 37.36874974851506)\n",
      "('mobile_homes', 28.40961983604584)\n",
      "('Percent_Female', -25.631499895141708)\n",
      "('Perc_vacat_housing_units', -24.604233716137816)\n",
      "('Perc_commuters_under_15_min', -20.52613915964517)\n",
      "('ESTAB', 18.595414858601835)\n",
      "('perc_housing_built_2005_or_later', -17.172946655571593)\n",
      "('HIFL_uni', -13.204399899255138)\n",
      "('Perc_other_race', -11.730711583245599)\n",
      "('Perc_different_house_year_ago_dif_city', 11.034913222954142)\n",
      "('HIFL_govbldg', -9.183210816470483)\n",
      "('Perc_commuters_over_45_min', 9.101522032726479)\n",
      "('housing_built_1939_or_earlier', -8.010028160198326)\n",
      "('HIFL_hospital_count', 7.829823822762077)\n",
      "('HS_perc', 4.959977870399875)\n",
      "('armed_forces', -1.770846550700086)\n",
      "('poverty', 1.5428096827936395)\n",
      "('HIFL_transit_station_count', 1.3194437200398552)\n",
      "\n",
      "Multicollinearity tests for used variables:\n",
      "            0                                        1\n",
      "0   0.966847                                total_pop\n",
      "19  0.903833                     Advanced_degree_perc\n",
      "13  0.903557                        dwellings_1_units\n",
      "12  0.900518      families_with_young_children_summed\n",
      "26  0.896075        Perc_commuter_by_public_transport\n",
      "20  0.895234                                  HS_perc\n",
      "2   0.882493                            median_income\n",
      "9   0.860938                                  poverty\n",
      "4   0.804021               dwellings_50_or_more_units\n",
      "14  0.800534                 dwellings_under_10_units\n",
      "18  0.789993                        Percent_pop_25_64\n",
      "1   0.774000                               median_age\n",
      "25  0.747512                            Perc_hispanic\n",
      "17  0.738696               Perc_commuters_over_45_min\n",
      "10  0.721952                           walked_to_work\n",
      "15  0.716971                        unemployment_rate\n",
      "23  0.707398                               Perc_black\n",
      "8   0.667202                               gini_index\n",
      "16  0.666383              Perc_commuters_under_15_min\n",
      "27  0.632688                      Perc_worked_at_home\n",
      "29  0.629692   Perc_different_house_year_ago_dif_city\n",
      "28  0.617323  Perc_different_house_year_ago_same_city\n",
      "21  0.580038                 Perc_vacat_housing_units\n",
      "11  0.466453                           Percent_Female\n",
      "6   0.464720            housing_built_1939_or_earlier\n",
      "3   0.456020             million_dollar_housing_units\n",
      "31  0.405118                                    ESTAB\n",
      "24  0.392817                               Perc_asian\n",
      "5   0.286006                             mobile_homes\n",
      "33  0.249611               HIFL_transit_station_count\n",
      "30  0.226195         perc_housing_built_2005_or_later\n",
      "34  0.200761                                 HIFL_uni\n",
      "32  0.126243                      HIFL_hospital_count\n",
      "7   0.125296                             armed_forces\n",
      "35  0.093458                             HIFL_govbldg\n",
      "22  0.080724                          Perc_other_race\n"
     ]
    },
    {
     "data": {
      "image/png": "[encoded data removed]",
      "text/plain": [
       "<Figure size 2160x216 with 1 Axes>"
      ]
     },
     "metadata": {
      "needs_background": "light"
     },
     "output_type": "display_data"
    }
   ],
   "source": [
    "run_lasso_model_scaled(train_path, test_path, 0, 2, 21)"
   ]
  },
  {
   "cell_type": "code",
   "execution_count": 103,
   "id": "6b9af207",
   "metadata": {},
   "outputs": [
    {
     "data": {
      "text/plain": [
       "{'alpha': 1.0101010101010102}"
      ]
     },
     "execution_count": 103,
     "metadata": {},
     "output_type": "execute_result"
    }
   ],
   "source": [
    "list(X.columns)"
   ]
  },
  {
   "cell_type": "code",
   "execution_count": null,
   "id": "5133e741",
   "metadata": {},
   "outputs": [],
   "source": []
  },
  {
   "cell_type": "code",
   "execution_count": null,
   "id": "3ec51b4d",
   "metadata": {},
   "outputs": [],
   "source": []
  },
  {
   "cell_type": "code",
   "execution_count": null,
   "id": "36c20ac7",
   "metadata": {},
   "outputs": [],
   "source": []
  },
  {
   "cell_type": "code",
   "execution_count": null,
   "id": "0baf5469",
   "metadata": {},
   "outputs": [],
   "source": []
  },
  {
   "cell_type": "code",
   "execution_count": null,
   "id": "bded8b06",
   "metadata": {},
   "outputs": [],
   "source": []
  },
  {
   "cell_type": "code",
   "execution_count": null,
   "id": "8e240392",
   "metadata": {},
   "outputs": [],
   "source": []
  },
  {
   "cell_type": "code",
   "execution_count": null,
   "id": "be8a4388",
   "metadata": {},
   "outputs": [],
   "source": []
  },
  {
   "cell_type": "markdown",
   "id": "0a009eb2",
   "metadata": {},
   "source": [
    "# Prototyping work for function"
   ]
  },
  {
   "cell_type": "code",
   "execution_count": 66,
   "id": "33dd0a39",
   "metadata": {},
   "outputs": [],
   "source": [
    "for i in range(0,500):\n",
    "    try:\n",
    "        datetime.strptime(data.iloc[:,i].name, '%Y-%m')\n",
    "        date_col_name = data.iloc[:,i].name\n",
    "        break\n",
    "    except:\n",
    "        i+=1\n",
    "\n",
    "X = data.drop([date_col_name, 'RegionName', 'City', 'State'], axis=1)\n",
    "y = data[date_col_name]"
   ]
  },
  {
   "cell_type": "code",
   "execution_count": 67,
   "id": "7a6d9aa9",
   "metadata": {},
   "outputs": [
    {
     "data": {
      "text/html": [
       "<div>\n",
       "<style scoped>\n",
       "    .dataframe tbody tr th:only-of-type {\n",
       "        vertical-align: middle;\n",
       "    }\n",
       "\n",
       "    .dataframe tbody tr th {\n",
       "        vertical-align: top;\n",
       "    }\n",
       "\n",
       "    .dataframe thead th {\n",
       "        text-align: right;\n",
       "    }\n",
       "</style>\n",
       "<table border=\"1\" class=\"dataframe\">\n",
       "  <thead>\n",
       "    <tr style=\"text-align: right;\">\n",
       "      <th></th>\n",
       "      <th>total_pop</th>\n",
       "      <th>households</th>\n",
       "      <th>male_pop</th>\n",
       "      <th>female_pop</th>\n",
       "      <th>median_age</th>\n",
       "      <th>male_under_5</th>\n",
       "      <th>male_5_to_9</th>\n",
       "      <th>male_10_to_14</th>\n",
       "      <th>male_15_to_17</th>\n",
       "      <th>male_18_to_19</th>\n",
       "      <th>...</th>\n",
       "      <th>occupation_production_transportation_material</th>\n",
       "      <th>occupation_sales_office</th>\n",
       "      <th>occupation_services</th>\n",
       "      <th>management_business_sci_arts_employed</th>\n",
       "      <th>sales_office_employed</th>\n",
       "      <th>in_grades_1_to_4</th>\n",
       "      <th>in_grades_5_to_8</th>\n",
       "      <th>in_grades_9_to_12</th>\n",
       "      <th>in_school</th>\n",
       "      <th>in_undergrad_college</th>\n",
       "    </tr>\n",
       "  </thead>\n",
       "  <tbody>\n",
       "    <tr>\n",
       "      <th>0</th>\n",
       "      <td>92805.0</td>\n",
       "      <td>41910.0</td>\n",
       "      <td>41890.0</td>\n",
       "      <td>50915.0</td>\n",
       "      <td>41.3</td>\n",
       "      <td>1811.0</td>\n",
       "      <td>1442.0</td>\n",
       "      <td>1812.0</td>\n",
       "      <td>848.0</td>\n",
       "      <td>823.0</td>\n",
       "      <td>...</td>\n",
       "      <td>1768.0</td>\n",
       "      <td>7237.0</td>\n",
       "      <td>5557.0</td>\n",
       "      <td>32166.0</td>\n",
       "      <td>7237.0</td>\n",
       "      <td>2694.0</td>\n",
       "      <td>3403.0</td>\n",
       "      <td>2356.0</td>\n",
       "      <td>22134.0</td>\n",
       "      <td>6152.0</td>\n",
       "    </tr>\n",
       "    <tr>\n",
       "      <th>1</th>\n",
       "      <td>70052.0</td>\n",
       "      <td>36624.0</td>\n",
       "      <td>35414.0</td>\n",
       "      <td>34638.0</td>\n",
       "      <td>31.2</td>\n",
       "      <td>1978.0</td>\n",
       "      <td>1151.0</td>\n",
       "      <td>1122.0</td>\n",
       "      <td>275.0</td>\n",
       "      <td>96.0</td>\n",
       "      <td>...</td>\n",
       "      <td>1525.0</td>\n",
       "      <td>10249.0</td>\n",
       "      <td>4323.0</td>\n",
       "      <td>33882.0</td>\n",
       "      <td>10249.0</td>\n",
       "      <td>1552.0</td>\n",
       "      <td>1591.0</td>\n",
       "      <td>812.0</td>\n",
       "      <td>12522.0</td>\n",
       "      <td>3196.0</td>\n",
       "    </tr>\n",
       "    <tr>\n",
       "      <th>2</th>\n",
       "      <td>62435.0</td>\n",
       "      <td>33693.0</td>\n",
       "      <td>27151.0</td>\n",
       "      <td>35284.0</td>\n",
       "      <td>43.3</td>\n",
       "      <td>1583.0</td>\n",
       "      <td>1029.0</td>\n",
       "      <td>993.0</td>\n",
       "      <td>408.0</td>\n",
       "      <td>471.0</td>\n",
       "      <td>...</td>\n",
       "      <td>828.0</td>\n",
       "      <td>6925.0</td>\n",
       "      <td>1922.0</td>\n",
       "      <td>25796.0</td>\n",
       "      <td>6925.0</td>\n",
       "      <td>1429.0</td>\n",
       "      <td>1782.0</td>\n",
       "      <td>1069.0</td>\n",
       "      <td>10397.0</td>\n",
       "      <td>2595.0</td>\n",
       "    </tr>\n",
       "    <tr>\n",
       "      <th>3</th>\n",
       "      <td>114989.0</td>\n",
       "      <td>35342.0</td>\n",
       "      <td>55688.0</td>\n",
       "      <td>59301.0</td>\n",
       "      <td>34.9</td>\n",
       "      <td>4326.0</td>\n",
       "      <td>5416.0</td>\n",
       "      <td>5466.0</td>\n",
       "      <td>3673.0</td>\n",
       "      <td>886.0</td>\n",
       "      <td>...</td>\n",
       "      <td>1980.0</td>\n",
       "      <td>9323.0</td>\n",
       "      <td>4805.0</td>\n",
       "      <td>34386.0</td>\n",
       "      <td>9323.0</td>\n",
       "      <td>9079.0</td>\n",
       "      <td>9539.0</td>\n",
       "      <td>8093.0</td>\n",
       "      <td>39508.0</td>\n",
       "      <td>5843.0</td>\n",
       "    </tr>\n",
       "    <tr>\n",
       "      <th>4</th>\n",
       "      <td>71308.0</td>\n",
       "      <td>33584.0</td>\n",
       "      <td>35945.0</td>\n",
       "      <td>35363.0</td>\n",
       "      <td>30.3</td>\n",
       "      <td>2157.0</td>\n",
       "      <td>1308.0</td>\n",
       "      <td>1285.0</td>\n",
       "      <td>437.0</td>\n",
       "      <td>1073.0</td>\n",
       "      <td>...</td>\n",
       "      <td>1136.0</td>\n",
       "      <td>10501.0</td>\n",
       "      <td>3125.0</td>\n",
       "      <td>32035.0</td>\n",
       "      <td>10501.0</td>\n",
       "      <td>2140.0</td>\n",
       "      <td>1853.0</td>\n",
       "      <td>1448.0</td>\n",
       "      <td>15963.0</td>\n",
       "      <td>5459.0</td>\n",
       "    </tr>\n",
       "    <tr>\n",
       "      <th>...</th>\n",
       "      <td>...</td>\n",
       "      <td>...</td>\n",
       "      <td>...</td>\n",
       "      <td>...</td>\n",
       "      <td>...</td>\n",
       "      <td>...</td>\n",
       "      <td>...</td>\n",
       "      <td>...</td>\n",
       "      <td>...</td>\n",
       "      <td>...</td>\n",
       "      <td>...</td>\n",
       "      <td>...</td>\n",
       "      <td>...</td>\n",
       "      <td>...</td>\n",
       "      <td>...</td>\n",
       "      <td>...</td>\n",
       "      <td>...</td>\n",
       "      <td>...</td>\n",
       "      <td>...</td>\n",
       "      <td>...</td>\n",
       "      <td>...</td>\n",
       "    </tr>\n",
       "    <tr>\n",
       "      <th>1856</th>\n",
       "      <td>2059.0</td>\n",
       "      <td>1344.0</td>\n",
       "      <td>1130.0</td>\n",
       "      <td>929.0</td>\n",
       "      <td>32.2</td>\n",
       "      <td>0.0</td>\n",
       "      <td>7.0</td>\n",
       "      <td>12.0</td>\n",
       "      <td>29.0</td>\n",
       "      <td>0.0</td>\n",
       "      <td>...</td>\n",
       "      <td>35.0</td>\n",
       "      <td>315.0</td>\n",
       "      <td>84.0</td>\n",
       "      <td>1164.0</td>\n",
       "      <td>315.0</td>\n",
       "      <td>15.0</td>\n",
       "      <td>20.0</td>\n",
       "      <td>44.0</td>\n",
       "      <td>246.0</td>\n",
       "      <td>36.0</td>\n",
       "    </tr>\n",
       "    <tr>\n",
       "      <th>1857</th>\n",
       "      <td>7357.0</td>\n",
       "      <td>1973.0</td>\n",
       "      <td>3376.0</td>\n",
       "      <td>3981.0</td>\n",
       "      <td>21.9</td>\n",
       "      <td>298.0</td>\n",
       "      <td>212.0</td>\n",
       "      <td>318.0</td>\n",
       "      <td>207.0</td>\n",
       "      <td>292.0</td>\n",
       "      <td>...</td>\n",
       "      <td>417.0</td>\n",
       "      <td>700.0</td>\n",
       "      <td>467.0</td>\n",
       "      <td>1200.0</td>\n",
       "      <td>700.0</td>\n",
       "      <td>279.0</td>\n",
       "      <td>430.0</td>\n",
       "      <td>493.0</td>\n",
       "      <td>3385.0</td>\n",
       "      <td>1816.0</td>\n",
       "    </tr>\n",
       "    <tr>\n",
       "      <th>1858</th>\n",
       "      <td>2536.0</td>\n",
       "      <td>1595.0</td>\n",
       "      <td>1142.0</td>\n",
       "      <td>1394.0</td>\n",
       "      <td>45.3</td>\n",
       "      <td>31.0</td>\n",
       "      <td>24.0</td>\n",
       "      <td>26.0</td>\n",
       "      <td>32.0</td>\n",
       "      <td>10.0</td>\n",
       "      <td>...</td>\n",
       "      <td>30.0</td>\n",
       "      <td>279.0</td>\n",
       "      <td>38.0</td>\n",
       "      <td>1067.0</td>\n",
       "      <td>279.0</td>\n",
       "      <td>2.0</td>\n",
       "      <td>43.0</td>\n",
       "      <td>121.0</td>\n",
       "      <td>447.0</td>\n",
       "      <td>93.0</td>\n",
       "    </tr>\n",
       "    <tr>\n",
       "      <th>1859</th>\n",
       "      <td>4403.0</td>\n",
       "      <td>1485.0</td>\n",
       "      <td>2462.0</td>\n",
       "      <td>1941.0</td>\n",
       "      <td>37.6</td>\n",
       "      <td>167.0</td>\n",
       "      <td>128.0</td>\n",
       "      <td>145.0</td>\n",
       "      <td>204.0</td>\n",
       "      <td>126.0</td>\n",
       "      <td>...</td>\n",
       "      <td>334.0</td>\n",
       "      <td>343.0</td>\n",
       "      <td>331.0</td>\n",
       "      <td>515.0</td>\n",
       "      <td>343.0</td>\n",
       "      <td>201.0</td>\n",
       "      <td>225.0</td>\n",
       "      <td>327.0</td>\n",
       "      <td>1154.0</td>\n",
       "      <td>231.0</td>\n",
       "    </tr>\n",
       "    <tr>\n",
       "      <th>1860</th>\n",
       "      <td>970.0</td>\n",
       "      <td>678.0</td>\n",
       "      <td>326.0</td>\n",
       "      <td>644.0</td>\n",
       "      <td>49.1</td>\n",
       "      <td>0.0</td>\n",
       "      <td>0.0</td>\n",
       "      <td>0.0</td>\n",
       "      <td>0.0</td>\n",
       "      <td>0.0</td>\n",
       "      <td>...</td>\n",
       "      <td>22.0</td>\n",
       "      <td>109.0</td>\n",
       "      <td>81.0</td>\n",
       "      <td>472.0</td>\n",
       "      <td>109.0</td>\n",
       "      <td>0.0</td>\n",
       "      <td>0.0</td>\n",
       "      <td>0.0</td>\n",
       "      <td>52.0</td>\n",
       "      <td>14.0</td>\n",
       "    </tr>\n",
       "  </tbody>\n",
       "</table>\n",
       "<p>1858 rows × 228 columns</p>\n",
       "</div>"
      ],
      "text/plain": [
       "      total_pop  households  male_pop  female_pop  median_age  male_under_5  \\\n",
       "0       92805.0     41910.0   41890.0     50915.0        41.3        1811.0   \n",
       "1       70052.0     36624.0   35414.0     34638.0        31.2        1978.0   \n",
       "2       62435.0     33693.0   27151.0     35284.0        43.3        1583.0   \n",
       "3      114989.0     35342.0   55688.0     59301.0        34.9        4326.0   \n",
       "4       71308.0     33584.0   35945.0     35363.0        30.3        2157.0   \n",
       "...         ...         ...       ...         ...         ...           ...   \n",
       "1856     2059.0      1344.0    1130.0       929.0        32.2           0.0   \n",
       "1857     7357.0      1973.0    3376.0      3981.0        21.9         298.0   \n",
       "1858     2536.0      1595.0    1142.0      1394.0        45.3          31.0   \n",
       "1859     4403.0      1485.0    2462.0      1941.0        37.6         167.0   \n",
       "1860      970.0       678.0     326.0       644.0        49.1           0.0   \n",
       "\n",
       "      male_5_to_9  male_10_to_14  male_15_to_17  male_18_to_19  ...  \\\n",
       "0          1442.0         1812.0          848.0          823.0  ...   \n",
       "1          1151.0         1122.0          275.0           96.0  ...   \n",
       "2          1029.0          993.0          408.0          471.0  ...   \n",
       "3          5416.0         5466.0         3673.0          886.0  ...   \n",
       "4          1308.0         1285.0          437.0         1073.0  ...   \n",
       "...           ...            ...            ...            ...  ...   \n",
       "1856          7.0           12.0           29.0            0.0  ...   \n",
       "1857        212.0          318.0          207.0          292.0  ...   \n",
       "1858         24.0           26.0           32.0           10.0  ...   \n",
       "1859        128.0          145.0          204.0          126.0  ...   \n",
       "1860          0.0            0.0            0.0            0.0  ...   \n",
       "\n",
       "      occupation_production_transportation_material  occupation_sales_office  \\\n",
       "0                                            1768.0                   7237.0   \n",
       "1                                            1525.0                  10249.0   \n",
       "2                                             828.0                   6925.0   \n",
       "3                                            1980.0                   9323.0   \n",
       "4                                            1136.0                  10501.0   \n",
       "...                                             ...                      ...   \n",
       "1856                                           35.0                    315.0   \n",
       "1857                                          417.0                    700.0   \n",
       "1858                                           30.0                    279.0   \n",
       "1859                                          334.0                    343.0   \n",
       "1860                                           22.0                    109.0   \n",
       "\n",
       "      occupation_services  management_business_sci_arts_employed  \\\n",
       "0                  5557.0                                32166.0   \n",
       "1                  4323.0                                33882.0   \n",
       "2                  1922.0                                25796.0   \n",
       "3                  4805.0                                34386.0   \n",
       "4                  3125.0                                32035.0   \n",
       "...                   ...                                    ...   \n",
       "1856                 84.0                                 1164.0   \n",
       "1857                467.0                                 1200.0   \n",
       "1858                 38.0                                 1067.0   \n",
       "1859                331.0                                  515.0   \n",
       "1860                 81.0                                  472.0   \n",
       "\n",
       "      sales_office_employed  in_grades_1_to_4  in_grades_5_to_8  \\\n",
       "0                    7237.0            2694.0            3403.0   \n",
       "1                   10249.0            1552.0            1591.0   \n",
       "2                    6925.0            1429.0            1782.0   \n",
       "3                    9323.0            9079.0            9539.0   \n",
       "4                   10501.0            2140.0            1853.0   \n",
       "...                     ...               ...               ...   \n",
       "1856                  315.0              15.0              20.0   \n",
       "1857                  700.0             279.0             430.0   \n",
       "1858                  279.0               2.0              43.0   \n",
       "1859                  343.0             201.0             225.0   \n",
       "1860                  109.0               0.0               0.0   \n",
       "\n",
       "      in_grades_9_to_12  in_school  in_undergrad_college  \n",
       "0                2356.0    22134.0                6152.0  \n",
       "1                 812.0    12522.0                3196.0  \n",
       "2                1069.0    10397.0                2595.0  \n",
       "3                8093.0    39508.0                5843.0  \n",
       "4                1448.0    15963.0                5459.0  \n",
       "...                 ...        ...                   ...  \n",
       "1856               44.0      246.0                  36.0  \n",
       "1857              493.0     3385.0                1816.0  \n",
       "1858              121.0      447.0                  93.0  \n",
       "1859              327.0     1154.0                 231.0  \n",
       "1860                0.0       52.0                  14.0  \n",
       "\n",
       "[1858 rows x 228 columns]"
      ]
     },
     "execution_count": 67,
     "metadata": {},
     "output_type": "execute_result"
    }
   ],
   "source": [
    "X"
   ]
  },
  {
   "cell_type": "code",
   "execution_count": 72,
   "id": "4f01c0c2",
   "metadata": {},
   "outputs": [
    {
     "name": "stdout",
     "output_type": "stream",
     "text": [
      "Fitting 5 folds for each of 100 candidates, totalling 500 fits\n"
     ]
    },
    {
     "data": {
      "text/plain": [
       "GridSearchCV(cv=5, estimator=Lasso(normalize=True), n_jobs=-1,\n",
       "             param_grid={'alpha': array([  0.        ,   1.01010101,   2.02020202,   3.03030303,\n",
       "         4.04040404,   5.05050505,   6.06060606,   7.07070707,\n",
       "         8.08080808,   9.09090909,  10.1010101 ,  11.11111111,\n",
       "        12.12121212,  13.13131313,  14.14141414,  15.15151515,\n",
       "        16.16161616,  17.17171717,  18.18181818,  19.19191919,\n",
       "        20.2020202 ,  21.21212121,  22.22222222,  23.2323...\n",
       "        72.72727273,  73.73737374,  74.74747475,  75.75757576,\n",
       "        76.76767677,  77.77777778,  78.78787879,  79.7979798 ,\n",
       "        80.80808081,  81.81818182,  82.82828283,  83.83838384,\n",
       "        84.84848485,  85.85858586,  86.86868687,  87.87878788,\n",
       "        88.88888889,  89.8989899 ,  90.90909091,  91.91919192,\n",
       "        92.92929293,  93.93939394,  94.94949495,  95.95959596,\n",
       "        96.96969697,  97.97979798,  98.98989899, 100.        ])},\n",
       "             return_train_score=True, scoring='r2', verbose=2)"
      ]
     },
     "execution_count": 72,
     "metadata": {},
     "output_type": "execute_result"
    }
   ],
   "source": [
    "lasso = Lasso(normalize=True, max_iter=1000)\n",
    "lasso_params = {'alpha':np.linspace(0,100,100)}\n",
    "grid_lasso = GridSearchCV(lasso, lasso_params, scoring='r2', n_jobs=-1, cv=5, verbose=2)\n",
    "\n",
    "grid_lasso.fit(X, y)"
   ]
  },
  {
   "cell_type": "code",
   "execution_count": 78,
   "id": "52b274bf",
   "metadata": {},
   "outputs": [
    {
     "data": {
      "text/plain": [
       "1.0101010101010102"
      ]
     },
     "execution_count": 78,
     "metadata": {},
     "output_type": "execute_result"
    }
   ],
   "source": [
    "grid_lasso.best_params_['alpha']"
   ]
  },
  {
   "cell_type": "code",
   "execution_count": 73,
   "id": "2fc4ff1d",
   "metadata": {},
   "outputs": [
    {
     "data": {
      "text/plain": [
       "0.605816069780345"
      ]
     },
     "execution_count": 73,
     "metadata": {},
     "output_type": "execute_result"
    }
   ],
   "source": [
    "grid_lasso.score(X,y)"
   ]
  },
  {
   "cell_type": "code",
   "execution_count": 77,
   "id": "c59cecc7",
   "metadata": {},
   "outputs": [
    {
     "data": {
      "text/plain": [
       "array([0.83129275, 0.82774072, 0.85928768, 0.28358486, 0.80651477])"
      ]
     },
     "execution_count": 77,
     "metadata": {},
     "output_type": "execute_result"
    }
   ],
   "source": [
    "cross_val_score(grid_lasso, X, y, scoring='r2', n_jobs=-1, cv=5)"
   ]
  },
  {
   "cell_type": "code",
   "execution_count": null,
   "id": "44011fb0",
   "metadata": {},
   "outputs": [],
   "source": []
  },
  {
   "cell_type": "markdown",
   "id": "e7fbdfc6",
   "metadata": {},
   "source": [
    "# Maybe go log price??"
   ]
  },
  {
   "cell_type": "code",
   "execution_count": 55,
   "id": "bda3e98a",
   "metadata": {},
   "outputs": [
    {
     "data": {
      "image/png": "[encoded data removed]",
      "text/plain": [
       "<Figure size 432x288 with 1 Axes>"
      ]
     },
     "metadata": {
      "needs_background": "light"
     },
     "output_type": "display_data"
    }
   ],
   "source": [
    "plt.hist(y, bins=500)\n",
    "plt.xlim(0,5000)\n",
    "plt.title('Rental Index by Zip Code. There is an unshown outlier at 17k')\n",
    "plt.show()"
   ]
  },
  {
   "cell_type": "code",
   "execution_count": 56,
   "id": "b34150f8",
   "metadata": {},
   "outputs": [
    {
     "data": {
      "image/png": "[encoded data removed]",
      "text/plain": [
       "<Figure size 432x288 with 1 Axes>"
      ]
     },
     "metadata": {
      "needs_background": "light"
     },
     "output_type": "display_data"
    }
   ],
   "source": [
    "plt.hist(np.log(y), bins=100)\n",
    "plt.title('ln(Rental Indox) by Zip Code')\n",
    "plt.show()"
   ]
  },
  {
   "cell_type": "markdown",
   "id": "f4be9ecd",
   "metadata": {},
   "source": [
    "## What is an outlier?"
   ]
  },
  {
   "cell_type": "code",
   "execution_count": 42,
   "id": "8b07d59e",
   "metadata": {},
   "outputs": [
    {
     "data": {
      "text/plain": [
       "30"
      ]
     },
     "execution_count": 42,
     "metadata": {},
     "output_type": "execute_result"
    }
   ],
   "source": [
    "len(y[y>3500])"
   ]
  },
  {
   "cell_type": "code",
   "execution_count": 43,
   "id": "29f1faad",
   "metadata": {},
   "outputs": [
    {
     "data": {
      "text/plain": [
       "1858"
      ]
     },
     "execution_count": 43,
     "metadata": {},
     "output_type": "execute_result"
    }
   ],
   "source": [
    "len(y)"
   ]
  },
  {
   "cell_type": "code",
   "execution_count": 48,
   "id": "79852e6f",
   "metadata": {},
   "outputs": [
    {
     "data": {
      "text/plain": [
       "0.3845720106469143"
      ]
     },
     "execution_count": 48,
     "metadata": {},
     "output_type": "execute_result"
    }
   ],
   "source": [
    "np.std(np.log(y))"
   ]
  },
  {
   "cell_type": "code",
   "execution_count": 49,
   "id": "13d1a9c7",
   "metadata": {},
   "outputs": [
    {
     "data": {
      "text/plain": [
       "7.329237791578592"
      ]
     },
     "execution_count": 49,
     "metadata": {},
     "output_type": "execute_result"
    }
   ],
   "source": [
    "np.mean(np.log(y))"
   ]
  },
  {
   "cell_type": "code",
   "execution_count": 50,
   "id": "226159f5",
   "metadata": {},
   "outputs": [
    {
     "data": {
      "text/plain": [
       "8.482953823519335"
      ]
     },
     "execution_count": 50,
     "metadata": {},
     "output_type": "execute_result"
    }
   ],
   "source": [
    "np.mean(np.log(y)) + 3*np.std(np.log(y))"
   ]
  },
  {
   "cell_type": "code",
   "execution_count": 51,
   "id": "9bb9fbff",
   "metadata": {},
   "outputs": [
    {
     "data": {
      "text/plain": [
       "4831.700830689226"
      ]
     },
     "execution_count": 51,
     "metadata": {},
     "output_type": "execute_result"
    }
   ],
   "source": [
    "np.exp(np.mean(np.log(y)) + 3*np.std(np.log(y)))"
   ]
  }
 ],
 "metadata": {
  "kernelspec": {
   "display_name": "Python 3",
   "language": "python",
   "name": "python3"
  },
  "language_info": {
   "codemirror_mode": {
    "name": "ipython",
    "version": 3
   },
   "file_extension": ".py",
   "mimetype": "text/x-python",
   "name": "python",
   "nbconvert_exporter": "python",
   "pygments_lexer": "ipython3",
   "version": "3.8.8"
  }
 },
 "nbformat": 4,
 "nbformat_minor": 5
}
