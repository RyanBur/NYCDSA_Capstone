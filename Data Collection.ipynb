{
 "cells": [
  {
   "cell_type": "code",
   "execution_count": 1,
   "metadata": {},
   "outputs": [],
   "source": [
    "import numpy as np\n",
    "import pandas as pd\n",
    "import matplotlib.pyplot as plt\n",
    "import seaborn as sns\n",
    "from sklearn.model_selection import train_test_split\n"
   ]
  },
  {
   "cell_type": "code",
   "execution_count": 2,
   "metadata": {},
   "outputs": [],
   "source": [
    "def dataclean(zillow_yvalues_data,census_data,date):\n",
    "    # takes in the zillow data with all the years and acs census data of two years before \n",
    "    # year to predict and date formatted '2020-01' and joins the census on zillow and cleans \n",
    "    \n",
    "    \n",
    "    zillow_yvalues_data_yearsubsect=zillow_yvalues_data[['RegionName','City','State',date]]\n",
    "    fulldata=zillow_yvalues_data_yearsubsect.merge(census_data,how='left',left_on='RegionName', right_on='geo_id' ).drop(['geo_id'],axis=1)\n",
    "    fulldata=fulldata[fulldata[date].isna()!=1]\n",
    "    #drop column if >20% are nas \n",
    "    cols_to_drop=['do_date']\n",
    "    for i in fulldata.columns:\n",
    "\n",
    "        if sum(fulldata[i].isna())/len(fulldata)> .2:\n",
    "            cols_to_drop.append(i)\n",
    "    print(cols_to_drop)\n",
    "    fulldata=fulldata.drop(cols_to_drop,axis=1)\n",
    "    #drop rows with more than 50% nas\n",
    "    #in this jan2020was one row\n",
    "    fulldata=fulldata.loc[fulldata.isna().sum(axis=1)<.5*len(fulldata.columns)]\n",
    "    #num of missing values in columns\n",
    "    countofcols=0\n",
    "    cols_with_na=[]\n",
    "    for i in fulldata.columns:\n",
    "        if i in cols_to_drop:\n",
    "            print(i)\n",
    "        elif sum(fulldata[i].isna())>0:\n",
    "#             print('Column:',i)\n",
    "#             print('Num of NAs:',sum(fulldata[i].isna()))\n",
    "#             print('Num of 0s:',sum(fulldata[i]==0))\n",
    "            cols_with_na.append(i)\n",
    "            countofcols+=1\n",
    "    #fill in nas with avrg of the column for the city \n",
    "    for i in cols_with_na:\n",
    "        for indexofna in (list(fulldata[i][fulldata[i].isna()].index)):\n",
    "\n",
    "            if bool(~(fulldata[fulldata.City==fulldata.loc[indexofna,'City']][i].mean()==fulldata[fulldata.City==fulldata.loc[indexofna,'City']][i].mean())):\n",
    "                fulldata.loc[indexofna,i]=fulldata[fulldata.State==fulldata.loc[indexofna,'State']][i].mean()\n",
    "                \n",
    "            else:\n",
    "                fulldata.loc[indexofna,i]=fulldata[fulldata.City==fulldata.loc[indexofna,'City']][i].mean()\n",
    "                \n",
    "    \n",
    "    return fulldata"
   ]
  },
  {
   "cell_type": "code",
   "execution_count": 4,
   "metadata": {},
   "outputs": [],
   "source": [
    "#fulldata=dataclean(zillow_yvalues_data,census_data,date)"
   ]
  },
  {
   "cell_type": "markdown",
   "metadata": {},
   "source": [
    "# Assembling training data w yvals from 2011-2017 and before \n",
    "-means census data from 2015 and before \n"
   ]
  },
  {
   "cell_type": "code",
   "execution_count": 5,
   "metadata": {},
   "outputs": [],
   "source": [
    "\n",
    "#load and interpolate vals from ZRI\n",
    "df = pd.read_csv('Zip_Zri_MultiFamilyResidenceRental-2.csv')\n",
    "zillow_yvalues_data=pd.merge(df.iloc[:,0:7], df.iloc[:,8:].interpolate(axis=1), left_index=True, right_index=True)\n",
    "\n"
   ]
  },
  {
   "cell_type": "code",
   "execution_count": 6,
   "metadata": {},
   "outputs": [
    {
     "name": "stdout",
     "output_type": "stream",
     "text": [
      "['do_date', 'geoid']\n"
     ]
    }
   ],
   "source": [
    "\n",
    "census_data= pd.read_csv('acs_data/acs2015.csv')\n",
    "date='2017-01'\n",
    "fulldata2017=dataclean(zillow_yvalues_data,census_data,date)\n",
    "fulldata2017['RegionName']=fulldata2017['RegionName'].astype(str)+'-'+date\n",
    "fulldata2017=fulldata2017.rename(columns={date: 'Rent'})"
   ]
  },
  {
   "cell_type": "code",
   "execution_count": 7,
   "metadata": {},
   "outputs": [
    {
     "name": "stdout",
     "output_type": "stream",
     "text": [
      "['do_date']\n"
     ]
    }
   ],
   "source": [
    "census_data= pd.read_csv('acs_data/acs2014.csv')\n",
    "date='2016-01'\n",
    "fulldata2016=dataclean(zillow_yvalues_data,census_data,date)\n",
    "\n",
    "fulldata2016['RegionName']=fulldata2016['RegionName'].astype(str)+'-'+date\n",
    "fulldata2016=fulldata2016.rename(columns={date: 'Rent'})"
   ]
  },
  {
   "cell_type": "code",
   "execution_count": 8,
   "metadata": {},
   "outputs": [
    {
     "name": "stdout",
     "output_type": "stream",
     "text": [
      "['do_date']\n"
     ]
    }
   ],
   "source": [
    "census_data= pd.read_csv('acs_data/acs2013.csv')\n",
    "date='2015-01'\n",
    "fulldata2015=dataclean(zillow_yvalues_data,census_data,date)\n",
    "fulldata2015['RegionName']=fulldata2015['RegionName'].astype(str)+'-'+date\n",
    "fulldata2015=fulldata2015.rename(columns={date: 'Rent'})"
   ]
  },
  {
   "cell_type": "code",
   "execution_count": 9,
   "metadata": {},
   "outputs": [
    {
     "name": "stdout",
     "output_type": "stream",
     "text": [
      "['do_date']\n"
     ]
    }
   ],
   "source": [
    "census_data= pd.read_csv('acs_data/acs2012.csv')\n",
    "date='2014-01'\n",
    "fulldata2014=dataclean(zillow_yvalues_data,census_data,date)\n",
    "fulldata2014['RegionName']=fulldata2014['RegionName'].astype(str)+'-'+date\n",
    "fulldata2014=fulldata2014.rename(columns={date: 'Rent'})"
   ]
  },
  {
   "cell_type": "code",
   "execution_count": 10,
   "metadata": {},
   "outputs": [
    {
     "name": "stdout",
     "output_type": "stream",
     "text": [
      "['do_date', 'associates_degree', 'bachelors_degree', 'high_school_diploma', 'less_one_year_college', 'masters_degree', 'one_year_more_college', 'pop_25_years_over']\n"
     ]
    }
   ],
   "source": [
    "census_data= pd.read_csv('acs_data/acs2011.csv')\n",
    "date='2013-01'\n",
    "fulldata2013=dataclean(zillow_yvalues_data,census_data,date)\n",
    "fulldata2013['RegionName']=fulldata2013['RegionName'].astype(str)+'-'+date\n",
    "fulldata2013=fulldata2013.rename(columns={date: 'Rent'})"
   ]
  },
  {
   "cell_type": "code",
   "execution_count": 11,
   "metadata": {},
   "outputs": [
    {
     "name": "stdout",
     "output_type": "stream",
     "text": [
      "['do_date', 'pop_5_years_over', 'speak_only_english_at_home', 'speak_spanish_at_home', 'speak_spanish_at_home_low_english', 'pop_15_and_over', 'pop_never_married', 'pop_now_married', 'pop_separated', 'pop_widowed', 'pop_divorced']\n"
     ]
    }
   ],
   "source": [
    "census_data= pd.read_csv('acs_data/acs2016.csv')\n",
    "date='2018-01'\n",
    "fulldata2018=dataclean(zillow_yvalues_data,census_data,date)\n",
    "fulldata2018['RegionName']=fulldata2018['RegionName'].astype(str)+'-'+date\n",
    "fulldata2018=fulldata2018.rename(columns={date: 'Rent'})"
   ]
  },
  {
   "cell_type": "code",
   "execution_count": 12,
   "metadata": {},
   "outputs": [
    {
     "name": "stdout",
     "output_type": "stream",
     "text": [
      "['do_date', 'pop_5_years_over', 'speak_only_english_at_home', 'speak_spanish_at_home', 'speak_spanish_at_home_low_english', 'pop_15_and_over', 'pop_never_married', 'pop_now_married', 'pop_separated', 'pop_widowed', 'pop_divorced']\n"
     ]
    }
   ],
   "source": [
    "census_data= pd.read_csv('acs_data/acs2017.csv')\n",
    "date='2019-01'\n",
    "fulldata2019=dataclean(zillow_yvalues_data,census_data,date)\n",
    "fulldata2019['RegionName']=fulldata2019['RegionName'].astype(str)+'-'+date\n",
    "fulldata2019=fulldata2017.rename(columns={date: 'Rent'})"
   ]
  },
  {
   "cell_type": "code",
   "execution_count": 13,
   "metadata": {},
   "outputs": [
    {
     "name": "stdout",
     "output_type": "stream",
     "text": [
      "['do_date', 'pop_5_years_over', 'pop_15_and_over', 'pop_never_married', 'pop_now_married', 'pop_separated', 'pop_widowed', 'pop_divorced', 'speak_only_english_at_home', 'speak_spanish_at_home', 'speak_spanish_at_home_low_english']\n"
     ]
    }
   ],
   "source": [
    "census_data= pd.read_csv('acs_data/acs2018.csv')\n",
    "date='2020-01'\n",
    "fulldata2020=dataclean(zillow_yvalues_data,census_data,date)\n",
    "fulldata2020['RegionName']=fulldata2020['RegionName'].astype(str)+'-'+date\n",
    "fulldata2020=fulldata2020.rename(columns={date: 'Rent'})"
   ]
  },
  {
   "cell_type": "code",
   "execution_count": null,
   "metadata": {},
   "outputs": [],
   "source": []
  },
  {
   "cell_type": "code",
   "execution_count": 14,
   "metadata": {},
   "outputs": [],
   "source": [
    "cols_in_common=list(fulldata2017.columns & fulldata2016.columns & fulldata2015.columns & fulldata2014.columns & fulldata2013.columns& fulldata2018.columns & fulldata2019.columns& fulldata2020.columns)\n",
    "\n",
    " "
   ]
  },
  {
   "cell_type": "code",
   "execution_count": 15,
   "metadata": {},
   "outputs": [],
   "source": [
    "fulldata=pd.concat([fulldata2017[cols_in_common], fulldata2016[cols_in_common],fulldata2015[cols_in_common],fulldata2014[cols_in_common],fulldata2013[cols_in_common]], ignore_index=True, sort=False)\n",
    "cols_to_drop=['median_rent']\n",
    "fulldata=fulldata.drop(cols_to_drop,axis=1)"
   ]
  },
  {
   "cell_type": "code",
   "execution_count": 16,
   "metadata": {},
   "outputs": [],
   "source": [
    "#train test split\n",
    "tdata_train, tdata_test = train_test_split(fulldata, test_size=0.33, random_state=100)"
   ]
  },
  {
   "cell_type": "code",
   "execution_count": 17,
   "metadata": {},
   "outputs": [],
   "source": [
    "tdata_train.to_csv('Data_acsTRAIN.csv')\n",
    "tdata_test.to_csv('Data_acsTEST.csv')"
   ]
  },
  {
   "cell_type": "markdown",
   "metadata": {},
   "source": [
    "## Assembling prediction dataset \n",
    "\n"
   ]
  },
  {
   "cell_type": "code",
   "execution_count": 18,
   "metadata": {},
   "outputs": [],
   "source": [
    "fulldatapredict=pd.concat([fulldata2018[cols_in_common], fulldata2019[cols_in_common],fulldata2020[cols_in_common]], ignore_index=True, sort=False)\n",
    "cols_to_drop=['median_rent']\n",
    "fulldatapredict=fulldatapredict.drop(cols_to_drop,axis=1)"
   ]
  },
  {
   "cell_type": "code",
   "execution_count": 19,
   "metadata": {},
   "outputs": [],
   "source": [
    "fulldatapredict.to_csv('Data_acsPREDICT.csv')"
   ]
  },
  {
   "cell_type": "code",
   "execution_count": 20,
   "metadata": {},
   "outputs": [
    {
     "data": {
      "text/html": [
       "<div>\n",
       "<style scoped>\n",
       "    .dataframe tbody tr th:only-of-type {\n",
       "        vertical-align: middle;\n",
       "    }\n",
       "\n",
       "    .dataframe tbody tr th {\n",
       "        vertical-align: top;\n",
       "    }\n",
       "\n",
       "    .dataframe thead th {\n",
       "        text-align: right;\n",
       "    }\n",
       "</style>\n",
       "<table border=\"1\" class=\"dataframe\">\n",
       "  <thead>\n",
       "    <tr style=\"text-align: right;\">\n",
       "      <th></th>\n",
       "      <th>RegionName</th>\n",
       "      <th>City</th>\n",
       "      <th>State</th>\n",
       "      <th>Rent</th>\n",
       "      <th>nonfamily_households</th>\n",
       "      <th>family_households</th>\n",
       "      <th>median_year_structure_built</th>\n",
       "      <th>rent_burden_not_computed</th>\n",
       "      <th>rent_over_50_percent</th>\n",
       "      <th>rent_40_to_50_percent</th>\n",
       "      <th>...</th>\n",
       "      <th>sales_office_employed</th>\n",
       "      <th>some_college_and_associates_degree</th>\n",
       "      <th>walked_to_work</th>\n",
       "      <th>worked_at_home</th>\n",
       "      <th>workers_16_and_over</th>\n",
       "      <th>commute_35_44_mins</th>\n",
       "      <th>commute_60_more_mins</th>\n",
       "      <th>commute_less_10_mins</th>\n",
       "      <th>commuters_16_over</th>\n",
       "      <th>hispanic_any_race</th>\n",
       "    </tr>\n",
       "  </thead>\n",
       "  <tbody>\n",
       "    <tr>\n",
       "      <th>0</th>\n",
       "      <td>10025-2017-01</td>\n",
       "      <td>New York</td>\n",
       "      <td>NY</td>\n",
       "      <td>3771.0</td>\n",
       "      <td>24367.0</td>\n",
       "      <td>19089.0</td>\n",
       "      <td>1939.0</td>\n",
       "      <td>1754.0</td>\n",
       "      <td>7527.0</td>\n",
       "      <td>2472.0</td>\n",
       "      <td>...</td>\n",
       "      <td>7155.0</td>\n",
       "      <td>9118.0</td>\n",
       "      <td>6397.0</td>\n",
       "      <td>3235.0</td>\n",
       "      <td>48892.0</td>\n",
       "      <td>6084.0</td>\n",
       "      <td>4294.0</td>\n",
       "      <td>2468.0</td>\n",
       "      <td>45657.0</td>\n",
       "      <td>21349.0</td>\n",
       "    </tr>\n",
       "    <tr>\n",
       "      <th>1</th>\n",
       "      <td>60657-2017-01</td>\n",
       "      <td>Chicago</td>\n",
       "      <td>IL</td>\n",
       "      <td>1770.0</td>\n",
       "      <td>25743.0</td>\n",
       "      <td>11011.0</td>\n",
       "      <td>1954.0</td>\n",
       "      <td>837.0</td>\n",
       "      <td>4002.0</td>\n",
       "      <td>1476.0</td>\n",
       "      <td>...</td>\n",
       "      <td>11098.0</td>\n",
       "      <td>6490.0</td>\n",
       "      <td>2549.0</td>\n",
       "      <td>3511.0</td>\n",
       "      <td>48723.0</td>\n",
       "      <td>6809.0</td>\n",
       "      <td>5175.0</td>\n",
       "      <td>1728.0</td>\n",
       "      <td>45212.0</td>\n",
       "      <td>4193.0</td>\n",
       "    </tr>\n",
       "    <tr>\n",
       "      <th>2</th>\n",
       "      <td>10023-2017-01</td>\n",
       "      <td>New York</td>\n",
       "      <td>NY</td>\n",
       "      <td>3490.0</td>\n",
       "      <td>20407.0</td>\n",
       "      <td>12348.0</td>\n",
       "      <td>1944.0</td>\n",
       "      <td>919.0</td>\n",
       "      <td>3221.0</td>\n",
       "      <td>1943.0</td>\n",
       "      <td>...</td>\n",
       "      <td>6157.0</td>\n",
       "      <td>4360.0</td>\n",
       "      <td>5562.0</td>\n",
       "      <td>3118.0</td>\n",
       "      <td>33862.0</td>\n",
       "      <td>2468.0</td>\n",
       "      <td>1858.0</td>\n",
       "      <td>896.0</td>\n",
       "      <td>30744.0</td>\n",
       "      <td>5880.0</td>\n",
       "    </tr>\n",
       "    <tr>\n",
       "      <th>3</th>\n",
       "      <td>77494-2017-01</td>\n",
       "      <td>Katy</td>\n",
       "      <td>TX</td>\n",
       "      <td>1203.0</td>\n",
       "      <td>3806.0</td>\n",
       "      <td>23386.0</td>\n",
       "      <td>2006.0</td>\n",
       "      <td>57.0</td>\n",
       "      <td>672.0</td>\n",
       "      <td>84.0</td>\n",
       "      <td>...</td>\n",
       "      <td>7271.0</td>\n",
       "      <td>12590.0</td>\n",
       "      <td>57.0</td>\n",
       "      <td>2459.0</td>\n",
       "      <td>39165.0</td>\n",
       "      <td>4029.0</td>\n",
       "      <td>6625.0</td>\n",
       "      <td>2256.0</td>\n",
       "      <td>36706.0</td>\n",
       "      <td>15264.0</td>\n",
       "    </tr>\n",
       "    <tr>\n",
       "      <th>4</th>\n",
       "      <td>60614-2017-01</td>\n",
       "      <td>Chicago</td>\n",
       "      <td>IL</td>\n",
       "      <td>1846.0</td>\n",
       "      <td>22453.0</td>\n",
       "      <td>11252.0</td>\n",
       "      <td>1962.0</td>\n",
       "      <td>696.0</td>\n",
       "      <td>3276.0</td>\n",
       "      <td>1268.0</td>\n",
       "      <td>...</td>\n",
       "      <td>10870.0</td>\n",
       "      <td>4414.0</td>\n",
       "      <td>3037.0</td>\n",
       "      <td>2799.0</td>\n",
       "      <td>45022.0</td>\n",
       "      <td>4162.0</td>\n",
       "      <td>4247.0</td>\n",
       "      <td>1839.0</td>\n",
       "      <td>42223.0</td>\n",
       "      <td>4634.0</td>\n",
       "    </tr>\n",
       "    <tr>\n",
       "      <th>...</th>\n",
       "      <td>...</td>\n",
       "      <td>...</td>\n",
       "      <td>...</td>\n",
       "      <td>...</td>\n",
       "      <td>...</td>\n",
       "      <td>...</td>\n",
       "      <td>...</td>\n",
       "      <td>...</td>\n",
       "      <td>...</td>\n",
       "      <td>...</td>\n",
       "      <td>...</td>\n",
       "      <td>...</td>\n",
       "      <td>...</td>\n",
       "      <td>...</td>\n",
       "      <td>...</td>\n",
       "      <td>...</td>\n",
       "      <td>...</td>\n",
       "      <td>...</td>\n",
       "      <td>...</td>\n",
       "      <td>...</td>\n",
       "      <td>...</td>\n",
       "    </tr>\n",
       "    <tr>\n",
       "      <th>6382</th>\n",
       "      <td>64834-2013-01</td>\n",
       "      <td>Carl Junction</td>\n",
       "      <td>MO</td>\n",
       "      <td>777.0</td>\n",
       "      <td>717.0</td>\n",
       "      <td>2571.0</td>\n",
       "      <td>1992.0</td>\n",
       "      <td>186.0</td>\n",
       "      <td>268.0</td>\n",
       "      <td>28.0</td>\n",
       "      <td>...</td>\n",
       "      <td>992.0</td>\n",
       "      <td>1671.0</td>\n",
       "      <td>13.0</td>\n",
       "      <td>213.0</td>\n",
       "      <td>4276.0</td>\n",
       "      <td>63.0</td>\n",
       "      <td>88.0</td>\n",
       "      <td>226.0</td>\n",
       "      <td>4063.0</td>\n",
       "      <td>147.0</td>\n",
       "    </tr>\n",
       "    <tr>\n",
       "      <th>6383</th>\n",
       "      <td>14208-2013-01</td>\n",
       "      <td>Buffalo</td>\n",
       "      <td>NY</td>\n",
       "      <td>623.0</td>\n",
       "      <td>1945.0</td>\n",
       "      <td>2382.0</td>\n",
       "      <td>1939.0</td>\n",
       "      <td>217.0</td>\n",
       "      <td>901.0</td>\n",
       "      <td>253.0</td>\n",
       "      <td>...</td>\n",
       "      <td>1019.0</td>\n",
       "      <td>2311.0</td>\n",
       "      <td>375.0</td>\n",
       "      <td>86.0</td>\n",
       "      <td>3554.0</td>\n",
       "      <td>20.0</td>\n",
       "      <td>9.0</td>\n",
       "      <td>738.0</td>\n",
       "      <td>3468.0</td>\n",
       "      <td>250.0</td>\n",
       "    </tr>\n",
       "    <tr>\n",
       "      <th>6384</th>\n",
       "      <td>4937-2013-01</td>\n",
       "      <td>Fairfield</td>\n",
       "      <td>ME</td>\n",
       "      <td>840.0</td>\n",
       "      <td>800.0</td>\n",
       "      <td>2002.0</td>\n",
       "      <td>1972.0</td>\n",
       "      <td>51.0</td>\n",
       "      <td>165.0</td>\n",
       "      <td>108.0</td>\n",
       "      <td>...</td>\n",
       "      <td>678.0</td>\n",
       "      <td>1617.0</td>\n",
       "      <td>30.0</td>\n",
       "      <td>294.0</td>\n",
       "      <td>3107.0</td>\n",
       "      <td>102.0</td>\n",
       "      <td>276.0</td>\n",
       "      <td>447.0</td>\n",
       "      <td>2813.0</td>\n",
       "      <td>209.0</td>\n",
       "    </tr>\n",
       "    <tr>\n",
       "      <th>6385</th>\n",
       "      <td>12307-2013-01</td>\n",
       "      <td>Schenectady</td>\n",
       "      <td>NY</td>\n",
       "      <td>877.0</td>\n",
       "      <td>1041.0</td>\n",
       "      <td>1209.0</td>\n",
       "      <td>1939.0</td>\n",
       "      <td>123.0</td>\n",
       "      <td>367.0</td>\n",
       "      <td>250.0</td>\n",
       "      <td>...</td>\n",
       "      <td>759.0</td>\n",
       "      <td>1007.0</td>\n",
       "      <td>183.0</td>\n",
       "      <td>59.0</td>\n",
       "      <td>2186.0</td>\n",
       "      <td>58.0</td>\n",
       "      <td>123.0</td>\n",
       "      <td>436.0</td>\n",
       "      <td>2127.0</td>\n",
       "      <td>833.0</td>\n",
       "    </tr>\n",
       "    <tr>\n",
       "      <th>6386</th>\n",
       "      <td>75202-2013-01</td>\n",
       "      <td>Dallas</td>\n",
       "      <td>TX</td>\n",
       "      <td>1329.0</td>\n",
       "      <td>942.0</td>\n",
       "      <td>239.0</td>\n",
       "      <td>1965.0</td>\n",
       "      <td>24.0</td>\n",
       "      <td>88.0</td>\n",
       "      <td>50.0</td>\n",
       "      <td>...</td>\n",
       "      <td>322.0</td>\n",
       "      <td>456.0</td>\n",
       "      <td>259.0</td>\n",
       "      <td>12.0</td>\n",
       "      <td>1616.0</td>\n",
       "      <td>151.0</td>\n",
       "      <td>144.0</td>\n",
       "      <td>272.0</td>\n",
       "      <td>1604.0</td>\n",
       "      <td>241.0</td>\n",
       "    </tr>\n",
       "  </tbody>\n",
       "</table>\n",
       "<p>6387 rows × 224 columns</p>\n",
       "</div>"
      ],
      "text/plain": [
       "         RegionName           City State    Rent  nonfamily_households  \\\n",
       "0     10025-2017-01       New York    NY  3771.0               24367.0   \n",
       "1     60657-2017-01        Chicago    IL  1770.0               25743.0   \n",
       "2     10023-2017-01       New York    NY  3490.0               20407.0   \n",
       "3     77494-2017-01           Katy    TX  1203.0                3806.0   \n",
       "4     60614-2017-01        Chicago    IL  1846.0               22453.0   \n",
       "...             ...            ...   ...     ...                   ...   \n",
       "6382  64834-2013-01  Carl Junction    MO   777.0                 717.0   \n",
       "6383  14208-2013-01        Buffalo    NY   623.0                1945.0   \n",
       "6384   4937-2013-01      Fairfield    ME   840.0                 800.0   \n",
       "6385  12307-2013-01    Schenectady    NY   877.0                1041.0   \n",
       "6386  75202-2013-01         Dallas    TX  1329.0                 942.0   \n",
       "\n",
       "      family_households  median_year_structure_built  \\\n",
       "0               19089.0                       1939.0   \n",
       "1               11011.0                       1954.0   \n",
       "2               12348.0                       1944.0   \n",
       "3               23386.0                       2006.0   \n",
       "4               11252.0                       1962.0   \n",
       "...                 ...                          ...   \n",
       "6382             2571.0                       1992.0   \n",
       "6383             2382.0                       1939.0   \n",
       "6384             2002.0                       1972.0   \n",
       "6385             1209.0                       1939.0   \n",
       "6386              239.0                       1965.0   \n",
       "\n",
       "      rent_burden_not_computed  rent_over_50_percent  rent_40_to_50_percent  \\\n",
       "0                       1754.0                7527.0                 2472.0   \n",
       "1                        837.0                4002.0                 1476.0   \n",
       "2                        919.0                3221.0                 1943.0   \n",
       "3                         57.0                 672.0                   84.0   \n",
       "4                        696.0                3276.0                 1268.0   \n",
       "...                        ...                   ...                    ...   \n",
       "6382                     186.0                 268.0                   28.0   \n",
       "6383                     217.0                 901.0                  253.0   \n",
       "6384                      51.0                 165.0                  108.0   \n",
       "6385                     123.0                 367.0                  250.0   \n",
       "6386                      24.0                  88.0                   50.0   \n",
       "\n",
       "      ...  sales_office_employed  some_college_and_associates_degree  \\\n",
       "0     ...                 7155.0                              9118.0   \n",
       "1     ...                11098.0                              6490.0   \n",
       "2     ...                 6157.0                              4360.0   \n",
       "3     ...                 7271.0                             12590.0   \n",
       "4     ...                10870.0                              4414.0   \n",
       "...   ...                    ...                                 ...   \n",
       "6382  ...                  992.0                              1671.0   \n",
       "6383  ...                 1019.0                              2311.0   \n",
       "6384  ...                  678.0                              1617.0   \n",
       "6385  ...                  759.0                              1007.0   \n",
       "6386  ...                  322.0                               456.0   \n",
       "\n",
       "      walked_to_work  worked_at_home  workers_16_and_over  commute_35_44_mins  \\\n",
       "0             6397.0          3235.0              48892.0              6084.0   \n",
       "1             2549.0          3511.0              48723.0              6809.0   \n",
       "2             5562.0          3118.0              33862.0              2468.0   \n",
       "3               57.0          2459.0              39165.0              4029.0   \n",
       "4             3037.0          2799.0              45022.0              4162.0   \n",
       "...              ...             ...                  ...                 ...   \n",
       "6382            13.0           213.0               4276.0                63.0   \n",
       "6383           375.0            86.0               3554.0                20.0   \n",
       "6384            30.0           294.0               3107.0               102.0   \n",
       "6385           183.0            59.0               2186.0                58.0   \n",
       "6386           259.0            12.0               1616.0               151.0   \n",
       "\n",
       "      commute_60_more_mins  commute_less_10_mins  commuters_16_over  \\\n",
       "0                   4294.0                2468.0            45657.0   \n",
       "1                   5175.0                1728.0            45212.0   \n",
       "2                   1858.0                 896.0            30744.0   \n",
       "3                   6625.0                2256.0            36706.0   \n",
       "4                   4247.0                1839.0            42223.0   \n",
       "...                    ...                   ...                ...   \n",
       "6382                  88.0                 226.0             4063.0   \n",
       "6383                   9.0                 738.0             3468.0   \n",
       "6384                 276.0                 447.0             2813.0   \n",
       "6385                 123.0                 436.0             2127.0   \n",
       "6386                 144.0                 272.0             1604.0   \n",
       "\n",
       "      hispanic_any_race  \n",
       "0               21349.0  \n",
       "1                4193.0  \n",
       "2                5880.0  \n",
       "3               15264.0  \n",
       "4                4634.0  \n",
       "...                 ...  \n",
       "6382              147.0  \n",
       "6383              250.0  \n",
       "6384              209.0  \n",
       "6385              833.0  \n",
       "6386              241.0  \n",
       "\n",
       "[6387 rows x 224 columns]"
      ]
     },
     "execution_count": 20,
     "metadata": {},
     "output_type": "execute_result"
    }
   ],
   "source": [
    "fulldata"
   ]
  },
  {
   "cell_type": "code",
   "execution_count": null,
   "metadata": {},
   "outputs": [],
   "source": [
    "# def get_yVals(df, date):\n",
    "#     '''\n",
    "#     Enter in your dataframe for Zillow Rent Index, enter in your desired month/year combo for the rent values per zip code \n",
    "#     in the for 'YYYY-MM'. The output is a pandas Series with the zip codes as indexes and the rent index as its values.\n",
    "#     '''\n",
    "#     return pd.merge(df.iloc[:,0:8], df.iloc[:,8:].interpolate(axis=1), left_index=True, right_index=True).set_index('RegionName')[date]"
   ]
  },
  {
   "cell_type": "code",
   "execution_count": null,
   "metadata": {},
   "outputs": [],
   "source": [
    "list(fulldata2017.columns & fulldata2016.columns & fulldata2015.columns & fulldata2014.columns & fulldata2013.columns& fulldata2018.columns & fulldata2019.columns& fulldata2020.columns)\n",
    "\n"
   ]
  },
  {
   "cell_type": "code",
   "execution_count": null,
   "metadata": {},
   "outputs": [],
   "source": []
  },
  {
   "cell_type": "code",
   "execution_count": null,
   "metadata": {},
   "outputs": [],
   "source": [
    "import numpy as np\n",
    "import pandas as pd\n",
    "import matplotlib.pyplot as plt\n",
    "import seaborn as sns\n",
    "from sklearn.model_selection import train_test_split\n",
    "from sklearn.linear_model import LinearRegression,Lasso\n",
    "from sklearn.linear_model import LassoCV\n",
    "from sklearn.preprocessing import StandardScaler\n",
    "from sklearn.metrics import mean_squared_error\n",
    "from sklearn.model_selection import cross_val_score"
   ]
  },
  {
   "cell_type": "code",
   "execution_count": null,
   "metadata": {},
   "outputs": [],
   "source": [
    "#CV LASSO FOR REG DATA\n",
    "cvlasso=LassoCV( alphas=np.linspace(1,1000,100), fit_intercept=True, normalize=False,cv=5)\n",
    "cvlasso.fit(rent_xvals,rent_y_val)\n",
    "\n",
    "lasso=Lasso(alpha=cvlasso.alpha_, fit_intercept=True, normalize=False)\n",
    "\n",
    "print(f'The selected alpha was {cvlasso.alpha_} which gave r^2 of ')\n",
    "print(cross_val_score(lasso, rent_xvals,rent_y_val,  scoring='r2'))"
   ]
  },
  {
   "cell_type": "code",
   "execution_count": null,
   "metadata": {},
   "outputs": [],
   "source": []
  }
 ],
 "metadata": {
  "kernelspec": {
   "display_name": "Python 3",
   "language": "python",
   "name": "python3"
  },
  "language_info": {
   "codemirror_mode": {
    "name": "ipython",
    "version": 3
   },
   "file_extension": ".py",
   "mimetype": "text/x-python",
   "name": "python",
   "nbconvert_exporter": "python",
   "pygments_lexer": "ipython3",
   "version": "3.8.5"
  }
 },
 "nbformat": 4,
 "nbformat_minor": 4
}
