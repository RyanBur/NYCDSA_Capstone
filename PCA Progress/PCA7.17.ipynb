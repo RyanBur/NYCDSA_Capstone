{
 "cells": [
  {
   "cell_type": "code",
   "execution_count": 46,
   "metadata": {},
   "outputs": [],
   "source": [
    "import pandas as pd\n",
    "import numpy as np\n",
    "from sklearn.decomposition import PCA\n",
    "import matplotlib.pyplot as plt\n",
    "from sklearn.linear_model import LinearRegression\n",
    "from sklearn.linear_model import Lasso, LinearRegression\n",
    "from sklearn.model_selection import GridSearchCV, cross_val_score\n",
    "from sklearn.preprocessing import StandardScaler, MinMaxScaler, Normalizer\n"
   ]
  },
  {
   "cell_type": "code",
   "execution_count": 106,
   "metadata": {},
   "outputs": [],
   "source": [
    "def do_pca(testfilepath,trainfilepath,predictfilepath,currentrent=True):\n",
    "    data_test=pd.read_csv(testfilepath,index_col=False)\n",
    "    data_train=pd.read_csv(trainfilepath,index_col=False)\n",
    "    data_pred=pd.read_csv(predictfilepath,index_col=False)\n",
    "    data_pred=data_pred[data_pred.RegionName.apply(lambda x:x[-7:][:4])=='2019']\n",
    "    if currentrent:\n",
    "        data_trainx=data_train.iloc[:,4:]\n",
    "        data_testx=data_test.iloc[:,4:]\n",
    "        data_predx=data_pred.iloc[:,4:]\n",
    "    else:\n",
    "        data_trainx=data_train.iloc[:,5:]\n",
    "        data_testx=data_test.iloc[:,5:]\n",
    "        data_predx=data_pred.iloc[:,5:]\n",
    "    train_y=data_train.iloc[:,3]\n",
    "    test_y=data_test.iloc[:,3]\n",
    "    pred_y=data_pred.iloc[:,3]\n",
    "    \n",
    "    #fit pca w max components \n",
    "    # pca (stands for perfect charming angel <3)\n",
    "    pca = PCA(random_state=100)\n",
    "    pca.fit(data_trainx)\n",
    "\n",
    "    #how many components to explain 99.999% of variance \n",
    "    i=0\n",
    "    cum_exp_var=0\n",
    "    while cum_exp_var<.99999:\n",
    "\n",
    "        cum_exp_var+=pca.explained_variance_ratio_[i]\n",
    "        i+=1\n",
    "\n",
    "   \n",
    "    #refit pca w # components that explain 99.999% variance \n",
    "    pca = PCA(n_components=i,random_state=100)\n",
    "    pca.fit(data_trainx)\n",
    "    pca_train=pca.transform(data_trainx)\n",
    "    pca_pred=pca.transform(data_predx)\n",
    "    pca_test=pca.transform(data_testx)\n",
    "    print('Num of pcs',i)\n",
    "    print('Explained Variance',cum_exp_var)\n",
    "    \n",
    "    # normalize the pcas \n",
    "    ss = StandardScaler()\n",
    "    pca_train= ss.fit_transform(pca_train)\n",
    "    pca_test = ss.transform(pca_test)\n",
    "    pca_pred = ss.transform(pca_pred)\n",
    "    \n",
    "    #convert to df\n",
    "    pca_pred=pd.DataFrame(data=pca_pred)\n",
    "    pca_test=pd.DataFrame(data=pca_test)\n",
    "    pca_train=pd.DataFrame(data=pca_train)\n",
    "    \n",
    "    \n",
    "    #add back y vals\n",
    "    pca_pred['Rent']=pred_y\n",
    "    pca_test['Rent']=test_y  \n",
    "    pca_train['Rent']=train_y\n",
    "\n",
    "        \n",
    "    return [pca_test,pca_train,pca_pred]\n"
   ]
  },
  {
   "cell_type": "code",
   "execution_count": 59,
   "metadata": {},
   "outputs": [],
   "source": [
    "##JULY 17\n",
    "\n",
    "#pca on full acs and our new hospitals gov buildings businesses data\n",
    "[pca_test,pca_train,pca_pred]=do_pca('Inputs/TESTDATAnewcols7.17_3yearPCA.csv','Inputs/TRAINDATAnewcols7.17_3yearPCA.csv','Inputs/PREDICTDATAnewcols7.17_3yearPCA.csv')\n",
    "pca_test= pd.DataFrame(pca_test)\n",
    "pca_train= pd.DataFrame(pca_train)\n",
    "pca_pred= pd.DataFrame(pca_pred)\n",
    "pca_test.to_csv('Results/TESTDATAnewcols7.17_3yearPCAfull.csv',index=False)\n",
    "pca_train.to_csv('Results/TRAINDATAnewcols7.17_3yearPCAfull.csv',index=False)\n",
    "pca_pred.to_csv('Results/PREDICTDATAnewcols7.17_3yearPCAfull.csv',index=False)\n",
    "\n",
    "\n",
    "#pca on selected/modified acs and our new hospitals gov buildings businesses data\n",
    "[pca_test,pca_train,pca_pred]=do_pca('Inputs/TESTDATAnewcols7.17_3year.csv','Inputs/TRAINDATAnewcols7.17_3year.csv','Inputs/PREDICTDATAnewcols7.17_3year.csv')\n",
    "\n",
    "pca_test.to_csv('Results/TESTDATAnewcols7.17_3yearPCApartial.csv',index=False)\n",
    "pca_train.to_csv('Results/TRAINDATAnewcols7.17_3yearPCApartial.csv',index=False)\n",
    "pca_pred.to_csv('Results/PREDICTDATAnewcols7.17_3yearPCApartial.csv',index=False)\n",
    "\n",
    "\n"
   ]
  },
  {
   "cell_type": "code",
   "execution_count": 53,
   "metadata": {},
   "outputs": [],
   "source": [
    "## JULY 19\n",
    "\n",
    "#pca on selected/modified acs and our new hospitals gov buildings businesses data\n",
    "[pca_test,pca_train,pca_pred]=do_pca('Inputs/TESTDATAnewcols7.18_3year.csv','Inputs/TRAINDATAnewcols7.18_3year.csv','Inputs/PREDICTDATAnewcols7.18_3year.csv')\n",
    "\n",
    "\n",
    "pca_test.to_csv('Results/TESTDATAnewcols7.18_3yearPCApartial.csv',index=False)\n",
    "pca_train.to_csv('Results/TRAINDATAnewcols7.18_3yearPCApartial.csv',index=False)\n",
    "pca_pred.to_csv('Results/PREDICTDATAnewcols7.18_3yearPCApartial.csv',index=False)\n",
    "\n",
    "\n",
    "\n",
    "\n"
   ]
  },
  {
   "cell_type": "code",
   "execution_count": 107,
   "metadata": {},
   "outputs": [
    {
     "name": "stdout",
     "output_type": "stream",
     "text": [
      "Num of pcs 5\n",
      "Explained Variance 0.9999999665620878\n",
      "Num of pcs 4\n",
      "Explained Variance 0.999999965714257\n"
     ]
    }
   ],
   "source": [
    "## JULY 19 pt 2\n",
    "\n",
    "#pca on selected/modified acs and our new hospitals gov buildings businesses data\n",
    "[pca_test,pca_train,pca_pred]=do_pca('Inputs/TESTDATAnewcols7.19_3year.csv','Inputs/TRAINDATAnewcols7.19_3year.csv','Inputs/PREDICTDATAnewcols7.19_3year.csv')\n",
    "\n",
    "## @ NAIVE BAES: RUN MODELS ON THESE FILES\n",
    "pca_test.to_csv('Results/TESTDATAnewcols7.19_3yearPCApartial.csv',index=False)\n",
    "pca_train.to_csv('Results/TRAINDATAnewcols7.19_3yearPCApartial.csv',index=False)\n",
    "pca_pred.to_csv('Results/PREDICTDATAnewcols7.19_3yearPCApartial.csv',index=False)\n",
    "\n",
    "##no current rent version\n",
    "#pca on selected/modified acs and our new hospitals gov buildings businesses data\n",
    "[pca_test,pca_train,pca_pred]=do_pca('Inputs/TESTDATAnewcols7.19_3year.csv','Inputs/TRAINDATAnewcols7.19_3year.csv','Inputs/PREDICTDATAnewcols7.19_3year.csv',currentrent=False)\n",
    "\n",
    "## @ NAIVE BAES: RUN MODELS ON THESE FILES\n",
    "pca_test.to_csv('Results/TESTDATAnewcols7.19_3yearPCApartial_nocurrentrent.csv',index=False)\n",
    "pca_train.to_csv('Results/TRAINDATAnewcols7.19_3yearPCApartial_nocurrentrent.csv',index=False)\n",
    "pca_pred.to_csv('Results/PREDICTDATAnewcols7.19_3yearPCApartial_nocurrentrent.csv',index=False)\n",
    "\n",
    "\n",
    "\n",
    "\n"
   ]
  },
  {
   "cell_type": "code",
   "execution_count": null,
   "metadata": {},
   "outputs": [],
   "source": []
  },
  {
   "cell_type": "code",
   "execution_count": null,
   "metadata": {},
   "outputs": [],
   "source": []
  }
 ],
 "metadata": {
  "kernelspec": {
   "display_name": "Python 3",
   "language": "python",
   "name": "python3"
  },
  "language_info": {
   "codemirror_mode": {
    "name": "ipython",
    "version": 3
   },
   "file_extension": ".py",
   "mimetype": "text/x-python",
   "name": "python",
   "nbconvert_exporter": "python",
   "pygments_lexer": "ipython3",
   "version": "3.8.5"
  }
 },
 "nbformat": 4,
 "nbformat_minor": 4
}
