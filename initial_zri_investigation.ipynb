{
 "cells": [
  {
   "cell_type": "code",
   "execution_count": 1,
   "id": "9314a24b",
   "metadata": {},
   "outputs": [],
   "source": [
    "import numpy as np\n",
    "import pandas as pd\n"
   ]
  },
  {
   "cell_type": "code",
   "execution_count": 2,
   "id": "7dd278ce",
   "metadata": {},
   "outputs": [],
   "source": [
    "y_values = pd.read_csv('Zip_ZORI_AllHomesPlusMultifamily_Smoothed.csv')"
   ]
  },
  {
   "cell_type": "code",
   "execution_count": null,
   "id": "569a3da0",
   "metadata": {},
   "outputs": [],
   "source": [
    "y_values.shape"
   ]
  },
  {
   "cell_type": "code",
   "execution_count": null,
   "id": "4978e8c7",
   "metadata": {},
   "outputs": [],
   "source": [
    "np.sum(y_values.isnull(),axis=0)['2020-09']"
   ]
  },
  {
   "cell_type": "code",
   "execution_count": null,
   "id": "d5b3efd7",
   "metadata": {},
   "outputs": [],
   "source": [
    "# Fill in all data with the closest months in the rows.\n",
    "y_values.tail(5)"
   ]
  },
  {
   "cell_type": "code",
   "execution_count": 5,
   "id": "8f24e45a",
   "metadata": {},
   "outputs": [],
   "source": [
    "#df = y_values.copy()\n",
    "#date = '2020-09'\n",
    "\n",
    "def get_yVals(df, date):\n",
    "    '''\n",
    "    Enter in your dataframe for Zillow Rent Index, enter in your desired month/year combo for the rent values per zip code \n",
    "    in the for 'YYYY-MM'. The output is a pandas Series with the zip codes as indexes and the rent index as its values.\n",
    "    '''\n",
    "    return pd.merge(df.iloc[:,0:4], df.iloc[:,4:].interpolate(axis=1), left_index=True, right_index=True).set_index('RegionName')[date]\n"
   ]
  },
  {
   "cell_type": "code",
   "execution_count": 6,
   "id": "b1e31d2f",
   "metadata": {},
   "outputs": [
    {
     "data": {
      "text/plain": [
       "RegionName\n",
       "10025     3059.0\n",
       "60657     1730.0\n",
       "10023     2922.0\n",
       "77494     1461.0\n",
       "60614     1986.0\n",
       "          ...   \n",
       "2108      2553.0\n",
       "90067    10824.0\n",
       "20004     2569.0\n",
       "80951     1592.0\n",
       "60602     1769.0\n",
       "Name: 2020-09, Length: 2726, dtype: float64"
      ]
     },
     "execution_count": 6,
     "metadata": {},
     "output_type": "execute_result"
    }
   ],
   "source": [
    "get_yVals(y_values, '2020-09')"
   ]
  }
 ],
 "metadata": {
  "kernelspec": {
   "display_name": "Python 3",
   "language": "python",
   "name": "python3"
  },
  "language_info": {
   "codemirror_mode": {
    "name": "ipython",
    "version": 3
   },
   "file_extension": ".py",
   "mimetype": "text/x-python",
   "name": "python",
   "nbconvert_exporter": "python",
   "pygments_lexer": "ipython3",
   "version": "3.8.8"
  }
 },
 "nbformat": 4,
 "nbformat_minor": 5
}
