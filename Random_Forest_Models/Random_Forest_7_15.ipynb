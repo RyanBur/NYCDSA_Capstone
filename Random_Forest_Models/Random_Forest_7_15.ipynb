{
 "cells": [
  {
   "cell_type": "code",
   "execution_count": 1,
   "metadata": {},
   "outputs": [],
   "source": [
    "import pandas as pd \n",
    "from sklearn.ensemble import RandomForestRegressor\n",
    "from sklearn.model_selection import cross_val_score\n",
    "from sklearn.metrics import r2_score\n",
    "from sklearn.metrics import mean_squared_error\n",
    "from sklearn.model_selection import GridSearchCV"
   ]
  },
  {
   "cell_type": "code",
   "execution_count": 2,
   "metadata": {},
   "outputs": [],
   "source": [
    "#import data sets\n",
    "train_data = pd.read_csv('TRAINDATAnewcols7_15.csv', index_col=0)\n",
    "test_data = pd.read_csv('TESTDATAnewcols7_15.csv', index_col=0)"
   ]
  },
  {
   "cell_type": "code",
   "execution_count": 3,
   "metadata": {},
   "outputs": [
    {
     "data": {
      "text/html": [
       "<div>\n",
       "<style scoped>\n",
       "    .dataframe tbody tr th:only-of-type {\n",
       "        vertical-align: middle;\n",
       "    }\n",
       "\n",
       "    .dataframe tbody tr th {\n",
       "        vertical-align: top;\n",
       "    }\n",
       "\n",
       "    .dataframe thead th {\n",
       "        text-align: right;\n",
       "    }\n",
       "</style>\n",
       "<table border=\"1\" class=\"dataframe\">\n",
       "  <thead>\n",
       "    <tr style=\"text-align: right;\">\n",
       "      <th></th>\n",
       "      <th>RegionName</th>\n",
       "      <th>City</th>\n",
       "      <th>State</th>\n",
       "      <th>Rent</th>\n",
       "      <th>total_pop</th>\n",
       "      <th>median_age</th>\n",
       "      <th>median_income</th>\n",
       "      <th>million_dollar_housing_units</th>\n",
       "      <th>dwellings_50_or_more_units</th>\n",
       "      <th>mobile_homes</th>\n",
       "      <th>...</th>\n",
       "      <th>Perc_commuter_by_public_transport</th>\n",
       "      <th>Perc_worked_at_home</th>\n",
       "      <th>Perc_different_house_year_ago_same_city</th>\n",
       "      <th>Perc_different_house_year_ago_dif_city</th>\n",
       "      <th>perc_housing_built_2005_or_later</th>\n",
       "      <th>ESTAB</th>\n",
       "      <th>HIFL_hospital_count</th>\n",
       "      <th>HIFL_transit_station_count</th>\n",
       "      <th>HIFL_uni</th>\n",
       "      <th>HIFL_govbldg</th>\n",
       "    </tr>\n",
       "  </thead>\n",
       "  <tbody>\n",
       "    <tr>\n",
       "      <th>0</th>\n",
       "      <td>30458-2015-09</td>\n",
       "      <td>Statesboro</td>\n",
       "      <td>GA</td>\n",
       "      <td>679.0</td>\n",
       "      <td>41829.0</td>\n",
       "      <td>23.2</td>\n",
       "      <td>27908.0</td>\n",
       "      <td>44.0</td>\n",
       "      <td>267.0</td>\n",
       "      <td>1592.0</td>\n",
       "      <td>...</td>\n",
       "      <td>0.018481</td>\n",
       "      <td>0.051834</td>\n",
       "      <td>0.060628</td>\n",
       "      <td>0.197877</td>\n",
       "      <td>0.013264</td>\n",
       "      <td>1026.000000</td>\n",
       "      <td>2.0</td>\n",
       "      <td>0.0</td>\n",
       "      <td>1.0</td>\n",
       "      <td>0.0</td>\n",
       "    </tr>\n",
       "    <tr>\n",
       "      <th>1</th>\n",
       "      <td>27701-2018-09</td>\n",
       "      <td>Durham</td>\n",
       "      <td>NC</td>\n",
       "      <td>1212.0</td>\n",
       "      <td>22595.0</td>\n",
       "      <td>32.2</td>\n",
       "      <td>31094.0</td>\n",
       "      <td>15.0</td>\n",
       "      <td>1124.0</td>\n",
       "      <td>105.0</td>\n",
       "      <td>...</td>\n",
       "      <td>0.125178</td>\n",
       "      <td>0.043449</td>\n",
       "      <td>0.191812</td>\n",
       "      <td>0.088073</td>\n",
       "      <td>0.017151</td>\n",
       "      <td>1262.357143</td>\n",
       "      <td>0.0</td>\n",
       "      <td>0.0</td>\n",
       "      <td>1.0</td>\n",
       "      <td>0.0</td>\n",
       "    </tr>\n",
       "    <tr>\n",
       "      <th>2</th>\n",
       "      <td>6112-2015-09</td>\n",
       "      <td>Hartford</td>\n",
       "      <td>CT</td>\n",
       "      <td>1080.0</td>\n",
       "      <td>23298.0</td>\n",
       "      <td>28.2</td>\n",
       "      <td>30199.0</td>\n",
       "      <td>39.0</td>\n",
       "      <td>134.0</td>\n",
       "      <td>14.0</td>\n",
       "      <td>...</td>\n",
       "      <td>0.242533</td>\n",
       "      <td>0.021089</td>\n",
       "      <td>0.107305</td>\n",
       "      <td>0.049532</td>\n",
       "      <td>0.000000</td>\n",
       "      <td>161.000000</td>\n",
       "      <td>1.0</td>\n",
       "      <td>0.0</td>\n",
       "      <td>0.0</td>\n",
       "      <td>0.0</td>\n",
       "    </tr>\n",
       "    <tr>\n",
       "      <th>3</th>\n",
       "      <td>73071-2019-09</td>\n",
       "      <td>Norman</td>\n",
       "      <td>OK</td>\n",
       "      <td>873.0</td>\n",
       "      <td>40693.0</td>\n",
       "      <td>28.4</td>\n",
       "      <td>48414.0</td>\n",
       "      <td>0.0</td>\n",
       "      <td>524.0</td>\n",
       "      <td>272.0</td>\n",
       "      <td>...</td>\n",
       "      <td>0.007434</td>\n",
       "      <td>0.018101</td>\n",
       "      <td>0.135404</td>\n",
       "      <td>0.119799</td>\n",
       "      <td>0.011447</td>\n",
       "      <td>1225.000000</td>\n",
       "      <td>1.0</td>\n",
       "      <td>0.0</td>\n",
       "      <td>0.0</td>\n",
       "      <td>0.0</td>\n",
       "    </tr>\n",
       "    <tr>\n",
       "      <th>4</th>\n",
       "      <td>91733-2014-09</td>\n",
       "      <td>South El Monte</td>\n",
       "      <td>CA</td>\n",
       "      <td>2372.0</td>\n",
       "      <td>43902.0</td>\n",
       "      <td>31.4</td>\n",
       "      <td>41592.0</td>\n",
       "      <td>15.0</td>\n",
       "      <td>68.0</td>\n",
       "      <td>618.0</td>\n",
       "      <td>...</td>\n",
       "      <td>0.054054</td>\n",
       "      <td>0.049902</td>\n",
       "      <td>0.018473</td>\n",
       "      <td>0.053414</td>\n",
       "      <td>0.003427</td>\n",
       "      <td>1768.000000</td>\n",
       "      <td>1.0</td>\n",
       "      <td>0.0</td>\n",
       "      <td>0.0</td>\n",
       "      <td>0.0</td>\n",
       "    </tr>\n",
       "    <tr>\n",
       "      <th>...</th>\n",
       "      <td>...</td>\n",
       "      <td>...</td>\n",
       "      <td>...</td>\n",
       "      <td>...</td>\n",
       "      <td>...</td>\n",
       "      <td>...</td>\n",
       "      <td>...</td>\n",
       "      <td>...</td>\n",
       "      <td>...</td>\n",
       "      <td>...</td>\n",
       "      <td>...</td>\n",
       "      <td>...</td>\n",
       "      <td>...</td>\n",
       "      <td>...</td>\n",
       "      <td>...</td>\n",
       "      <td>...</td>\n",
       "      <td>...</td>\n",
       "      <td>...</td>\n",
       "      <td>...</td>\n",
       "      <td>...</td>\n",
       "      <td>...</td>\n",
       "    </tr>\n",
       "    <tr>\n",
       "      <th>6347</th>\n",
       "      <td>10014-2019-09</td>\n",
       "      <td>New York</td>\n",
       "      <td>NY</td>\n",
       "      <td>3872.0</td>\n",
       "      <td>31794.0</td>\n",
       "      <td>36.8</td>\n",
       "      <td>127973.0</td>\n",
       "      <td>1233.0</td>\n",
       "      <td>6692.0</td>\n",
       "      <td>0.0</td>\n",
       "      <td>...</td>\n",
       "      <td>0.589270</td>\n",
       "      <td>0.099853</td>\n",
       "      <td>0.110367</td>\n",
       "      <td>0.052054</td>\n",
       "      <td>0.003263</td>\n",
       "      <td>4655.000000</td>\n",
       "      <td>0.0</td>\n",
       "      <td>5.0</td>\n",
       "      <td>0.0</td>\n",
       "      <td>0.0</td>\n",
       "    </tr>\n",
       "    <tr>\n",
       "      <th>6348</th>\n",
       "      <td>60619-2019-09</td>\n",
       "      <td>Chicago</td>\n",
       "      <td>IL</td>\n",
       "      <td>1108.0</td>\n",
       "      <td>62992.0</td>\n",
       "      <td>39.4</td>\n",
       "      <td>32558.0</td>\n",
       "      <td>0.0</td>\n",
       "      <td>1052.0</td>\n",
       "      <td>7.0</td>\n",
       "      <td>...</td>\n",
       "      <td>0.313581</td>\n",
       "      <td>0.039935</td>\n",
       "      <td>0.103553</td>\n",
       "      <td>0.024289</td>\n",
       "      <td>0.002487</td>\n",
       "      <td>1112.000000</td>\n",
       "      <td>0.0</td>\n",
       "      <td>10.0</td>\n",
       "      <td>0.0</td>\n",
       "      <td>0.0</td>\n",
       "    </tr>\n",
       "    <tr>\n",
       "      <th>6349</th>\n",
       "      <td>12307-2015-09</td>\n",
       "      <td>Schenectady</td>\n",
       "      <td>NY</td>\n",
       "      <td>860.0</td>\n",
       "      <td>7619.0</td>\n",
       "      <td>30.6</td>\n",
       "      <td>21875.0</td>\n",
       "      <td>9.0</td>\n",
       "      <td>131.0</td>\n",
       "      <td>36.0</td>\n",
       "      <td>...</td>\n",
       "      <td>0.187106</td>\n",
       "      <td>0.025612</td>\n",
       "      <td>0.074682</td>\n",
       "      <td>0.061163</td>\n",
       "      <td>0.000000</td>\n",
       "      <td>119.000000</td>\n",
       "      <td>0.0</td>\n",
       "      <td>0.0</td>\n",
       "      <td>0.0</td>\n",
       "      <td>0.0</td>\n",
       "    </tr>\n",
       "    <tr>\n",
       "      <th>6350</th>\n",
       "      <td>19147-2015-09</td>\n",
       "      <td>Philadelphia</td>\n",
       "      <td>PA</td>\n",
       "      <td>1442.0</td>\n",
       "      <td>35014.0</td>\n",
       "      <td>34.7</td>\n",
       "      <td>60400.0</td>\n",
       "      <td>150.0</td>\n",
       "      <td>1144.0</td>\n",
       "      <td>35.0</td>\n",
       "      <td>...</td>\n",
       "      <td>0.258358</td>\n",
       "      <td>0.049072</td>\n",
       "      <td>0.100703</td>\n",
       "      <td>0.054921</td>\n",
       "      <td>0.004813</td>\n",
       "      <td>1038.000000</td>\n",
       "      <td>0.0</td>\n",
       "      <td>0.0</td>\n",
       "      <td>0.0</td>\n",
       "      <td>0.0</td>\n",
       "    </tr>\n",
       "    <tr>\n",
       "      <th>6351</th>\n",
       "      <td>97030-2016-09</td>\n",
       "      <td>Gresham</td>\n",
       "      <td>OR</td>\n",
       "      <td>1388.0</td>\n",
       "      <td>38011.0</td>\n",
       "      <td>35.4</td>\n",
       "      <td>42404.0</td>\n",
       "      <td>17.0</td>\n",
       "      <td>1441.0</td>\n",
       "      <td>243.0</td>\n",
       "      <td>...</td>\n",
       "      <td>0.096257</td>\n",
       "      <td>0.035584</td>\n",
       "      <td>0.066981</td>\n",
       "      <td>0.158191</td>\n",
       "      <td>0.006695</td>\n",
       "      <td>1093.000000</td>\n",
       "      <td>1.0</td>\n",
       "      <td>5.0</td>\n",
       "      <td>2.0</td>\n",
       "      <td>0.0</td>\n",
       "    </tr>\n",
       "  </tbody>\n",
       "</table>\n",
       "<p>6352 rows × 42 columns</p>\n",
       "</div>"
      ],
      "text/plain": [
       "         RegionName            City State    Rent  total_pop  median_age  \\\n",
       "0     30458-2015-09      Statesboro    GA   679.0    41829.0        23.2   \n",
       "1     27701-2018-09          Durham    NC  1212.0    22595.0        32.2   \n",
       "2      6112-2015-09        Hartford    CT  1080.0    23298.0        28.2   \n",
       "3     73071-2019-09          Norman    OK   873.0    40693.0        28.4   \n",
       "4     91733-2014-09  South El Monte    CA  2372.0    43902.0        31.4   \n",
       "...             ...             ...   ...     ...        ...         ...   \n",
       "6347  10014-2019-09        New York    NY  3872.0    31794.0        36.8   \n",
       "6348  60619-2019-09         Chicago    IL  1108.0    62992.0        39.4   \n",
       "6349  12307-2015-09     Schenectady    NY   860.0     7619.0        30.6   \n",
       "6350  19147-2015-09    Philadelphia    PA  1442.0    35014.0        34.7   \n",
       "6351  97030-2016-09         Gresham    OR  1388.0    38011.0        35.4   \n",
       "\n",
       "      median_income  million_dollar_housing_units  dwellings_50_or_more_units  \\\n",
       "0           27908.0                          44.0                       267.0   \n",
       "1           31094.0                          15.0                      1124.0   \n",
       "2           30199.0                          39.0                       134.0   \n",
       "3           48414.0                           0.0                       524.0   \n",
       "4           41592.0                          15.0                        68.0   \n",
       "...             ...                           ...                         ...   \n",
       "6347       127973.0                        1233.0                      6692.0   \n",
       "6348        32558.0                           0.0                      1052.0   \n",
       "6349        21875.0                           9.0                       131.0   \n",
       "6350        60400.0                         150.0                      1144.0   \n",
       "6351        42404.0                          17.0                      1441.0   \n",
       "\n",
       "      mobile_homes  ...  Perc_commuter_by_public_transport  \\\n",
       "0           1592.0  ...                           0.018481   \n",
       "1            105.0  ...                           0.125178   \n",
       "2             14.0  ...                           0.242533   \n",
       "3            272.0  ...                           0.007434   \n",
       "4            618.0  ...                           0.054054   \n",
       "...            ...  ...                                ...   \n",
       "6347           0.0  ...                           0.589270   \n",
       "6348           7.0  ...                           0.313581   \n",
       "6349          36.0  ...                           0.187106   \n",
       "6350          35.0  ...                           0.258358   \n",
       "6351         243.0  ...                           0.096257   \n",
       "\n",
       "      Perc_worked_at_home  Perc_different_house_year_ago_same_city  \\\n",
       "0                0.051834                                 0.060628   \n",
       "1                0.043449                                 0.191812   \n",
       "2                0.021089                                 0.107305   \n",
       "3                0.018101                                 0.135404   \n",
       "4                0.049902                                 0.018473   \n",
       "...                   ...                                      ...   \n",
       "6347             0.099853                                 0.110367   \n",
       "6348             0.039935                                 0.103553   \n",
       "6349             0.025612                                 0.074682   \n",
       "6350             0.049072                                 0.100703   \n",
       "6351             0.035584                                 0.066981   \n",
       "\n",
       "      Perc_different_house_year_ago_dif_city  \\\n",
       "0                                   0.197877   \n",
       "1                                   0.088073   \n",
       "2                                   0.049532   \n",
       "3                                   0.119799   \n",
       "4                                   0.053414   \n",
       "...                                      ...   \n",
       "6347                                0.052054   \n",
       "6348                                0.024289   \n",
       "6349                                0.061163   \n",
       "6350                                0.054921   \n",
       "6351                                0.158191   \n",
       "\n",
       "      perc_housing_built_2005_or_later        ESTAB  HIFL_hospital_count  \\\n",
       "0                             0.013264  1026.000000                  2.0   \n",
       "1                             0.017151  1262.357143                  0.0   \n",
       "2                             0.000000   161.000000                  1.0   \n",
       "3                             0.011447  1225.000000                  1.0   \n",
       "4                             0.003427  1768.000000                  1.0   \n",
       "...                                ...          ...                  ...   \n",
       "6347                          0.003263  4655.000000                  0.0   \n",
       "6348                          0.002487  1112.000000                  0.0   \n",
       "6349                          0.000000   119.000000                  0.0   \n",
       "6350                          0.004813  1038.000000                  0.0   \n",
       "6351                          0.006695  1093.000000                  1.0   \n",
       "\n",
       "      HIFL_transit_station_count  HIFL_uni  HIFL_govbldg  \n",
       "0                            0.0       1.0           0.0  \n",
       "1                            0.0       1.0           0.0  \n",
       "2                            0.0       0.0           0.0  \n",
       "3                            0.0       0.0           0.0  \n",
       "4                            0.0       0.0           0.0  \n",
       "...                          ...       ...           ...  \n",
       "6347                         5.0       0.0           0.0  \n",
       "6348                        10.0       0.0           0.0  \n",
       "6349                         0.0       0.0           0.0  \n",
       "6350                         0.0       0.0           0.0  \n",
       "6351                         5.0       2.0           0.0  \n",
       "\n",
       "[6352 rows x 42 columns]"
      ]
     },
     "execution_count": 3,
     "metadata": {},
     "output_type": "execute_result"
    }
   ],
   "source": [
    "train_data"
   ]
  },
  {
   "cell_type": "code",
   "execution_count": 4,
   "metadata": {},
   "outputs": [],
   "source": [
    "#drop columns\n",
    "\n",
    "train_data = train_data.drop(['RegionName', 'City', 'State'], axis=1)\n",
    "test_data = test_data.drop(['RegionName', 'City', 'State'], axis=1)"
   ]
  },
  {
   "cell_type": "code",
   "execution_count": 5,
   "metadata": {},
   "outputs": [
    {
     "data": {
      "text/plain": [
       "(6352, 39)"
      ]
     },
     "execution_count": 5,
     "metadata": {},
     "output_type": "execute_result"
    }
   ],
   "source": [
    "train_data.shape"
   ]
  },
  {
   "cell_type": "code",
   "execution_count": 6,
   "metadata": {},
   "outputs": [
    {
     "data": {
      "text/plain": [
       "(3129, 39)"
      ]
     },
     "execution_count": 6,
     "metadata": {},
     "output_type": "execute_result"
    }
   ],
   "source": [
    "test_data.shape"
   ]
  },
  {
   "cell_type": "code",
   "execution_count": 7,
   "metadata": {},
   "outputs": [],
   "source": [
    "X_train = train_data.drop(['Rent'],axis=1)\n",
    "y_train = train_data['Rent']\n",
    "X_test = test_data.drop(['Rent'],axis=1)\n",
    "y_test = test_data['Rent']"
   ]
  },
  {
   "cell_type": "code",
   "execution_count": 8,
   "metadata": {},
   "outputs": [
    {
     "data": {
      "text/plain": [
       "(6352, 38)"
      ]
     },
     "execution_count": 8,
     "metadata": {},
     "output_type": "execute_result"
    }
   ],
   "source": [
    "X_train.shape"
   ]
  },
  {
   "cell_type": "code",
   "execution_count": 9,
   "metadata": {},
   "outputs": [
    {
     "data": {
      "text/plain": [
       "(6352,)"
      ]
     },
     "execution_count": 9,
     "metadata": {},
     "output_type": "execute_result"
    }
   ],
   "source": [
    "y_train.shape"
   ]
  },
  {
   "cell_type": "code",
   "execution_count": 10,
   "metadata": {},
   "outputs": [
    {
     "data": {
      "text/plain": [
       "(3129, 38)"
      ]
     },
     "execution_count": 10,
     "metadata": {},
     "output_type": "execute_result"
    }
   ],
   "source": [
    "X_test.shape"
   ]
  },
  {
   "cell_type": "code",
   "execution_count": 11,
   "metadata": {},
   "outputs": [
    {
     "data": {
      "text/plain": [
       "(3129,)"
      ]
     },
     "execution_count": 11,
     "metadata": {},
     "output_type": "execute_result"
    }
   ],
   "source": [
    "y_test.shape"
   ]
  },
  {
   "cell_type": "code",
   "execution_count": 12,
   "metadata": {},
   "outputs": [
    {
     "name": "stdout",
     "output_type": "stream",
     "text": [
      "The training error is : 0.03250\n",
      "The test error is: 0.13331\n"
     ]
    }
   ],
   "source": [
    "# create RandomForest\n",
    "\n",
    "rf = RandomForestRegressor(random_state=42)\n",
    "\n",
    "rf.fit(X_train, y_train)\n",
    "\n",
    "print(\"The training error is : %.5f\" % (1 - rf.score(X_train, y_train)))\n",
    "print(\"The test error is: %.5f\" % (1 - rf.score(X_test, y_test)))"
   ]
  },
  {
   "cell_type": "code",
   "execution_count": 13,
   "metadata": {},
   "outputs": [
    {
     "data": {
      "text/plain": [
       "0.7586847687827832"
      ]
     },
     "execution_count": 13,
     "metadata": {},
     "output_type": "execute_result"
    }
   ],
   "source": [
    "# check CV score\n",
    "\n",
    "cv_score = cross_val_score(rf, X_train, y_train, cv=5)\n",
    "cv_score.mean()"
   ]
  },
  {
   "cell_type": "code",
   "execution_count": 14,
   "metadata": {},
   "outputs": [],
   "source": [
    "# create y prediction\n",
    "\n",
    "y_pred = rf.predict(X_test)"
   ]
  },
  {
   "cell_type": "code",
   "execution_count": 15,
   "metadata": {},
   "outputs": [
    {
     "name": "stdout",
     "output_type": "stream",
     "text": [
      "The r2 score is : 0.86669\n",
      "The mse is : 69479.04802\n",
      "The mse sqrt is : 263.58879\n"
     ]
    }
   ],
   "source": [
    "# get r2 score\n",
    "# get mse\n",
    "\n",
    "print(\"The r2 score is : %.5f\" % r2_score(y_test, y_pred))\n",
    "print(\"The mse is : %.5f\" % mean_squared_error(y_test, y_pred))\n",
    "print(\"The mse sqrt is : %.5f\" % (mean_squared_error(y_test, y_pred)**.5))"
   ]
  },
  {
   "cell_type": "code",
   "execution_count": 16,
   "metadata": {},
   "outputs": [],
   "source": [
    "# create param for gridsearch\n",
    "\n",
    "param_grid = ({\n",
    "    'max_features': ['sqrt', .35, .45],\n",
    "    'min_samples_split': [2, 5],\n",
    "    'n_estimators': [400, 550, 700],\n",
    "    'max_depth': [8, 10, 12]\n",
    "})"
   ]
  },
  {
   "cell_type": "code",
   "execution_count": 17,
   "metadata": {},
   "outputs": [
    {
     "data": {
      "text/plain": [
       "GridSearchCV(cv=5, estimator=RandomForestRegressor(random_state=42),\n",
       "             param_grid={'max_depth': [8, 10, 12],\n",
       "                         'max_features': ['sqrt', 0.35, 0.45],\n",
       "                         'min_samples_split': [2, 5],\n",
       "                         'n_estimators': [400, 550, 700]},\n",
       "             return_train_score=True)"
      ]
     },
     "execution_count": 17,
     "metadata": {},
     "output_type": "execute_result"
    }
   ],
   "source": [
    "# run grid search\n",
    "\n",
    "rf_grid = GridSearchCV(estimator = rf, param_grid = param_grid, cv = 5, return_train_score = True)\n",
    "\n",
    "rf_grid.fit(X_train, y_train)"
   ]
  },
  {
   "cell_type": "code",
   "execution_count": 18,
   "metadata": {},
   "outputs": [
    {
     "data": {
      "text/plain": [
       "{'max_depth': 12,\n",
       " 'max_features': 0.35,\n",
       " 'min_samples_split': 2,\n",
       " 'n_estimators': 700}"
      ]
     },
     "execution_count": 18,
     "metadata": {},
     "output_type": "execute_result"
    }
   ],
   "source": [
    "# get best params\n",
    "\n",
    "rf_grid.best_params_"
   ]
  },
  {
   "cell_type": "code",
   "execution_count": 20,
   "metadata": {},
   "outputs": [
    {
     "name": "stdout",
     "output_type": "stream",
     "text": [
      "The new training error is : 0.04603\n",
      "The new test error is: 0.13695\n"
     ]
    }
   ],
   "source": [
    "# create new randomForest model with new params\n",
    "# (would normally just set_params but for reuse of notebook seems like a safer bet to create new)\n",
    "\n",
    "rf2 = RandomForestRegressor(max_depth=12, max_features=0.35,\n",
    "                            min_samples_split=2, n_estimators=700, random_state=42)\n",
    "\n",
    "rf2.fit(X_train, y_train)\n",
    "\n",
    "print(\"The new training error is : %.5f\" % (1 - rf2.score(X_train, y_train)))\n",
    "print(\"The new test error is: %.5f\" % (1 - rf2.score(X_test, y_test)))"
   ]
  },
  {
   "cell_type": "code",
   "execution_count": 21,
   "metadata": {},
   "outputs": [],
   "source": [
    "# create new y predict\n",
    "\n",
    "y_new_pred = rf2.predict(X_test)"
   ]
  },
  {
   "cell_type": "code",
   "execution_count": 22,
   "metadata": {},
   "outputs": [
    {
     "name": "stdout",
     "output_type": "stream",
     "text": [
      "The r2 score is : 0.86669\n",
      "The mse is : 69479.04802\n",
      "The mse sqrt is : 263.58879\n",
      "The new r2 score is : 0.86305\n",
      "The new mse is : 71378.78415\n",
      "The new mse sqrt is : 267.16808\n"
     ]
    }
   ],
   "source": [
    "# updated r2 score\n",
    "# updated mse\n",
    "\n",
    "print(\"The r2 score is : %.5f\" % r2_score(y_test, y_pred))\n",
    "print(\"The mse is : %.5f\" % mean_squared_error(y_test, y_pred))\n",
    "print(\"The mse sqrt is : %.5f\" % (mean_squared_error(y_test, y_pred)**.5))\n",
    "\n",
    "print(\"The new r2 score is : %.5f\" % r2_score(y_test, y_new_pred))\n",
    "print(\"The new mse is : %.5f\" % mean_squared_error(y_test, y_new_pred))\n",
    "print(\"The new mse sqrt is : %.5f\" % (mean_squared_error(y_test, y_new_pred)**.5))"
   ]
  },
  {
   "cell_type": "code",
   "execution_count": null,
   "metadata": {},
   "outputs": [],
   "source": []
  }
 ],
 "metadata": {
  "kernelspec": {
   "display_name": "Python 3",
   "language": "python",
   "name": "python3"
  },
  "language_info": {
   "codemirror_mode": {
    "name": "ipython",
    "version": 3
   },
   "file_extension": ".py",
   "mimetype": "text/x-python",
   "name": "python",
   "nbconvert_exporter": "python",
   "pygments_lexer": "ipython3",
   "version": "3.8.5"
  }
 },
 "nbformat": 4,
 "nbformat_minor": 4
}
