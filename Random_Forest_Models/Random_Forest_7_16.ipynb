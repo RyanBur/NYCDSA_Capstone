{
 "cells": [
  {
   "cell_type": "code",
   "execution_count": 47,
   "metadata": {},
   "outputs": [],
   "source": [
    "import pandas as pd \n",
    "import numpy as np\n",
    "import matplotlib.pyplot as plt\n",
    "from sklearn.ensemble import RandomForestRegressor\n",
    "from sklearn.model_selection import cross_val_score\n",
    "from sklearn.metrics import r2_score\n",
    "from sklearn.metrics import mean_squared_error\n",
    "from sklearn.model_selection import GridSearchCV"
   ]
  },
  {
   "cell_type": "code",
   "execution_count": 6,
   "metadata": {},
   "outputs": [],
   "source": [
    "#import data sets\n",
    "train_data = pd.read_csv('TRAINDATAnewcols7.16_3year.csv')\n",
    "test_data = pd.read_csv('TESTDATAnewcols7.16_3year.csv')"
   ]
  },
  {
   "cell_type": "code",
   "execution_count": 5,
   "metadata": {},
   "outputs": [
    {
     "data": {
      "text/html": [
       "<div>\n",
       "<style scoped>\n",
       "    .dataframe tbody tr th:only-of-type {\n",
       "        vertical-align: middle;\n",
       "    }\n",
       "\n",
       "    .dataframe tbody tr th {\n",
       "        vertical-align: top;\n",
       "    }\n",
       "\n",
       "    .dataframe thead th {\n",
       "        text-align: right;\n",
       "    }\n",
       "</style>\n",
       "<table border=\"1\" class=\"dataframe\">\n",
       "  <thead>\n",
       "    <tr style=\"text-align: right;\">\n",
       "      <th></th>\n",
       "      <th>RegionName</th>\n",
       "      <th>City</th>\n",
       "      <th>State</th>\n",
       "      <th>Rent</th>\n",
       "      <th>total_pop</th>\n",
       "      <th>median_age</th>\n",
       "      <th>median_income</th>\n",
       "      <th>million_dollar_housing_units</th>\n",
       "      <th>dwellings_50_or_more_units</th>\n",
       "      <th>mobile_homes</th>\n",
       "      <th>...</th>\n",
       "      <th>Perc_commuter_by_public_transport</th>\n",
       "      <th>Perc_worked_at_home</th>\n",
       "      <th>Perc_different_house_year_ago_same_city</th>\n",
       "      <th>Perc_different_house_year_ago_dif_city</th>\n",
       "      <th>perc_housing_built_2005_or_later</th>\n",
       "      <th>ESTAB</th>\n",
       "      <th>HIFL_hospital_count</th>\n",
       "      <th>HIFL_transit_station_count</th>\n",
       "      <th>HIFL_uni</th>\n",
       "      <th>HIFL_govbldg</th>\n",
       "    </tr>\n",
       "  </thead>\n",
       "  <tbody>\n",
       "    <tr>\n",
       "      <th>0</th>\n",
       "      <td>77084-2016-09</td>\n",
       "      <td>Houston</td>\n",
       "      <td>TX</td>\n",
       "      <td>1332.0</td>\n",
       "      <td>98697.0</td>\n",
       "      <td>31.3</td>\n",
       "      <td>62248.0</td>\n",
       "      <td>15.0</td>\n",
       "      <td>1009.0</td>\n",
       "      <td>41.0</td>\n",
       "      <td>...</td>\n",
       "      <td>0.012828</td>\n",
       "      <td>0.034065</td>\n",
       "      <td>0.014043</td>\n",
       "      <td>0.145952</td>\n",
       "      <td>0.005121</td>\n",
       "      <td>1503.0</td>\n",
       "      <td>0.0</td>\n",
       "      <td>0.0</td>\n",
       "      <td>2.0</td>\n",
       "      <td>0.0</td>\n",
       "    </tr>\n",
       "    <tr>\n",
       "      <th>1</th>\n",
       "      <td>92651-2016-09</td>\n",
       "      <td>Laguna Beach</td>\n",
       "      <td>CA</td>\n",
       "      <td>2569.0</td>\n",
       "      <td>23636.0</td>\n",
       "      <td>49.5</td>\n",
       "      <td>96339.0</td>\n",
       "      <td>4817.0</td>\n",
       "      <td>315.0</td>\n",
       "      <td>232.0</td>\n",
       "      <td>...</td>\n",
       "      <td>0.012033</td>\n",
       "      <td>0.110448</td>\n",
       "      <td>0.032916</td>\n",
       "      <td>0.098705</td>\n",
       "      <td>0.007678</td>\n",
       "      <td>1164.0</td>\n",
       "      <td>0.0</td>\n",
       "      <td>0.0</td>\n",
       "      <td>1.0</td>\n",
       "      <td>0.0</td>\n",
       "    </tr>\n",
       "    <tr>\n",
       "      <th>2</th>\n",
       "      <td>33150-2016-09</td>\n",
       "      <td>Miami</td>\n",
       "      <td>FL</td>\n",
       "      <td>1721.0</td>\n",
       "      <td>27929.0</td>\n",
       "      <td>33.0</td>\n",
       "      <td>25787.0</td>\n",
       "      <td>10.0</td>\n",
       "      <td>534.0</td>\n",
       "      <td>685.0</td>\n",
       "      <td>...</td>\n",
       "      <td>0.151402</td>\n",
       "      <td>0.012876</td>\n",
       "      <td>0.045043</td>\n",
       "      <td>0.060188</td>\n",
       "      <td>0.011356</td>\n",
       "      <td>355.0</td>\n",
       "      <td>1.0</td>\n",
       "      <td>0.0</td>\n",
       "      <td>0.0</td>\n",
       "      <td>0.0</td>\n",
       "    </tr>\n",
       "    <tr>\n",
       "      <th>3</th>\n",
       "      <td>63109-2016-09</td>\n",
       "      <td>Saint Louis</td>\n",
       "      <td>MO</td>\n",
       "      <td>749.0</td>\n",
       "      <td>27255.0</td>\n",
       "      <td>37.4</td>\n",
       "      <td>51759.0</td>\n",
       "      <td>0.0</td>\n",
       "      <td>62.0</td>\n",
       "      <td>0.0</td>\n",
       "      <td>...</td>\n",
       "      <td>0.028441</td>\n",
       "      <td>0.037022</td>\n",
       "      <td>0.091726</td>\n",
       "      <td>0.068758</td>\n",
       "      <td>0.000000</td>\n",
       "      <td>518.0</td>\n",
       "      <td>0.0</td>\n",
       "      <td>0.0</td>\n",
       "      <td>0.0</td>\n",
       "      <td>0.0</td>\n",
       "    </tr>\n",
       "    <tr>\n",
       "      <th>4</th>\n",
       "      <td>78257-2016-09</td>\n",
       "      <td>San Antonio</td>\n",
       "      <td>TX</td>\n",
       "      <td>1252.0</td>\n",
       "      <td>3779.0</td>\n",
       "      <td>41.9</td>\n",
       "      <td>115417.0</td>\n",
       "      <td>193.0</td>\n",
       "      <td>34.0</td>\n",
       "      <td>220.0</td>\n",
       "      <td>...</td>\n",
       "      <td>0.018663</td>\n",
       "      <td>0.098404</td>\n",
       "      <td>0.055041</td>\n",
       "      <td>0.157184</td>\n",
       "      <td>0.037879</td>\n",
       "      <td>318.0</td>\n",
       "      <td>0.0</td>\n",
       "      <td>0.0</td>\n",
       "      <td>0.0</td>\n",
       "      <td>0.0</td>\n",
       "    </tr>\n",
       "    <tr>\n",
       "      <th>...</th>\n",
       "      <td>...</td>\n",
       "      <td>...</td>\n",
       "      <td>...</td>\n",
       "      <td>...</td>\n",
       "      <td>...</td>\n",
       "      <td>...</td>\n",
       "      <td>...</td>\n",
       "      <td>...</td>\n",
       "      <td>...</td>\n",
       "      <td>...</td>\n",
       "      <td>...</td>\n",
       "      <td>...</td>\n",
       "      <td>...</td>\n",
       "      <td>...</td>\n",
       "      <td>...</td>\n",
       "      <td>...</td>\n",
       "      <td>...</td>\n",
       "      <td>...</td>\n",
       "      <td>...</td>\n",
       "      <td>...</td>\n",
       "      <td>...</td>\n",
       "    </tr>\n",
       "    <tr>\n",
       "      <th>2082</th>\n",
       "      <td>10036-2016-09</td>\n",
       "      <td>New York</td>\n",
       "      <td>NY</td>\n",
       "      <td>3530.0</td>\n",
       "      <td>22413.0</td>\n",
       "      <td>38.8</td>\n",
       "      <td>64013.0</td>\n",
       "      <td>390.0</td>\n",
       "      <td>10241.0</td>\n",
       "      <td>14.0</td>\n",
       "      <td>...</td>\n",
       "      <td>0.481614</td>\n",
       "      <td>0.056953</td>\n",
       "      <td>0.121938</td>\n",
       "      <td>0.078080</td>\n",
       "      <td>0.005406</td>\n",
       "      <td>6118.0</td>\n",
       "      <td>1.0</td>\n",
       "      <td>4.0</td>\n",
       "      <td>1.0</td>\n",
       "      <td>0.0</td>\n",
       "    </tr>\n",
       "    <tr>\n",
       "      <th>2083</th>\n",
       "      <td>10458-2017-09</td>\n",
       "      <td>New York</td>\n",
       "      <td>NY</td>\n",
       "      <td>1642.0</td>\n",
       "      <td>74859.0</td>\n",
       "      <td>29.2</td>\n",
       "      <td>24618.0</td>\n",
       "      <td>21.0</td>\n",
       "      <td>9969.0</td>\n",
       "      <td>14.0</td>\n",
       "      <td>...</td>\n",
       "      <td>0.640839</td>\n",
       "      <td>0.033585</td>\n",
       "      <td>0.103662</td>\n",
       "      <td>0.020786</td>\n",
       "      <td>0.002312</td>\n",
       "      <td>1058.0</td>\n",
       "      <td>0.0</td>\n",
       "      <td>3.0</td>\n",
       "      <td>1.0</td>\n",
       "      <td>0.0</td>\n",
       "    </tr>\n",
       "    <tr>\n",
       "      <th>2084</th>\n",
       "      <td>95112-2016-09</td>\n",
       "      <td>San Jose</td>\n",
       "      <td>CA</td>\n",
       "      <td>2529.0</td>\n",
       "      <td>53268.0</td>\n",
       "      <td>30.8</td>\n",
       "      <td>48070.0</td>\n",
       "      <td>244.0</td>\n",
       "      <td>3255.0</td>\n",
       "      <td>934.0</td>\n",
       "      <td>...</td>\n",
       "      <td>0.087066</td>\n",
       "      <td>0.038964</td>\n",
       "      <td>0.150259</td>\n",
       "      <td>0.097244</td>\n",
       "      <td>0.001388</td>\n",
       "      <td>2139.0</td>\n",
       "      <td>0.0</td>\n",
       "      <td>2.0</td>\n",
       "      <td>0.0</td>\n",
       "      <td>0.0</td>\n",
       "    </tr>\n",
       "    <tr>\n",
       "      <th>2085</th>\n",
       "      <td>1854-2016-09</td>\n",
       "      <td>Lowell</td>\n",
       "      <td>MA</td>\n",
       "      <td>1997.0</td>\n",
       "      <td>28113.0</td>\n",
       "      <td>31.5</td>\n",
       "      <td>49306.0</td>\n",
       "      <td>0.0</td>\n",
       "      <td>1124.0</td>\n",
       "      <td>0.0</td>\n",
       "      <td>...</td>\n",
       "      <td>0.043768</td>\n",
       "      <td>0.021386</td>\n",
       "      <td>0.080781</td>\n",
       "      <td>0.090741</td>\n",
       "      <td>0.002896</td>\n",
       "      <td>299.0</td>\n",
       "      <td>2.0</td>\n",
       "      <td>0.0</td>\n",
       "      <td>1.0</td>\n",
       "      <td>0.0</td>\n",
       "    </tr>\n",
       "    <tr>\n",
       "      <th>2086</th>\n",
       "      <td>32204-2017-09</td>\n",
       "      <td>Jacksonville</td>\n",
       "      <td>FL</td>\n",
       "      <td>1092.0</td>\n",
       "      <td>6340.0</td>\n",
       "      <td>38.4</td>\n",
       "      <td>34101.0</td>\n",
       "      <td>0.0</td>\n",
       "      <td>1066.0</td>\n",
       "      <td>0.0</td>\n",
       "      <td>...</td>\n",
       "      <td>0.057018</td>\n",
       "      <td>0.035437</td>\n",
       "      <td>0.205521</td>\n",
       "      <td>0.058202</td>\n",
       "      <td>0.000000</td>\n",
       "      <td>684.0</td>\n",
       "      <td>1.0</td>\n",
       "      <td>2.0</td>\n",
       "      <td>0.0</td>\n",
       "      <td>0.0</td>\n",
       "    </tr>\n",
       "  </tbody>\n",
       "</table>\n",
       "<p>2087 rows × 54 columns</p>\n",
       "</div>"
      ],
      "text/plain": [
       "         RegionName          City State    Rent  total_pop  median_age  \\\n",
       "0     77084-2016-09       Houston    TX  1332.0    98697.0        31.3   \n",
       "1     92651-2016-09  Laguna Beach    CA  2569.0    23636.0        49.5   \n",
       "2     33150-2016-09         Miami    FL  1721.0    27929.0        33.0   \n",
       "3     63109-2016-09   Saint Louis    MO   749.0    27255.0        37.4   \n",
       "4     78257-2016-09   San Antonio    TX  1252.0     3779.0        41.9   \n",
       "...             ...           ...   ...     ...        ...         ...   \n",
       "2082  10036-2016-09      New York    NY  3530.0    22413.0        38.8   \n",
       "2083  10458-2017-09      New York    NY  1642.0    74859.0        29.2   \n",
       "2084  95112-2016-09      San Jose    CA  2529.0    53268.0        30.8   \n",
       "2085   1854-2016-09        Lowell    MA  1997.0    28113.0        31.5   \n",
       "2086  32204-2017-09  Jacksonville    FL  1092.0     6340.0        38.4   \n",
       "\n",
       "      median_income  million_dollar_housing_units  dwellings_50_or_more_units  \\\n",
       "0           62248.0                          15.0                      1009.0   \n",
       "1           96339.0                        4817.0                       315.0   \n",
       "2           25787.0                          10.0                       534.0   \n",
       "3           51759.0                           0.0                        62.0   \n",
       "4          115417.0                         193.0                        34.0   \n",
       "...             ...                           ...                         ...   \n",
       "2082        64013.0                         390.0                     10241.0   \n",
       "2083        24618.0                          21.0                      9969.0   \n",
       "2084        48070.0                         244.0                      3255.0   \n",
       "2085        49306.0                           0.0                      1124.0   \n",
       "2086        34101.0                           0.0                      1066.0   \n",
       "\n",
       "      mobile_homes  ...  Perc_commuter_by_public_transport  \\\n",
       "0             41.0  ...                           0.012828   \n",
       "1            232.0  ...                           0.012033   \n",
       "2            685.0  ...                           0.151402   \n",
       "3              0.0  ...                           0.028441   \n",
       "4            220.0  ...                           0.018663   \n",
       "...            ...  ...                                ...   \n",
       "2082          14.0  ...                           0.481614   \n",
       "2083          14.0  ...                           0.640839   \n",
       "2084         934.0  ...                           0.087066   \n",
       "2085           0.0  ...                           0.043768   \n",
       "2086           0.0  ...                           0.057018   \n",
       "\n",
       "      Perc_worked_at_home  Perc_different_house_year_ago_same_city  \\\n",
       "0                0.034065                                 0.014043   \n",
       "1                0.110448                                 0.032916   \n",
       "2                0.012876                                 0.045043   \n",
       "3                0.037022                                 0.091726   \n",
       "4                0.098404                                 0.055041   \n",
       "...                   ...                                      ...   \n",
       "2082             0.056953                                 0.121938   \n",
       "2083             0.033585                                 0.103662   \n",
       "2084             0.038964                                 0.150259   \n",
       "2085             0.021386                                 0.080781   \n",
       "2086             0.035437                                 0.205521   \n",
       "\n",
       "      Perc_different_house_year_ago_dif_city  \\\n",
       "0                                   0.145952   \n",
       "1                                   0.098705   \n",
       "2                                   0.060188   \n",
       "3                                   0.068758   \n",
       "4                                   0.157184   \n",
       "...                                      ...   \n",
       "2082                                0.078080   \n",
       "2083                                0.020786   \n",
       "2084                                0.097244   \n",
       "2085                                0.090741   \n",
       "2086                                0.058202   \n",
       "\n",
       "      perc_housing_built_2005_or_later   ESTAB  HIFL_hospital_count  \\\n",
       "0                             0.005121  1503.0                  0.0   \n",
       "1                             0.007678  1164.0                  0.0   \n",
       "2                             0.011356   355.0                  1.0   \n",
       "3                             0.000000   518.0                  0.0   \n",
       "4                             0.037879   318.0                  0.0   \n",
       "...                                ...     ...                  ...   \n",
       "2082                          0.005406  6118.0                  1.0   \n",
       "2083                          0.002312  1058.0                  0.0   \n",
       "2084                          0.001388  2139.0                  0.0   \n",
       "2085                          0.002896   299.0                  2.0   \n",
       "2086                          0.000000   684.0                  1.0   \n",
       "\n",
       "      HIFL_transit_station_count  HIFL_uni  HIFL_govbldg  \n",
       "0                            0.0       2.0           0.0  \n",
       "1                            0.0       1.0           0.0  \n",
       "2                            0.0       0.0           0.0  \n",
       "3                            0.0       0.0           0.0  \n",
       "4                            0.0       0.0           0.0  \n",
       "...                          ...       ...           ...  \n",
       "2082                         4.0       1.0           0.0  \n",
       "2083                         3.0       1.0           0.0  \n",
       "2084                         2.0       0.0           0.0  \n",
       "2085                         0.0       1.0           0.0  \n",
       "2086                         2.0       0.0           0.0  \n",
       "\n",
       "[2087 rows x 54 columns]"
      ]
     },
     "execution_count": 5,
     "metadata": {},
     "output_type": "execute_result"
    }
   ],
   "source": [
    "train_data"
   ]
  },
  {
   "cell_type": "code",
   "execution_count": 7,
   "metadata": {},
   "outputs": [],
   "source": [
    "#drop columns\n",
    "\n",
    "train_data = train_data.drop(['RegionName', 'City', 'State'], axis=1)\n",
    "test_data = test_data.drop(['RegionName', 'City', 'State'], axis=1)"
   ]
  },
  {
   "cell_type": "code",
   "execution_count": 8,
   "metadata": {},
   "outputs": [
    {
     "data": {
      "text/plain": [
       "(2087, 51)"
      ]
     },
     "execution_count": 8,
     "metadata": {},
     "output_type": "execute_result"
    }
   ],
   "source": [
    "train_data.shape"
   ]
  },
  {
   "cell_type": "code",
   "execution_count": 9,
   "metadata": {},
   "outputs": [
    {
     "data": {
      "text/plain": [
       "(1029, 51)"
      ]
     },
     "execution_count": 9,
     "metadata": {},
     "output_type": "execute_result"
    }
   ],
   "source": [
    "test_data.shape"
   ]
  },
  {
   "cell_type": "code",
   "execution_count": 10,
   "metadata": {},
   "outputs": [],
   "source": [
    "X_train = train_data.drop(['Rent'],axis=1)\n",
    "y_train = train_data['Rent']\n",
    "X_test = test_data.drop(['Rent'],axis=1)\n",
    "y_test = test_data['Rent']"
   ]
  },
  {
   "cell_type": "code",
   "execution_count": 11,
   "metadata": {},
   "outputs": [
    {
     "data": {
      "text/plain": [
       "(2087, 50)"
      ]
     },
     "execution_count": 11,
     "metadata": {},
     "output_type": "execute_result"
    }
   ],
   "source": [
    "X_train.shape"
   ]
  },
  {
   "cell_type": "code",
   "execution_count": 12,
   "metadata": {},
   "outputs": [
    {
     "data": {
      "text/plain": [
       "(2087,)"
      ]
     },
     "execution_count": 12,
     "metadata": {},
     "output_type": "execute_result"
    }
   ],
   "source": [
    "y_train.shape"
   ]
  },
  {
   "cell_type": "code",
   "execution_count": 13,
   "metadata": {},
   "outputs": [
    {
     "data": {
      "text/plain": [
       "(1029, 50)"
      ]
     },
     "execution_count": 13,
     "metadata": {},
     "output_type": "execute_result"
    }
   ],
   "source": [
    "X_test.shape"
   ]
  },
  {
   "cell_type": "code",
   "execution_count": 14,
   "metadata": {},
   "outputs": [
    {
     "data": {
      "text/plain": [
       "(1029,)"
      ]
     },
     "execution_count": 14,
     "metadata": {},
     "output_type": "execute_result"
    }
   ],
   "source": [
    "y_test.shape"
   ]
  },
  {
   "cell_type": "code",
   "execution_count": 15,
   "metadata": {},
   "outputs": [
    {
     "name": "stdout",
     "output_type": "stream",
     "text": [
      "The training error is : 0.05649\n",
      "The test error is: 0.18698\n"
     ]
    }
   ],
   "source": [
    "# create RandomForest\n",
    "\n",
    "rf = RandomForestRegressor(random_state=42)\n",
    "\n",
    "rf.fit(X_train, y_train)\n",
    "\n",
    "print(\"The training error is : %.5f\" % (1 - rf.score(X_train, y_train)))\n",
    "print(\"The test error is: %.5f\" % (1 - rf.score(X_test, y_test)))"
   ]
  },
  {
   "cell_type": "code",
   "execution_count": 16,
   "metadata": {},
   "outputs": [
    {
     "data": {
      "text/plain": [
       "0.6638578058071214"
      ]
     },
     "execution_count": 16,
     "metadata": {},
     "output_type": "execute_result"
    }
   ],
   "source": [
    "# check CV score\n",
    "\n",
    "cv_score = cross_val_score(rf, X_train, y_train, cv=5)\n",
    "cv_score.mean()"
   ]
  },
  {
   "cell_type": "code",
   "execution_count": 17,
   "metadata": {},
   "outputs": [],
   "source": [
    "# create y prediction\n",
    "\n",
    "y_pred = rf.predict(X_test)"
   ]
  },
  {
   "cell_type": "code",
   "execution_count": 18,
   "metadata": {},
   "outputs": [
    {
     "name": "stdout",
     "output_type": "stream",
     "text": [
      "The r2 score is : 0.81302\n",
      "The mse is : 89846.68393\n",
      "The mse sqrt is : 299.74436\n"
     ]
    }
   ],
   "source": [
    "# get r2 score\n",
    "# get mse\n",
    "\n",
    "print(\"The r2 score is : %.5f\" % r2_score(y_test, y_pred))\n",
    "print(\"The mse is : %.5f\" % mean_squared_error(y_test, y_pred))\n",
    "print(\"The mse sqrt is : %.5f\" % (mean_squared_error(y_test, y_pred)**.5))"
   ]
  },
  {
   "cell_type": "code",
   "execution_count": 20,
   "metadata": {},
   "outputs": [],
   "source": [
    "# create param for gridsearch\n",
    "\n",
    "param_grid = ({\n",
    "    'max_features': ['sqrt', .30, .35],\n",
    "    'n_estimators': [650, 700, 750],\n",
    "    'max_depth': [10, 12, 14]\n",
    "})"
   ]
  },
  {
   "cell_type": "code",
   "execution_count": 21,
   "metadata": {},
   "outputs": [
    {
     "data": {
      "text/plain": [
       "GridSearchCV(cv=5, estimator=RandomForestRegressor(random_state=42),\n",
       "             param_grid={'max_depth': [10, 12, 14],\n",
       "                         'max_features': ['sqrt', 0.3, 0.35],\n",
       "                         'n_estimators': [650, 700, 750]},\n",
       "             return_train_score=True)"
      ]
     },
     "execution_count": 21,
     "metadata": {},
     "output_type": "execute_result"
    }
   ],
   "source": [
    "# run grid search\n",
    "\n",
    "rf_grid = GridSearchCV(estimator = rf, param_grid = param_grid, cv = 5, return_train_score = True)\n",
    "\n",
    "rf_grid.fit(X_train, y_train)"
   ]
  },
  {
   "cell_type": "code",
   "execution_count": 22,
   "metadata": {},
   "outputs": [
    {
     "data": {
      "text/plain": [
       "{'max_depth': 14, 'max_features': 0.3, 'n_estimators': 650}"
      ]
     },
     "execution_count": 22,
     "metadata": {},
     "output_type": "execute_result"
    }
   ],
   "source": [
    "# get best params\n",
    "\n",
    "rf_grid.best_params_"
   ]
  },
  {
   "cell_type": "code",
   "execution_count": 23,
   "metadata": {},
   "outputs": [
    {
     "name": "stdout",
     "output_type": "stream",
     "text": [
      "The new training error is : 0.04199\n",
      "The new test error is: 0.13960\n"
     ]
    }
   ],
   "source": [
    "# create new randomForest model with new params\n",
    "# (would normally just set_params but for reuse of notebook seems like a safer bet to create new)\n",
    "\n",
    "rf2 = RandomForestRegressor(max_depth=14, max_features=0.3,\n",
    "                            n_estimators=650, random_state=42)\n",
    "\n",
    "rf2.fit(X_train, y_train)\n",
    "\n",
    "print(\"The new training error is : %.5f\" % (1 - rf2.score(X_train, y_train)))\n",
    "print(\"The new test error is: %.5f\" % (1 - rf2.score(X_test, y_test)))"
   ]
  },
  {
   "cell_type": "code",
   "execution_count": 24,
   "metadata": {},
   "outputs": [],
   "source": [
    "# create new y predict\n",
    "\n",
    "y_new_pred = rf2.predict(X_test)"
   ]
  },
  {
   "cell_type": "code",
   "execution_count": 25,
   "metadata": {},
   "outputs": [
    {
     "name": "stdout",
     "output_type": "stream",
     "text": [
      "The r2 score is : 0.81302\n",
      "The mse is : 89846.68393\n",
      "The mse sqrt is : 299.74436\n",
      "The new r2 score is : 0.86040\n",
      "The new mse is : 67077.06641\n",
      "The new mse sqrt is : 258.99241\n"
     ]
    }
   ],
   "source": [
    "# updated r2 score\n",
    "# updated mse\n",
    "\n",
    "print(\"The r2 score is : %.5f\" % r2_score(y_test, y_pred))\n",
    "print(\"The mse is : %.5f\" % mean_squared_error(y_test, y_pred))\n",
    "print(\"The mse sqrt is : %.5f\" % (mean_squared_error(y_test, y_pred)**.5))\n",
    "\n",
    "print(\"The new r2 score is : %.5f\" % r2_score(y_test, y_new_pred))\n",
    "print(\"The new mse is : %.5f\" % mean_squared_error(y_test, y_new_pred))\n",
    "print(\"The new mse sqrt is : %.5f\" % (mean_squared_error(y_test, y_new_pred)**.5))"
   ]
  },
  {
   "cell_type": "code",
   "execution_count": 40,
   "metadata": {},
   "outputs": [
    {
     "name": "stdout",
     "output_type": "stream",
     "text": [
      "Feature: 0, Score: 0.00442\n",
      "Feature: 1, Score: 0.00795\n",
      "Feature: 2, Score: 0.03622\n",
      "Feature: 3, Score: 0.13248\n",
      "Feature: 4, Score: 0.02675\n",
      "Feature: 5, Score: 0.04301\n",
      "Feature: 6, Score: 0.01419\n",
      "Feature: 7, Score: 0.00520\n",
      "Feature: 8, Score: 0.00456\n",
      "Feature: 9, Score: 0.00660\n",
      "Feature: 10, Score: 0.01317\n",
      "Feature: 11, Score: 0.00806\n",
      "Feature: 12, Score: 0.01687\n",
      "Feature: 13, Score: 0.00813\n",
      "Feature: 14, Score: 0.00685\n",
      "Feature: 15, Score: 0.02027\n",
      "Feature: 16, Score: 0.02694\n",
      "Feature: 17, Score: 0.00967\n",
      "Feature: 18, Score: 0.01139\n",
      "Feature: 19, Score: 0.00532\n",
      "Feature: 20, Score: 0.00650\n",
      "Feature: 21, Score: 0.00722\n",
      "Feature: 22, Score: 0.01157\n",
      "Feature: 23, Score: 0.02565\n",
      "Feature: 24, Score: 0.00655\n",
      "Feature: 25, Score: 0.03907\n",
      "Feature: 26, Score: 0.00880\n",
      "Feature: 27, Score: 0.01149\n",
      "Feature: 28, Score: 0.03915\n",
      "Feature: 29, Score: 0.02069\n",
      "Feature: 30, Score: 0.07545\n",
      "Feature: 31, Score: 0.00951\n",
      "Feature: 32, Score: 0.01683\n",
      "Feature: 33, Score: 0.02213\n",
      "Feature: 34, Score: 0.01619\n",
      "Feature: 35, Score: 0.02459\n",
      "Feature: 36, Score: 0.01451\n",
      "Feature: 37, Score: 0.01297\n",
      "Feature: 38, Score: 0.05292\n",
      "Feature: 39, Score: 0.01797\n",
      "Feature: 40, Score: 0.06547\n",
      "Feature: 41, Score: 0.02308\n",
      "Feature: 42, Score: 0.01078\n",
      "Feature: 43, Score: 0.00809\n",
      "Feature: 44, Score: 0.00540\n",
      "Feature: 45, Score: 0.00806\n",
      "Feature: 46, Score: 0.00596\n",
      "Feature: 47, Score: 0.02217\n",
      "Feature: 48, Score: 0.00297\n",
      "Feature: 49, Score: 0.00020\n"
     ]
    }
   ],
   "source": [
    "importance = rf2.feature_importances_\n",
    "\n",
    "for i, v in enumerate(importance):\n",
    "    print('Feature: %0d, Score: %.5f' % (i,v))"
   ]
  },
  {
   "cell_type": "code",
   "execution_count": 49,
   "metadata": {},
   "outputs": [
    {
     "data": {
      "text/plain": [
       "0         15.0\n",
       "1       4817.0\n",
       "2         10.0\n",
       "3          0.0\n",
       "4        193.0\n",
       "         ...  \n",
       "2082     390.0\n",
       "2083      21.0\n",
       "2084     244.0\n",
       "2085       0.0\n",
       "2086       0.0\n",
       "Name: million_dollar_housing_units, Length: 2087, dtype: float64"
      ]
     },
     "execution_count": 49,
     "metadata": {},
     "output_type": "execute_result"
    }
   ],
   "source": [
    "X_train.iloc[:,3]"
   ]
  },
  {
   "cell_type": "code",
   "execution_count": 50,
   "metadata": {},
   "outputs": [
    {
     "data": {
      "text/plain": [
       "0       0.257361\n",
       "1       0.158518\n",
       "2       0.170030\n",
       "3       0.076491\n",
       "4       0.127032\n",
       "          ...   \n",
       "2082    0.124936\n",
       "2083    0.487290\n",
       "2084    0.120848\n",
       "2085    0.183610\n",
       "2086    0.098684\n",
       "Name: Perc_commuters_over_45_min, Length: 2087, dtype: float64"
      ]
     },
     "execution_count": 50,
     "metadata": {},
     "output_type": "execute_result"
    }
   ],
   "source": [
    "X_train.iloc[:,30]"
   ]
  },
  {
   "cell_type": "code",
   "execution_count": 51,
   "metadata": {},
   "outputs": [
    {
     "data": {
      "text/plain": [
       "0       0.012828\n",
       "1       0.012033\n",
       "2       0.151402\n",
       "3       0.028441\n",
       "4       0.018663\n",
       "          ...   \n",
       "2082    0.481614\n",
       "2083    0.640839\n",
       "2084    0.087066\n",
       "2085    0.043768\n",
       "2086    0.057018\n",
       "Name: Perc_commuter_by_public_transport, Length: 2087, dtype: float64"
      ]
     },
     "execution_count": 51,
     "metadata": {},
     "output_type": "execute_result"
    }
   ],
   "source": [
    "X_train.iloc[:,40]"
   ]
  },
  {
   "cell_type": "code",
   "execution_count": 66,
   "metadata": {},
   "outputs": [
    {
     "data": {
      "text/plain": [
       "Text(0.5, 0, 'Relative Imprtance')"
      ]
     },
     "execution_count": 66,
     "metadata": {},
     "output_type": "execute_result"
    },
    {
     "data": {
      "image/png": "[encoded data removed]",
      "text/plain": [
       "<Figure size 640x800 with 1 Axes>"
      ]
     },
     "metadata": {
      "needs_background": "light"
     },
     "output_type": "display_data"
    }
   ],
   "source": [
    "features = X_train.columns\n",
    "indices = np.argsort(importance)\n",
    "\n",
    "plt.figure(1, figsize=(8, 10), dpi=80)\n",
    "plt.title('Feature Importance')\n",
    "plt.barh(range(len(indices)), importance[indices], color='b', align='center')\n",
    "plt.yticks(range(len(indices)), features[indices])\n",
    "plt.xlabel('Relative Imprtance')"
   ]
  },
  {
   "cell_type": "code",
   "execution_count": null,
   "metadata": {},
   "outputs": [],
   "source": []
  }
 ],
 "metadata": {
  "kernelspec": {
   "display_name": "Python 3",
   "language": "python",
   "name": "python3"
  },
  "language_info": {
   "codemirror_mode": {
    "name": "ipython",
    "version": 3
   },
   "file_extension": ".py",
   "mimetype": "text/x-python",
   "name": "python",
   "nbconvert_exporter": "python",
   "pygments_lexer": "ipython3",
   "version": "3.8.5"
  }
 },
 "nbformat": 4,
 "nbformat_minor": 4
}
