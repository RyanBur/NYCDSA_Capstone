{
 "cells": [
  {
   "cell_type": "code",
   "execution_count": 1,
   "metadata": {},
   "outputs": [],
   "source": [
    "import pandas as pd \n",
    "from sklearn.ensemble import RandomForestRegressor\n",
    "from sklearn.model_selection import cross_val_score\n",
    "from sklearn.metrics import r2_score\n",
    "from sklearn.metrics import mean_squared_error\n",
    "from sklearn.model_selection import GridSearchCV"
   ]
  },
  {
   "cell_type": "code",
   "execution_count": 2,
   "metadata": {},
   "outputs": [],
   "source": [
    "#import data sets\n",
    "train_data = pd.read_csv('prelim_data_acsTRAIN.csv', index_col=0)\n",
    "test_data = pd.read_csv('prelim_data_acsTEST.csv', index_col=0)"
   ]
  },
  {
   "cell_type": "code",
   "execution_count": 3,
   "metadata": {},
   "outputs": [],
   "source": [
    "#drop columns\n",
    "\n",
    "train_data = train_data.drop(['RegionName', 'City', 'State'], axis=1)\n",
    "test_data = test_data.drop(['RegionName', 'City', 'State'], axis=1)"
   ]
  },
  {
   "cell_type": "code",
   "execution_count": 4,
   "metadata": {},
   "outputs": [
    {
     "data": {
      "text/plain": [
       "(1244, 229)"
      ]
     },
     "execution_count": 4,
     "metadata": {},
     "output_type": "execute_result"
    }
   ],
   "source": [
    "train_data.shape"
   ]
  },
  {
   "cell_type": "code",
   "execution_count": 5,
   "metadata": {},
   "outputs": [
    {
     "data": {
      "text/plain": [
       "(614, 229)"
      ]
     },
     "execution_count": 5,
     "metadata": {},
     "output_type": "execute_result"
    }
   ],
   "source": [
    "test_data.shape"
   ]
  },
  {
   "cell_type": "code",
   "execution_count": 6,
   "metadata": {},
   "outputs": [],
   "source": [
    "X_train = train_data.drop(['2020-01'],axis=1)\n",
    "y_train = train_data['2020-01']\n",
    "X_test = test_data.drop(['2020-01'],axis=1)\n",
    "y_test = test_data['2020-01']"
   ]
  },
  {
   "cell_type": "code",
   "execution_count": 7,
   "metadata": {},
   "outputs": [
    {
     "data": {
      "text/plain": [
       "(1244, 228)"
      ]
     },
     "execution_count": 7,
     "metadata": {},
     "output_type": "execute_result"
    }
   ],
   "source": [
    "X_train.shape"
   ]
  },
  {
   "cell_type": "code",
   "execution_count": 8,
   "metadata": {},
   "outputs": [
    {
     "data": {
      "text/plain": [
       "(1244,)"
      ]
     },
     "execution_count": 8,
     "metadata": {},
     "output_type": "execute_result"
    }
   ],
   "source": [
    "y_train.shape"
   ]
  },
  {
   "cell_type": "code",
   "execution_count": 9,
   "metadata": {},
   "outputs": [
    {
     "data": {
      "text/plain": [
       "(614, 228)"
      ]
     },
     "execution_count": 9,
     "metadata": {},
     "output_type": "execute_result"
    }
   ],
   "source": [
    "X_test.shape"
   ]
  },
  {
   "cell_type": "code",
   "execution_count": 10,
   "metadata": {},
   "outputs": [
    {
     "data": {
      "text/plain": [
       "(614,)"
      ]
     },
     "execution_count": 10,
     "metadata": {},
     "output_type": "execute_result"
    }
   ],
   "source": [
    "y_test.shape"
   ]
  },
  {
   "cell_type": "code",
   "execution_count": 12,
   "metadata": {},
   "outputs": [
    {
     "name": "stdout",
     "output_type": "stream",
     "text": [
      "The training error is : 0.06810\n",
      "The test error is: 0.12009\n"
     ]
    }
   ],
   "source": [
    "# create RandomForest\n",
    "\n",
    "rf = RandomForestRegressor(random_state=42)\n",
    "\n",
    "rf.fit(X_train, y_train)\n",
    "\n",
    "print(\"The training error is : %.5f\" % (1 - rf.score(X_train, y_train)))\n",
    "print(\"The test error is: %.5f\" % (1 - rf.score(X_test, y_test)))"
   ]
  },
  {
   "cell_type": "code",
   "execution_count": 13,
   "metadata": {},
   "outputs": [
    {
     "data": {
      "text/plain": [
       "0.6779894258172506"
      ]
     },
     "execution_count": 13,
     "metadata": {},
     "output_type": "execute_result"
    }
   ],
   "source": [
    "# check CV score\n",
    "\n",
    "cv_score = cross_val_score(rf, X_train, y_train, cv=5)\n",
    "cv_score.mean()"
   ]
  },
  {
   "cell_type": "code",
   "execution_count": 14,
   "metadata": {},
   "outputs": [],
   "source": [
    "# create y prediction\n",
    "\n",
    "y_pred = rf.predict(X_test)"
   ]
  },
  {
   "cell_type": "code",
   "execution_count": 15,
   "metadata": {},
   "outputs": [
    {
     "name": "stdout",
     "output_type": "stream",
     "text": [
      "The r2 score is : 0.87991\n",
      "The mse is : 49297.64908\n",
      "The mse sqrt is : 222.03074\n"
     ]
    }
   ],
   "source": [
    "# get r2 score\n",
    "# get mse\n",
    "\n",
    "print(\"The r2 score is : %.5f\" % r2_score(y_test, y_pred))\n",
    "print(\"The mse is : %.5f\" % mean_squared_error(y_test, y_pred))\n",
    "print(\"The mse sqrt is : %.5f\" % (mean_squared_error(y_test, y_pred)**.5))"
   ]
  },
  {
   "cell_type": "code",
   "execution_count": 16,
   "metadata": {},
   "outputs": [],
   "source": [
    "# create param for gridsearch\n",
    "\n",
    "param_grid = ({\n",
    "    'max_features': ['sqrt', .25, .5, .75, 'auto'],\n",
    "    'min_samples_split': [2, 5, 10, 15],\n",
    "    'n_estimators': [50, 150, 250, 350],\n",
    "    'max_depth': [10, 20, 100]\n",
    "})"
   ]
  },
  {
   "cell_type": "code",
   "execution_count": 17,
   "metadata": {},
   "outputs": [
    {
     "data": {
      "text/plain": [
       "GridSearchCV(cv=5, estimator=RandomForestRegressor(random_state=42),\n",
       "             param_grid={'max_depth': [10, 20, 100],\n",
       "                         'max_features': ['sqrt', 0.25, 0.5, 0.75, 'auto'],\n",
       "                         'min_samples_split': [2, 5, 10, 15],\n",
       "                         'n_estimators': [50, 150, 250, 350]},\n",
       "             return_train_score=True)"
      ]
     },
     "execution_count": 17,
     "metadata": {},
     "output_type": "execute_result"
    }
   ],
   "source": [
    "# run grid search\n",
    "\n",
    "rf_grid = GridSearchCV(estimator = rf, param_grid = param_grid, cv = 5, return_train_score = True)\n",
    "\n",
    "rf_grid.fit(X_train, y_train)"
   ]
  },
  {
   "cell_type": "code",
   "execution_count": 18,
   "metadata": {},
   "outputs": [
    {
     "data": {
      "text/plain": [
       "{'max_depth': 10,\n",
       " 'max_features': 0.25,\n",
       " 'min_samples_split': 2,\n",
       " 'n_estimators': 350}"
      ]
     },
     "execution_count": 18,
     "metadata": {},
     "output_type": "execute_result"
    }
   ],
   "source": [
    "# get best params\n",
    "\n",
    "rf_grid.best_params_"
   ]
  },
  {
   "cell_type": "code",
   "execution_count": 19,
   "metadata": {},
   "outputs": [
    {
     "name": "stdout",
     "output_type": "stream",
     "text": [
      "The new training error is : 0.05492\n",
      "The new test error is: 0.12185\n"
     ]
    }
   ],
   "source": [
    "# create new randomForest model with new params\n",
    "# (would normally just set_params but for reuse of notebook seems like a safer bet to create new)\n",
    "\n",
    "rf2 = RandomForestRegressor(max_depth=10, max_features=0.25,\n",
    "                            min_samples_split=2, n_estimators=350, random_state=42)\n",
    "\n",
    "rf2.fit(X_train, y_train)\n",
    "\n",
    "print(\"The new training error is : %.5f\" % (1 - rf2.score(X_train, y_train)))\n",
    "print(\"The new test error is: %.5f\" % (1 - rf2.score(X_test, y_test)))"
   ]
  },
  {
   "cell_type": "code",
   "execution_count": 20,
   "metadata": {},
   "outputs": [],
   "source": [
    "# create new y predict\n",
    "\n",
    "y_new_pred = rf2.predict(X_test)"
   ]
  },
  {
   "cell_type": "code",
   "execution_count": 22,
   "metadata": {},
   "outputs": [
    {
     "name": "stdout",
     "output_type": "stream",
     "text": [
      "The r2 score is : 0.87991\n",
      "The mse is : 49297.64908\n",
      "The mse sqrt is : 222.03074\n",
      "The new r2 score is : 0.87815\n",
      "The new mse is : 50023.00854\n",
      "The new mse sqrt is : 223.65824\n"
     ]
    }
   ],
   "source": [
    "# updated r2 score\n",
    "# updated mse\n",
    "\n",
    "print(\"The r2 score is : %.5f\" % r2_score(y_test, y_pred))\n",
    "print(\"The mse is : %.5f\" % mean_squared_error(y_test, y_pred))\n",
    "print(\"The mse sqrt is : %.5f\" % (mean_squared_error(y_test, y_pred)**.5))\n",
    "\n",
    "print(\"The new r2 score is : %.5f\" % r2_score(y_test, y_new_pred))\n",
    "print(\"The new mse is : %.5f\" % mean_squared_error(y_test, y_new_pred))\n",
    "print(\"The new mse sqrt is : %.5f\" % (mean_squared_error(y_test, y_new_pred)**.5))"
   ]
  },
  {
   "cell_type": "code",
   "execution_count": null,
   "metadata": {},
   "outputs": [],
   "source": []
  }
 ],
 "metadata": {
  "kernelspec": {
   "display_name": "Python 3",
   "language": "python",
   "name": "python3"
  },
  "language_info": {
   "codemirror_mode": {
    "name": "ipython",
    "version": 3
   },
   "file_extension": ".py",
   "mimetype": "text/x-python",
   "name": "python",
   "nbconvert_exporter": "python",
   "pygments_lexer": "ipython3",
   "version": "3.8.5"
  }
 },
 "nbformat": 4,
 "nbformat_minor": 4
}
