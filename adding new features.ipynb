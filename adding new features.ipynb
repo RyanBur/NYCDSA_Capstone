{
 "cells": [
  {
   "cell_type": "code",
   "execution_count": 23,
   "metadata": {},
   "outputs": [],
   "source": [
    "import numpy as np\n",
    "import requests\n",
    "import pandas as pd"
   ]
  },
  {
   "cell_type": "code",
   "execution_count": 25,
   "metadata": {},
   "outputs": [],
   "source": [
    "# #2019\n",
    "# df=pd.read_json('https://api.census.gov/data/2019/zbp?get=EMP,ESTAB,ZIPCODE&for=ZIPCODE:*')\n",
    "# df = df.iloc[1: , :]\n",
    "# df=pd.DataFrame({'EMP':list(df.loc[:,0]), 'ESTAB':list(df.loc[:,1]),'ZIPCODE':list(df.loc[:,2]),'YEAR':list(2019*np.ones(len((df))))})\n",
    "# df.ESTAB=df.ESTAB.astype('float')\n",
    "# _2019data=df.groupby(['ZIPCODE']).sum()"
   ]
  },
  {
   "cell_type": "code",
   "execution_count": 26,
   "metadata": {},
   "outputs": [],
   "source": [
    "#2018\n",
    "df=pd.read_json('https://api.census.gov/data/2018/zbp?get=EMP,ESTAB,ZIPCODE,YEAR')\n",
    "df = df.iloc[1: , :]\n",
    "df=pd.DataFrame({'EMP':list(df.loc[:,0]), 'ESTAB':list(df.loc[:,1]),'ZIPCODE':list(df.loc[:,2]),'YEAR':list(df.loc[:,3])})\n",
    "df.ESTAB=df.ESTAB.astype('float')\n",
    "_2018data=df.groupby(['ZIPCODE']).sum()\n",
    "_2018data['YEAR']=list(2018*np.ones(len((_2018data))))\n",
    "_2018data=_2018data.reset_index()"
   ]
  },
  {
   "cell_type": "code",
   "execution_count": 85,
   "metadata": {},
   "outputs": [],
   "source": [
    "#2017\n",
    "df=pd.read_json('https://api.census.gov/data/2017/zbp?get=EMP,ESTAB,ZIPCODE&for=ZIPCODE:*')\n",
    "df = df.iloc[1: , :]\n",
    "df=pd.DataFrame({'EMP':list(df.loc[:,0]), 'ESTAB':list(df.loc[:,1]),'ZIPCODE':list(df.loc[:,2])})\n",
    "df.ESTAB=df.ESTAB.astype('float')\n",
    "_2017data=df.groupby(['ZIPCODE']).sum()\n",
    "_2017data['YEAR']=list(2017*np.ones(len((_2017data))))\n",
    "_2017data=_2017data.reset_index()"
   ]
  },
  {
   "cell_type": "code",
   "execution_count": 82,
   "metadata": {},
   "outputs": [],
   "source": [
    "#2016\n",
    "df=pd.read_json('https://api.census.gov/data/2016/zbp?get=EMP,ESTAB,ZIPCODE&for=ZIPCODE:*')\n",
    "df = df.iloc[1: , :]\n",
    "df=pd.DataFrame({'EMP':list(df.loc[:,0]), 'ESTAB':list(df.loc[:,1]),'ZIPCODE':list(df.loc[:,2]),'YEAR':list(2016*np.ones(len((df))))})\n",
    "df.ESTAB=df.ESTAB.astype('float')\n",
    "_2016data=df.groupby(['ZIPCODE']).sum()\n",
    "_2016data=_2016data.reset_index()"
   ]
  },
  {
   "cell_type": "code",
   "execution_count": 29,
   "metadata": {},
   "outputs": [],
   "source": [
    "#2015\n",
    "df=pd.read_json('https://api.census.gov/data/2015/zbp?get=EMP,ESTAB,ZIPCODE&for=ZIPCODE:*')\n",
    "df = df.iloc[1: , :]\n",
    "df=pd.DataFrame({'EMP':list(df.loc[:,0]), 'ESTAB':list(df.loc[:,1]),'ZIPCODE':list(df.loc[:,2]),'YEAR':list(2015*np.ones(len((df))))})\n",
    "df.ESTAB=df.ESTAB.astype('float')\n",
    "_2015data=df.groupby(['ZIPCODE']).sum()\n",
    "_2015data=_2015data.reset_index()"
   ]
  },
  {
   "cell_type": "code",
   "execution_count": 30,
   "metadata": {},
   "outputs": [],
   "source": [
    "#2014\n",
    "df=pd.read_json('https://api.census.gov/data/2014/zbp?get=EMP,ESTAB,ZIPCODE&for=ZIPCODE:*')\n",
    "df = df.iloc[1: , :]\n",
    "df=pd.DataFrame({'EMP':list(df.loc[:,0]), 'ESTAB':list(df.loc[:,1]),'ZIPCODE':list(df.loc[:,2]),'YEAR':list(2014*np.ones(len((df))))})\n",
    "df.ESTAB=df.ESTAB.astype('float')\n",
    "_2014data=df.groupby(['ZIPCODE']).sum()\n",
    "_2014data=_2014data.reset_index()"
   ]
  },
  {
   "cell_type": "code",
   "execution_count": 31,
   "metadata": {},
   "outputs": [],
   "source": [
    "#2013\n",
    "df=pd.read_json('https://api.census.gov/data/2013/zbp?get=EMP,ESTAB,ZIPCODE&for=ZIPCODE:*')\n",
    "df = df.iloc[1: , :]\n",
    "df=pd.DataFrame({'EMP':list(df.loc[:,0]), 'ESTAB':list(df.loc[:,1]),'ZIPCODE':list(df.loc[:,2]),'YEAR':list(2013*np.ones(len((df))))})\n",
    "df.ESTAB=df.ESTAB.astype('float')\n",
    "_2013data=df.groupby(['ZIPCODE']).sum()\n",
    "_2013data=_2013data.reset_index()"
   ]
  },
  {
   "cell_type": "code",
   "execution_count": 32,
   "metadata": {},
   "outputs": [],
   "source": [
    "#2012\n",
    "df=pd.read_json('https://api.census.gov/data/2012/zbp?get=EMP,ESTAB,ZIPCODE&for=ZIPCODE:*')\n",
    "df = df.iloc[1: , :]\n",
    "df=pd.DataFrame({'EMP':list(df.loc[:,0]), 'ESTAB':list(df.loc[:,1]),'ZIPCODE':list(df.loc[:,2]),'YEAR':list(2012*np.ones(len((df))))})\n",
    "df.ESTAB=df.ESTAB.astype('float')\n",
    "_2012data=df.groupby(['ZIPCODE']).sum()\n",
    "_2012data=_2012data.reset_index()"
   ]
  },
  {
   "cell_type": "code",
   "execution_count": 33,
   "metadata": {},
   "outputs": [],
   "source": [
    "#2011\n",
    "df=pd.read_json('https://api.census.gov/data/2011/zbp?get=EMP,ESTAB,ZIPCODE&for=ZIPCODE:*')\n",
    "df = df.iloc[1: , :]\n",
    "df=pd.DataFrame({'EMP':list(df.loc[:,0]), 'ESTAB':list(df.loc[:,1]),'ZIPCODE':list(df.loc[:,2]),'YEAR':list(2011*np.ones(len((df))))})\n",
    "df.ESTAB=df.ESTAB.astype('float')\n",
    "_2011data=df.groupby(['ZIPCODE']).sum()\n",
    "_2011data=_2011data.reset_index()\n",
    "\n"
   ]
  },
  {
   "cell_type": "code",
   "execution_count": 129,
   "metadata": {},
   "outputs": [],
   "source": [
    "fullbusinessesdata=pd.concat([_2011data,_2012data,_2013data,_2014data,_2015data,_2016data,_2017data,_2018data], ignore_index=True, sort=False)\n",
    "fullbusinessesdata.ZIPCODE=fullbusinessesdata.ZIPCODE.apply(lambda x: x.lstrip('0')) \n"
   ]
  },
  {
   "cell_type": "code",
   "execution_count": 130,
   "metadata": {},
   "outputs": [],
   "source": [
    "#the number 3 at end of str(int(x[2])+3) is how many years to stagger. to predict 1 year out want +2 bc comes out one year after and then one year after that\n",
    "fullbusinessesdata.ZIPCODE=fullbusinessesdata.apply(lambda x: str(x[0])+'-'+str(int(x[2])+4)+'-09',axis=1)\n"
   ]
  },
  {
   "cell_type": "code",
   "execution_count": 147,
   "metadata": {},
   "outputs": [],
   "source": [
    "def add_new_feats_train_test_pred(inputfilepath,outputfilepath):\n",
    "    ##generates test train and predict data set w the new features given they are all \n",
    "    ##saved with some file pth and differ only by 'train' 'test' or 'predict'\n",
    "    ##put ?? in the file path where the train/test or predict should go.\n",
    "    \n",
    "    for i in ['train','test','predict']:\n",
    "        inputfilepathtemp=inputfilepath.replace('??', i)\n",
    "        print(inputfilepathtemp)\n",
    "        col_droptrain=pd.read_csv(inputfilepathtemp,index_col=False)\n",
    "        train_data_w_businesses=col_droptrain.merge(fullbusinessesdata,how='left',left_on='RegionName', right_on='ZIPCODE' )\n",
    "\n",
    "        train_data_w_businesses=train_data_w_businesses.drop(['ZIPCODE','YEAR'],axis=1)\n",
    "\n",
    "        for i in (train_data_w_businesses[train_data_w_businesses.ESTAB.isna()].City).index:\n",
    "            train_data_w_businesses.ESTAB[i]=train_data_w_businesses.ESTAB[train_data_w_businesses.City.iloc[1]==train_data_w_businesses.City].mean()\n",
    "\n",
    "        hospitaldf=pd.read_csv('HIFL_hospital_transit_features.csv',index_col=False)\n",
    "        hospitaldf.geo_id=hospitaldf.geo_id.astype('str')\n",
    "\n",
    "        train_data_w_businesses['zipnoyear']=train_data_w_businesses.RegionName.apply(lambda x:x[:-8])\n",
    "        train_data_w_businesses=train_data_w_businesses.merge(hospitaldf,how='left',left_on='zipnoyear', right_on='geo_id' )\n",
    "        train_data_w_businesses=train_data_w_businesses.drop(['geo_id'],axis=1)\n",
    "        unidata=pd.read_csv('HIFL_uni_gov_features.csv',index_col=False)\n",
    "        unidata.geo_id=unidata.geo_id.astype('str')\n",
    "        train_data_w_businesses=train_data_w_businesses.merge(unidata,how='left',left_on='zipnoyear', right_on='geo_id' )\n",
    "        train_data_w_businesses=train_data_w_businesses.drop(['geo_id','zipnoyear'],axis=1)\n",
    "        train_data_w_businesses\n",
    "\n",
    "\n",
    "        outputfilepathtemp=outputfilepath.replace('??', i.upper())\n",
    "        print(outputfilepathtemp)\n",
    "        train_data_w_businesses.to_csv(outputfilepathtemp,index=False)"
   ]
  },
  {
   "cell_type": "code",
   "execution_count": 148,
   "metadata": {},
   "outputs": [
    {
     "name": "stdout",
     "output_type": "stream",
     "text": [
      "train\n",
      "col_droptrain7.19_3year.csv\n",
      "TRAINDATAnewcols7.19_3year.csv\n",
      "test\n",
      "col_droptest7.19_3year.csv\n",
      "TESTDATAnewcols7.19_3year.csv\n",
      "predict\n",
      "col_droppredict7.19_3year.csv\n",
      "PREDICTDATAnewcols7.19_3year.csv\n"
     ]
    }
   ],
   "source": [
    "add_new_feats_train_test_pred('col_drop??7.19_3year.csv','??DATAnewcols7.19_3year.csv')"
   ]
  },
  {
   "cell_type": "code",
   "execution_count": null,
   "metadata": {},
   "outputs": [],
   "source": []
  },
  {
   "cell_type": "code",
   "execution_count": null,
   "metadata": {},
   "outputs": [],
   "source": []
  },
  {
   "cell_type": "code",
   "execution_count": null,
   "metadata": {},
   "outputs": [],
   "source": []
  }
 ],
 "metadata": {
  "kernelspec": {
   "display_name": "Python 3",
   "language": "python",
   "name": "python3"
  },
  "language_info": {
   "codemirror_mode": {
    "name": "ipython",
    "version": 3
   },
   "file_extension": ".py",
   "mimetype": "text/x-python",
   "name": "python",
   "nbconvert_exporter": "python",
   "pygments_lexer": "ipython3",
   "version": "3.8.5"
  }
 },
 "nbformat": 4,
 "nbformat_minor": 4
}
