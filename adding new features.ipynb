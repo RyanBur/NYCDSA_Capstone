{
 "cells": [
  {
   "cell_type": "code",
   "execution_count": 4,
   "metadata": {},
   "outputs": [],
   "source": [
    "import numpy as np\n",
    "import requests\n",
    "import pandas as pd"
   ]
  },
  {
   "cell_type": "code",
   "execution_count": null,
   "metadata": {},
   "outputs": [],
   "source": [
    "response=requests.get('https://api.census.gov/data/2018/zbp?get=EMP,ESTAB,ZIPCODE,YEAR')"
   ]
  },
  {
   "cell_type": "code",
   "execution_count": null,
   "metadata": {},
   "outputs": [],
   "source": [
    "# olddata=pd.DataFrame()\n",
    "# for i in list(range(18,20)):\n",
    "    \n",
    "#     date='20'+str(i)\n",
    "#     websitelink='https://api.census.gov/data/'+date+'/zbp?get=EMP,ESTAB,ZIPCODE,YEAR'\n",
    "#     print(websitelink)\n",
    "#     try:\n",
    "#         df=pd.read_json(websitelink)\n",
    "#     except:\n",
    "#         websitelink='https://api.census.gov/data/'+date+'/zbp?get=EMP,ESTAB,ZIPCODE&for=ZIPCODE:*'\n",
    "#         df=pd.read_json(websitelink)\n",
    "#     df = df.iloc[1: , :]\n",
    "#     df=pd.DataFrame({'EMP':list(df.loc[:,0]), 'ESTAB':list(df.loc[:,1]),'ZIPCODE':list(df.loc[:,2]),'YEAR':list(df.loc[:,3])})\n",
    "#     df.ESTAB=df.ESTAB.astype('float')\n",
    "#     newdata=df.groupby(['ZIPCODE']).sum()\n",
    "    \n",
    "#     olddata=pd.concat([newdata,olddata], ignore_index=True, sort=False)\n",
    "    \n",
    "    \n",
    "    \n",
    "# # pd.read_csv('col_droptrain7.15.csv')\n",
    "# # pd.read_csv('col_droptest7.15.csv')\n",
    "# # pd.read_csv('col_droppredict7.15.csv')\n",
    "\n"
   ]
  },
  {
   "cell_type": "code",
   "execution_count": null,
   "metadata": {},
   "outputs": [],
   "source": [
    "tempdata=pd.read_csv('col_droptrain7.16_3year.csv')\n",
    "tempdata.RegionName=tempdata.RegionName.apply(lambda x:x[:-8].zfill(5))\n"
   ]
  },
  {
   "cell_type": "code",
   "execution_count": null,
   "metadata": {},
   "outputs": [],
   "source": [
    "# #2019\n",
    "# df=pd.read_json('https://api.census.gov/data/2019/zbp?get=EMP,ESTAB,ZIPCODE&for=ZIPCODE:*')\n",
    "# df = df.iloc[1: , :]\n",
    "# df=pd.DataFrame({'EMP':list(df.loc[:,0]), 'ESTAB':list(df.loc[:,1]),'ZIPCODE':list(df.loc[:,2]),'YEAR':list(2019*np.ones(len((df))))})\n",
    "# df.ESTAB=df.ESTAB.astype('float')\n",
    "# _2019data=df.groupby(['ZIPCODE']).sum()"
   ]
  },
  {
   "cell_type": "code",
   "execution_count": 5,
   "metadata": {},
   "outputs": [],
   "source": [
    "#2018\n",
    "df=pd.read_json('https://api.census.gov/data/2018/zbp?get=EMP,ESTAB,ZIPCODE,YEAR')\n",
    "df = df.iloc[1: , :]\n",
    "df=pd.DataFrame({'EMP':list(df.loc[:,0]), 'ESTAB':list(df.loc[:,1]),'ZIPCODE':list(df.loc[:,2]),'YEAR':list(df.loc[:,3])})\n",
    "df.ESTAB=df.ESTAB.astype('float')\n",
    "_2018data=df.groupby(['ZIPCODE']).sum()\n",
    "_2018data['YEAR']=list(2018*np.ones(len((_2018data))))\n",
    "_2018data=_2018data.reset_index()"
   ]
  },
  {
   "cell_type": "code",
   "execution_count": 6,
   "metadata": {},
   "outputs": [],
   "source": [
    "#2017\n",
    "df=pd.read_json('https://api.census.gov/data/2017/zbp?get=EMP,ESTAB,ZIPCODE&for=ZIPCODE:*')\n",
    "df = df.iloc[1: , :]\n",
    "df=pd.DataFrame({'EMP':list(df.loc[:,0]), 'ESTAB':list(df.loc[:,1]),'ZIPCODE':list(df.loc[:,2]),'YEAR':list(2017*np.ones(len((df))))})\n",
    "df.ESTAB=df.ESTAB.astype('float')\n",
    "_2017data=df.groupby(['ZIPCODE']).sum()\n",
    "_2017data=_2017data.reset_index()"
   ]
  },
  {
   "cell_type": "code",
   "execution_count": 7,
   "metadata": {},
   "outputs": [],
   "source": [
    "#2016\n",
    "df=pd.read_json('https://api.census.gov/data/2016/zbp?get=EMP,ESTAB,ZIPCODE&for=ZIPCODE:*')\n",
    "df = df.iloc[1: , :]\n",
    "df=pd.DataFrame({'EMP':list(df.loc[:,0]), 'ESTAB':list(df.loc[:,1]),'ZIPCODE':list(df.loc[:,2]),'YEAR':list(2016*np.ones(len((df))))})\n",
    "df.ESTAB=df.ESTAB.astype('float')\n",
    "_2016data=df.groupby(['ZIPCODE']).sum()\n",
    "_2016data=_2016data.reset_index()"
   ]
  },
  {
   "cell_type": "code",
   "execution_count": 8,
   "metadata": {},
   "outputs": [],
   "source": [
    "#2015\n",
    "df=pd.read_json('https://api.census.gov/data/2015/zbp?get=EMP,ESTAB,ZIPCODE&for=ZIPCODE:*')\n",
    "df = df.iloc[1: , :]\n",
    "df=pd.DataFrame({'EMP':list(df.loc[:,0]), 'ESTAB':list(df.loc[:,1]),'ZIPCODE':list(df.loc[:,2]),'YEAR':list(2015*np.ones(len((df))))})\n",
    "df.ESTAB=df.ESTAB.astype('float')\n",
    "_2015data=df.groupby(['ZIPCODE']).sum()\n",
    "_2015data=_2015data.reset_index()"
   ]
  },
  {
   "cell_type": "code",
   "execution_count": 9,
   "metadata": {},
   "outputs": [],
   "source": [
    "#2014\n",
    "df=pd.read_json('https://api.census.gov/data/2014/zbp?get=EMP,ESTAB,ZIPCODE&for=ZIPCODE:*')\n",
    "df = df.iloc[1: , :]\n",
    "df=pd.DataFrame({'EMP':list(df.loc[:,0]), 'ESTAB':list(df.loc[:,1]),'ZIPCODE':list(df.loc[:,2]),'YEAR':list(2014*np.ones(len((df))))})\n",
    "df.ESTAB=df.ESTAB.astype('float')\n",
    "_2014data=df.groupby(['ZIPCODE']).sum()\n",
    "_2014data=_2014data.reset_index()"
   ]
  },
  {
   "cell_type": "code",
   "execution_count": 10,
   "metadata": {},
   "outputs": [],
   "source": [
    "#2013\n",
    "df=pd.read_json('https://api.census.gov/data/2013/zbp?get=EMP,ESTAB,ZIPCODE&for=ZIPCODE:*')\n",
    "df = df.iloc[1: , :]\n",
    "df=pd.DataFrame({'EMP':list(df.loc[:,0]), 'ESTAB':list(df.loc[:,1]),'ZIPCODE':list(df.loc[:,2]),'YEAR':list(2013*np.ones(len((df))))})\n",
    "df.ESTAB=df.ESTAB.astype('float')\n",
    "_2013data=df.groupby(['ZIPCODE']).sum()\n",
    "_2013data=_2013data.reset_index()"
   ]
  },
  {
   "cell_type": "code",
   "execution_count": 11,
   "metadata": {},
   "outputs": [],
   "source": [
    "#2012\n",
    "df=pd.read_json('https://api.census.gov/data/2012/zbp?get=EMP,ESTAB,ZIPCODE&for=ZIPCODE:*')\n",
    "df = df.iloc[1: , :]\n",
    "df=pd.DataFrame({'EMP':list(df.loc[:,0]), 'ESTAB':list(df.loc[:,1]),'ZIPCODE':list(df.loc[:,2]),'YEAR':list(2012*np.ones(len((df))))})\n",
    "df.ESTAB=df.ESTAB.astype('float')\n",
    "_2012data=df.groupby(['ZIPCODE']).sum()\n",
    "_2012data=_2012data.reset_index()"
   ]
  },
  {
   "cell_type": "code",
   "execution_count": 12,
   "metadata": {},
   "outputs": [],
   "source": [
    "#2011\n",
    "df=pd.read_json('https://api.census.gov/data/2011/zbp?get=EMP,ESTAB,ZIPCODE&for=ZIPCODE:*')\n",
    "df = df.iloc[1: , :]\n",
    "df=pd.DataFrame({'EMP':list(df.loc[:,0]), 'ESTAB':list(df.loc[:,1]),'ZIPCODE':list(df.loc[:,2]),'YEAR':list(2011*np.ones(len((df))))})\n",
    "df.ESTAB=df.ESTAB.astype('float')\n",
    "_2011data=df.groupby(['ZIPCODE']).sum()\n",
    "_2011data=_2011data.reset_index()\n",
    "\n"
   ]
  },
  {
   "cell_type": "code",
   "execution_count": null,
   "metadata": {},
   "outputs": [],
   "source": [
    "_2011data"
   ]
  },
  {
   "cell_type": "code",
   "execution_count": 17,
   "metadata": {},
   "outputs": [],
   "source": [
    "fullbusinessesdata=pd.concat([_2011data,_2012data,_2013data,_2014data,_2015data,_2016data,_2017data,_2018data], ignore_index=True, sort=False)\n",
    "fullbusinessesdata.ZIPCODE=fullbusinessesdata.ZIPCODE.apply(lambda x: x.lstrip('0')) \n",
    "#fullbusinessesdata.ZIPCODE=\n",
    "#str(fullbusinessesdata.ZIPCODE)+'-'+str(int(fullbusinessesdata.YEAR))+'-09'"
   ]
  },
  {
   "cell_type": "code",
   "execution_count": 18,
   "metadata": {},
   "outputs": [
    {
     "data": {
      "text/html": [
       "<div>\n",
       "<style scoped>\n",
       "    .dataframe tbody tr th:only-of-type {\n",
       "        vertical-align: middle;\n",
       "    }\n",
       "\n",
       "    .dataframe tbody tr th {\n",
       "        vertical-align: top;\n",
       "    }\n",
       "\n",
       "    .dataframe thead th {\n",
       "        text-align: right;\n",
       "    }\n",
       "</style>\n",
       "<table border=\"1\" class=\"dataframe\">\n",
       "  <thead>\n",
       "    <tr style=\"text-align: right;\">\n",
       "      <th></th>\n",
       "      <th>ZIPCODE</th>\n",
       "      <th>ESTAB</th>\n",
       "      <th>YEAR</th>\n",
       "    </tr>\n",
       "  </thead>\n",
       "  <tbody>\n",
       "    <tr>\n",
       "      <th>0</th>\n",
       "      <td>501</td>\n",
       "      <td>2.0</td>\n",
       "      <td>2011.0</td>\n",
       "    </tr>\n",
       "    <tr>\n",
       "      <th>1</th>\n",
       "      <td>1001</td>\n",
       "      <td>436.0</td>\n",
       "      <td>2011.0</td>\n",
       "    </tr>\n",
       "    <tr>\n",
       "      <th>2</th>\n",
       "      <td>1002</td>\n",
       "      <td>558.0</td>\n",
       "      <td>2011.0</td>\n",
       "    </tr>\n",
       "    <tr>\n",
       "      <th>3</th>\n",
       "      <td>1003</td>\n",
       "      <td>16.0</td>\n",
       "      <td>2011.0</td>\n",
       "    </tr>\n",
       "    <tr>\n",
       "      <th>4</th>\n",
       "      <td>1004</td>\n",
       "      <td>19.0</td>\n",
       "      <td>2011.0</td>\n",
       "    </tr>\n",
       "    <tr>\n",
       "      <th>...</th>\n",
       "      <td>...</td>\n",
       "      <td>...</td>\n",
       "      <td>...</td>\n",
       "    </tr>\n",
       "    <tr>\n",
       "      <th>303434</th>\n",
       "      <td>99926</td>\n",
       "      <td>21.0</td>\n",
       "      <td>2018.0</td>\n",
       "    </tr>\n",
       "    <tr>\n",
       "      <th>303435</th>\n",
       "      <td>99928</td>\n",
       "      <td>8.0</td>\n",
       "      <td>2018.0</td>\n",
       "    </tr>\n",
       "    <tr>\n",
       "      <th>303436</th>\n",
       "      <td>99929</td>\n",
       "      <td>192.0</td>\n",
       "      <td>2018.0</td>\n",
       "    </tr>\n",
       "    <tr>\n",
       "      <th>303437</th>\n",
       "      <td>99950</td>\n",
       "      <td>29.0</td>\n",
       "      <td>2018.0</td>\n",
       "    </tr>\n",
       "    <tr>\n",
       "      <th>303438</th>\n",
       "      <td>99999</td>\n",
       "      <td>62528.0</td>\n",
       "      <td>2018.0</td>\n",
       "    </tr>\n",
       "  </tbody>\n",
       "</table>\n",
       "<p>303439 rows × 3 columns</p>\n",
       "</div>"
      ],
      "text/plain": [
       "       ZIPCODE    ESTAB    YEAR\n",
       "0          501      2.0  2011.0\n",
       "1         1001    436.0  2011.0\n",
       "2         1002    558.0  2011.0\n",
       "3         1003     16.0  2011.0\n",
       "4         1004     19.0  2011.0\n",
       "...        ...      ...     ...\n",
       "303434   99926     21.0  2018.0\n",
       "303435   99928      8.0  2018.0\n",
       "303436   99929    192.0  2018.0\n",
       "303437   99950     29.0  2018.0\n",
       "303438   99999  62528.0  2018.0\n",
       "\n",
       "[303439 rows x 3 columns]"
      ]
     },
     "execution_count": 18,
     "metadata": {},
     "output_type": "execute_result"
    }
   ],
   "source": [
    "fullbusinessesdata"
   ]
  },
  {
   "cell_type": "code",
   "execution_count": 19,
   "metadata": {},
   "outputs": [],
   "source": [
    "#the number 3 at end of str(int(x[2])+3) is how many years to stagger. to predict 1 year out want +2 bc comes out one year after and then one year after that\n",
    "fullbusinessesdata.ZIPCODE=fullbusinessesdata.apply(lambda x: str(x[0])+'-'+str(int(x[2])+4)+'-09',axis=1)\n"
   ]
  },
  {
   "cell_type": "code",
   "execution_count": 20,
   "metadata": {},
   "outputs": [
    {
     "data": {
      "text/html": [
       "<div>\n",
       "<style scoped>\n",
       "    .dataframe tbody tr th:only-of-type {\n",
       "        vertical-align: middle;\n",
       "    }\n",
       "\n",
       "    .dataframe tbody tr th {\n",
       "        vertical-align: top;\n",
       "    }\n",
       "\n",
       "    .dataframe thead th {\n",
       "        text-align: right;\n",
       "    }\n",
       "</style>\n",
       "<table border=\"1\" class=\"dataframe\">\n",
       "  <thead>\n",
       "    <tr style=\"text-align: right;\">\n",
       "      <th></th>\n",
       "      <th>ZIPCODE</th>\n",
       "      <th>ESTAB</th>\n",
       "      <th>YEAR</th>\n",
       "    </tr>\n",
       "  </thead>\n",
       "  <tbody>\n",
       "    <tr>\n",
       "      <th>0</th>\n",
       "      <td>501-2015-09</td>\n",
       "      <td>2.0</td>\n",
       "      <td>2011.0</td>\n",
       "    </tr>\n",
       "    <tr>\n",
       "      <th>1</th>\n",
       "      <td>1001-2015-09</td>\n",
       "      <td>436.0</td>\n",
       "      <td>2011.0</td>\n",
       "    </tr>\n",
       "    <tr>\n",
       "      <th>2</th>\n",
       "      <td>1002-2015-09</td>\n",
       "      <td>558.0</td>\n",
       "      <td>2011.0</td>\n",
       "    </tr>\n",
       "    <tr>\n",
       "      <th>3</th>\n",
       "      <td>1003-2015-09</td>\n",
       "      <td>16.0</td>\n",
       "      <td>2011.0</td>\n",
       "    </tr>\n",
       "    <tr>\n",
       "      <th>4</th>\n",
       "      <td>1004-2015-09</td>\n",
       "      <td>19.0</td>\n",
       "      <td>2011.0</td>\n",
       "    </tr>\n",
       "    <tr>\n",
       "      <th>...</th>\n",
       "      <td>...</td>\n",
       "      <td>...</td>\n",
       "      <td>...</td>\n",
       "    </tr>\n",
       "    <tr>\n",
       "      <th>303434</th>\n",
       "      <td>99926-2022-09</td>\n",
       "      <td>21.0</td>\n",
       "      <td>2018.0</td>\n",
       "    </tr>\n",
       "    <tr>\n",
       "      <th>303435</th>\n",
       "      <td>99928-2022-09</td>\n",
       "      <td>8.0</td>\n",
       "      <td>2018.0</td>\n",
       "    </tr>\n",
       "    <tr>\n",
       "      <th>303436</th>\n",
       "      <td>99929-2022-09</td>\n",
       "      <td>192.0</td>\n",
       "      <td>2018.0</td>\n",
       "    </tr>\n",
       "    <tr>\n",
       "      <th>303437</th>\n",
       "      <td>99950-2022-09</td>\n",
       "      <td>29.0</td>\n",
       "      <td>2018.0</td>\n",
       "    </tr>\n",
       "    <tr>\n",
       "      <th>303438</th>\n",
       "      <td>99999-2022-09</td>\n",
       "      <td>62528.0</td>\n",
       "      <td>2018.0</td>\n",
       "    </tr>\n",
       "  </tbody>\n",
       "</table>\n",
       "<p>303439 rows × 3 columns</p>\n",
       "</div>"
      ],
      "text/plain": [
       "              ZIPCODE    ESTAB    YEAR\n",
       "0         501-2015-09      2.0  2011.0\n",
       "1        1001-2015-09    436.0  2011.0\n",
       "2        1002-2015-09    558.0  2011.0\n",
       "3        1003-2015-09     16.0  2011.0\n",
       "4        1004-2015-09     19.0  2011.0\n",
       "...               ...      ...     ...\n",
       "303434  99926-2022-09     21.0  2018.0\n",
       "303435  99928-2022-09      8.0  2018.0\n",
       "303436  99929-2022-09    192.0  2018.0\n",
       "303437  99950-2022-09     29.0  2018.0\n",
       "303438  99999-2022-09  62528.0  2018.0\n",
       "\n",
       "[303439 rows x 3 columns]"
      ]
     },
     "execution_count": 20,
     "metadata": {},
     "output_type": "execute_result"
    }
   ],
   "source": [
    "\n",
    "fullbusinessesdata"
   ]
  },
  {
   "cell_type": "code",
   "execution_count": 21,
   "metadata": {},
   "outputs": [
    {
     "name": "stderr",
     "output_type": "stream",
     "text": [
      "<ipython-input-21-27a6c7628567>:7: SettingWithCopyWarning: \n",
      "A value is trying to be set on a copy of a slice from a DataFrame\n",
      "\n",
      "See the caveats in the documentation: https://pandas.pydata.org/pandas-docs/stable/user_guide/indexing.html#returning-a-view-versus-a-copy\n",
      "  train_data_w_businesses.ESTAB[i]=train_data_w_businesses.ESTAB[train_data_w_businesses.City.iloc[1]==train_data_w_businesses.City].mean()\n"
     ]
    }
   ],
   "source": [
    "col_droptrain=pd.read_csv('col_droptrain7.16_3year.csv')\n",
    "train_data_w_businesses=col_droptrain.merge(fullbusinessesdata,how='left',left_on='RegionName', right_on='ZIPCODE' )\n",
    "\n",
    "train_data_w_businesses=train_data_w_businesses.drop(['ZIPCODE','YEAR'],axis=1)\n",
    "\n",
    "for i in (train_data_w_businesses[train_data_w_businesses.ESTAB.isna()].City).index:\n",
    "    train_data_w_businesses.ESTAB[i]=train_data_w_businesses.ESTAB[train_data_w_businesses.City.iloc[1]==train_data_w_businesses.City].mean()\n",
    "               \n",
    "hospitaldf=pd.read_csv('HIFL_hospital_transit_features.csv')\n",
    "hospitaldf.geo_id=hospitaldf.geo_id.astype('str')\n",
    "\n",
    "train_data_w_businesses['zipnoyear']=train_data_w_businesses.RegionName.apply(lambda x:x[:-8])\n",
    "train_data_w_businesses=train_data_w_businesses.merge(hospitaldf,how='left',left_on='zipnoyear', right_on='geo_id' )\n",
    "train_data_w_businesses=train_data_w_businesses.drop(['geo_id'],axis=1)\n",
    "unidata=pd.read_csv('HIFL_uni_gov_features.csv')\n",
    "unidata.geo_id=unidata.geo_id.astype('str')\n",
    "train_data_w_businesses=train_data_w_businesses.merge(unidata,how='left',left_on='zipnoyear', right_on='geo_id' )\n",
    "train_data_w_businesses=train_data_w_businesses.drop(['geo_id','zipnoyear'],axis=1)\n",
    "train_data_w_businesses\n",
    "\n",
    "\n",
    "\n",
    "train_data_w_businesses.to_csv('TRAINDATAnewcols7.16_3year.csv')"
   ]
  },
  {
   "cell_type": "code",
   "execution_count": 22,
   "metadata": {},
   "outputs": [
    {
     "name": "stderr",
     "output_type": "stream",
     "text": [
      "<ipython-input-22-1ec34eaf8d3a>:7: SettingWithCopyWarning: \n",
      "A value is trying to be set on a copy of a slice from a DataFrame\n",
      "\n",
      "See the caveats in the documentation: https://pandas.pydata.org/pandas-docs/stable/user_guide/indexing.html#returning-a-view-versus-a-copy\n",
      "  train_data_w_businesses.ESTAB[i]=train_data_w_businesses.ESTAB[train_data_w_businesses.City.iloc[1]==train_data_w_businesses.City].mean()\n"
     ]
    }
   ],
   "source": [
    "col_droptrain=pd.read_csv('col_droppredict7.16_3year.csv')\n",
    "train_data_w_businesses=col_droptrain.merge(fullbusinessesdata,how='left',left_on='RegionName', right_on='ZIPCODE' )\n",
    "\n",
    "train_data_w_businesses=train_data_w_businesses.drop(['ZIPCODE','YEAR'],axis=1)\n",
    "\n",
    "for i in (train_data_w_businesses[train_data_w_businesses.ESTAB.isna()].City).index:\n",
    "    train_data_w_businesses.ESTAB[i]=train_data_w_businesses.ESTAB[train_data_w_businesses.City.iloc[1]==train_data_w_businesses.City].mean()\n",
    "               \n",
    "hospitaldf=pd.read_csv('HIFL_hospital_transit_features.csv')\n",
    "hospitaldf.geo_id=hospitaldf.geo_id.astype('str')\n",
    "\n",
    "train_data_w_businesses['zipnoyear']=train_data_w_businesses.RegionName.apply(lambda x:x[:-8])\n",
    "train_data_w_businesses=train_data_w_businesses.merge(hospitaldf,how='left',left_on='zipnoyear', right_on='geo_id' )\n",
    "train_data_w_businesses=train_data_w_businesses.drop(['geo_id'],axis=1)\n",
    "unidata=pd.read_csv('HIFL_uni_gov_features.csv')\n",
    "unidata.geo_id=unidata.geo_id.astype('str')\n",
    "train_data_w_businesses=train_data_w_businesses.merge(unidata,how='left',left_on='zipnoyear', right_on='geo_id' )\n",
    "train_data_w_businesses=train_data_w_businesses.drop(['geo_id','zipnoyear'],axis=1)\n",
    "train_data_w_businesses\n",
    "\n",
    "\n",
    "\n",
    "train_data_w_businesses.to_csv('PREDICTDATAnewcols7.16_3year.csv')"
   ]
  },
  {
   "cell_type": "code",
   "execution_count": 23,
   "metadata": {},
   "outputs": [
    {
     "name": "stderr",
     "output_type": "stream",
     "text": [
      "<ipython-input-23-014ddb11f581>:7: SettingWithCopyWarning: \n",
      "A value is trying to be set on a copy of a slice from a DataFrame\n",
      "\n",
      "See the caveats in the documentation: https://pandas.pydata.org/pandas-docs/stable/user_guide/indexing.html#returning-a-view-versus-a-copy\n",
      "  train_data_w_businesses.ESTAB[i]=train_data_w_businesses.ESTAB[train_data_w_businesses.City.iloc[1]==train_data_w_businesses.City].mean()\n"
     ]
    }
   ],
   "source": [
    "col_droptrain=pd.read_csv('col_droptest7.16_3year.csv')\n",
    "train_data_w_businesses=col_droptrain.merge(fullbusinessesdata,how='left',left_on='RegionName', right_on='ZIPCODE' )\n",
    "\n",
    "train_data_w_businesses=train_data_w_businesses.drop(['ZIPCODE','YEAR'],axis=1)\n",
    "\n",
    "for i in (train_data_w_businesses[train_data_w_businesses.ESTAB.isna()].City).index:\n",
    "    train_data_w_businesses.ESTAB[i]=train_data_w_businesses.ESTAB[train_data_w_businesses.City.iloc[1]==train_data_w_businesses.City].mean()\n",
    "               \n",
    "hospitaldf=pd.read_csv('HIFL_hospital_transit_features.csv')\n",
    "hospitaldf.geo_id=hospitaldf.geo_id.astype('str')\n",
    "\n",
    "train_data_w_businesses['zipnoyear']=train_data_w_businesses.RegionName.apply(lambda x:x[:-8])\n",
    "train_data_w_businesses=train_data_w_businesses.merge(hospitaldf,how='left',left_on='zipnoyear', right_on='geo_id' )\n",
    "train_data_w_businesses=train_data_w_businesses.drop(['geo_id'],axis=1)\n",
    "unidata=pd.read_csv('HIFL_uni_gov_features.csv')\n",
    "unidata.geo_id=unidata.geo_id.astype('str')\n",
    "train_data_w_businesses=train_data_w_businesses.merge(unidata,how='left',left_on='zipnoyear', right_on='geo_id' )\n",
    "train_data_w_businesses=train_data_w_businesses.drop(['geo_id','zipnoyear'],axis=1)\n",
    "train_data_w_businesses\n",
    "\n",
    "\n",
    "\n",
    "train_data_w_businesses.to_csv('TESTDATAnewcols7.16_3year.csv')"
   ]
  },
  {
   "cell_type": "code",
   "execution_count": null,
   "metadata": {},
   "outputs": [],
   "source": []
  }
 ],
 "metadata": {
  "kernelspec": {
   "display_name": "Python 3",
   "language": "python",
   "name": "python3"
  },
  "language_info": {
   "codemirror_mode": {
    "name": "ipython",
    "version": 3
   },
   "file_extension": ".py",
   "mimetype": "text/x-python",
   "name": "python",
   "nbconvert_exporter": "python",
   "pygments_lexer": "ipython3",
   "version": "3.8.5"
  }
 },
 "nbformat": 4,
 "nbformat_minor": 4
}
