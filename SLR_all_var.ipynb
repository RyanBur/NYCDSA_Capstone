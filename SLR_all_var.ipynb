{
 "cells": [
  {
   "cell_type": "code",
   "execution_count": 19,
   "metadata": {},
   "outputs": [],
   "source": [
    "import numpy as np\n",
    "import pandas as pd\n",
    "from sklearn.linear_model import LinearRegression"
   ]
  },
  {
   "cell_type": "code",
   "execution_count": 20,
   "metadata": {},
   "outputs": [],
   "source": [
    "train_data = pd.read_csv('TRAINDATAnewcols7.15.csv', index_col=0)\n",
    "test_data = pd.read_csv('TESTDATAnewcols7.15.csv', index_col=0)"
   ]
  },
  {
   "cell_type": "code",
   "execution_count": 21,
   "metadata": {},
   "outputs": [],
   "source": [
    "#drop columns\n",
    "\n",
    "train_data = train_data.drop(['RegionName', 'City', 'State'], axis=1)\n",
    "test_data = test_data.drop(['RegionName', 'City', 'State'], axis=1)"
   ]
  },
  {
   "cell_type": "code",
   "execution_count": 22,
   "metadata": {},
   "outputs": [
    {
     "data": {
      "text/plain": [
       "Index(['Rent', 'total_pop', 'median_age', 'median_income',\n",
       "       'million_dollar_housing_units', 'dwellings_50_or_more_units',\n",
       "       'mobile_homes', 'housing_built_1939_or_earlier', 'armed_forces',\n",
       "       'gini_index', 'poverty', 'walked_to_work', 'Percent_Female',\n",
       "       'families_with_young_children_summed', 'dwellings_1_units',\n",
       "       'dwellings_under_10_units', 'unemployment_rate',\n",
       "       'average_car_per_household', 'Perc_commuters_under_15_min',\n",
       "       'Perc_commuters_over_45_min', 'Percent_pop_25_64',\n",
       "       'Associates_College_perc', 'Advanced_degree_perc', 'HS_perc',\n",
       "       'Perc_vacat_housing_units', 'Perc_other_race', 'Perc_black',\n",
       "       'Perc_asian', 'Perc_hispanic', 'Perc_commuter_by_public_transport',\n",
       "       'Perc_worked_at_home', 'Perc_different_house_year_ago_same_city',\n",
       "       'Perc_different_house_year_ago_dif_city',\n",
       "       'perc_housing_built_2005_or_later', 'ESTAB', 'HIFL_hospital_count',\n",
       "       'HIFL_transit_station_count', 'HIFL_uni', 'HIFL_govbldg'],\n",
       "      dtype='object')"
      ]
     },
     "execution_count": 22,
     "metadata": {},
     "output_type": "execute_result"
    }
   ],
   "source": [
    "train_data.columns"
   ]
  },
  {
   "cell_type": "code",
   "execution_count": 23,
   "metadata": {},
   "outputs": [],
   "source": [
    "x_df = train_data.drop(['Rent', 'median_age',\n",
    "       'million_dollar_housing_units',\n",
    "       'mobile_homes', 'housing_built_1939_or_earlier', 'armed_forces',\n",
    "       'gini_index', 'walked_to_work', 'Percent_Female',\n",
    "       'unemployment_rate',\n",
    "       'average_car_per_household', 'Perc_commuters_under_15_min',\n",
    "       'Perc_commuters_over_45_min', 'Percent_pop_25_64',\n",
    "       'Associates_College_perc',\n",
    "       'Perc_vacat_housing_units', 'Perc_other_race', 'Perc_black',\n",
    "       'Perc_asian', 'Perc_hispanic',\n",
    "       'Perc_worked_at_home', 'Perc_different_house_year_ago_same_city',\n",
    "       'Perc_different_house_year_ago_dif_city',\n",
    "       'perc_housing_built_2005_or_later', 'ESTAB', 'HIFL_hospital_count',\n",
    "       'HIFL_transit_station_count', 'HIFL_uni', 'HIFL_govbldg'], axis=1)"
   ]
  },
  {
   "cell_type": "code",
   "execution_count": 27,
   "metadata": {},
   "outputs": [],
   "source": [
    "y_df = train_data.drop(['Rent', 'total_pop', 'median_income',\n",
    "       'dwellings_50_or_more_units',\n",
    "       'mobile_homes', 'armed_forces',\n",
    "       'poverty',\n",
    "       'families_with_young_children_summed', 'dwellings_1_units',\n",
    "       'dwellings_under_10_units',\n",
    "       'average_car_per_household',\n",
    "       'Associates_College_perc', 'Advanced_degree_perc', 'HS_perc',\n",
    "       'Perc_other_race',\n",
    "       'Perc_commuter_by_public_transport',\n",
    "       'perc_housing_built_2005_or_later', 'HIFL_hospital_count',\n",
    "       'HIFL_transit_station_count', 'HIFL_uni', 'HIFL_govbldg'], axis=1)"
   ]
  },
  {
   "cell_type": "code",
   "execution_count": 30,
   "metadata": {},
   "outputs": [],
   "source": [
    "x_list = x_df.columns.values.tolist()\n",
    "y_list = y_df.columns.values.tolist()"
   ]
  },
  {
   "cell_type": "code",
   "execution_count": 31,
   "metadata": {},
   "outputs": [],
   "source": [
    "ols = LinearRegression()"
   ]
  },
  {
   "cell_type": "code",
   "execution_count": 32,
   "metadata": {},
   "outputs": [
    {
     "data": {
      "text/plain": [
       "['total_pop',\n",
       " 'median_income',\n",
       " 'dwellings_50_or_more_units',\n",
       " 'poverty',\n",
       " 'families_with_young_children_summed',\n",
       " 'dwellings_1_units',\n",
       " 'dwellings_under_10_units',\n",
       " 'Advanced_degree_perc',\n",
       " 'HS_perc',\n",
       " 'Perc_commuter_by_public_transport']"
      ]
     },
     "execution_count": 32,
     "metadata": {},
     "output_type": "execute_result"
    }
   ],
   "source": [
    "x_list"
   ]
  },
  {
   "cell_type": "code",
   "execution_count": 57,
   "metadata": {},
   "outputs": [],
   "source": [
    "r2 = []\n",
    "var_x = []\n",
    "var_y = []\n",
    "for x in x_list:\n",
    "    for y in y_list:\n",
    "        ols.fit(np.array(train_data[x]).reshape(-1, 1), train_data[y])\n",
    "        r2.append(ols.score(np.array(train_data[x]).reshape(-1, 1), train_data[y]))\n",
    "        var_x.append(x)\n",
    "        var_y.append(y)\n",
    "        \n",
    "slr = pd.concat([pd.Series(r2), pd.Series(var_x), pd.Series(var_y)], axis=1)\n",
    "slr = slr.sort_values(by=0, ascending=False)\n",
    "slr = slr.rename(columns={0: 'r2', 1: 'x_var(>.8)', 2: 'y_var(>.3)'})"
   ]
  },
  {
   "cell_type": "code",
   "execution_count": 58,
   "metadata": {},
   "outputs": [
    {
     "data": {
      "text/html": [
       "<div>\n",
       "<style scoped>\n",
       "    .dataframe tbody tr th:only-of-type {\n",
       "        vertical-align: middle;\n",
       "    }\n",
       "\n",
       "    .dataframe tbody tr th {\n",
       "        vertical-align: top;\n",
       "    }\n",
       "\n",
       "    .dataframe thead th {\n",
       "        text-align: right;\n",
       "    }\n",
       "</style>\n",
       "<table border=\"1\" class=\"dataframe\">\n",
       "  <thead>\n",
       "    <tr style=\"text-align: right;\">\n",
       "      <th></th>\n",
       "      <th>r2</th>\n",
       "      <th>x_var(&gt;.8)</th>\n",
       "      <th>y_var(&gt;.3)</th>\n",
       "    </tr>\n",
       "  </thead>\n",
       "  <tbody>\n",
       "    <tr>\n",
       "      <th>170</th>\n",
       "      <td>0.460656</td>\n",
       "      <td>Perc_commuter_by_public_transport</td>\n",
       "      <td>Perc_commuters_over_45_min</td>\n",
       "    </tr>\n",
       "    <tr>\n",
       "      <th>40</th>\n",
       "      <td>0.386578</td>\n",
       "      <td>dwellings_50_or_more_units</td>\n",
       "      <td>walked_to_work</td>\n",
       "    </tr>\n",
       "    <tr>\n",
       "      <th>24</th>\n",
       "      <td>0.384098</td>\n",
       "      <td>median_income</td>\n",
       "      <td>unemployment_rate</td>\n",
       "    </tr>\n",
       "    <tr>\n",
       "      <th>158</th>\n",
       "      <td>0.363463</td>\n",
       "      <td>HS_perc</td>\n",
       "      <td>Perc_worked_at_home</td>\n",
       "    </tr>\n",
       "    <tr>\n",
       "      <th>140</th>\n",
       "      <td>0.359951</td>\n",
       "      <td>Advanced_degree_perc</td>\n",
       "      <td>Perc_worked_at_home</td>\n",
       "    </tr>\n",
       "    <tr>\n",
       "      <th>132</th>\n",
       "      <td>0.331633</td>\n",
       "      <td>Advanced_degree_perc</td>\n",
       "      <td>unemployment_rate</td>\n",
       "    </tr>\n",
       "    <tr>\n",
       "      <th>169</th>\n",
       "      <td>0.313814</td>\n",
       "      <td>Perc_commuter_by_public_transport</td>\n",
       "      <td>Perc_commuters_under_15_min</td>\n",
       "    </tr>\n",
       "    <tr>\n",
       "      <th>135</th>\n",
       "      <td>0.302047</td>\n",
       "      <td>Advanced_degree_perc</td>\n",
       "      <td>Percent_pop_25_64</td>\n",
       "    </tr>\n",
       "    <tr>\n",
       "      <th>32</th>\n",
       "      <td>0.284180</td>\n",
       "      <td>median_income</td>\n",
       "      <td>Perc_worked_at_home</td>\n",
       "    </tr>\n",
       "    <tr>\n",
       "      <th>110</th>\n",
       "      <td>0.272586</td>\n",
       "      <td>dwellings_under_10_units</td>\n",
       "      <td>housing_built_1939_or_earlier</td>\n",
       "    </tr>\n",
       "    <tr>\n",
       "      <th>166</th>\n",
       "      <td>0.266659</td>\n",
       "      <td>Perc_commuter_by_public_transport</td>\n",
       "      <td>walked_to_work</td>\n",
       "    </tr>\n",
       "    <tr>\n",
       "      <th>67</th>\n",
       "      <td>0.253933</td>\n",
       "      <td>poverty</td>\n",
       "      <td>Perc_hispanic</td>\n",
       "    </tr>\n",
       "    <tr>\n",
       "      <th>60</th>\n",
       "      <td>0.253702</td>\n",
       "      <td>poverty</td>\n",
       "      <td>unemployment_rate</td>\n",
       "    </tr>\n",
       "    <tr>\n",
       "      <th>19</th>\n",
       "      <td>0.202311</td>\n",
       "      <td>median_income</td>\n",
       "      <td>million_dollar_housing_units</td>\n",
       "    </tr>\n",
       "    <tr>\n",
       "      <th>27</th>\n",
       "      <td>0.198639</td>\n",
       "      <td>median_income</td>\n",
       "      <td>Percent_pop_25_64</td>\n",
       "    </tr>\n",
       "    <tr>\n",
       "      <th>150</th>\n",
       "      <td>0.190523</td>\n",
       "      <td>HS_perc</td>\n",
       "      <td>unemployment_rate</td>\n",
       "    </tr>\n",
       "    <tr>\n",
       "      <th>164</th>\n",
       "      <td>0.188959</td>\n",
       "      <td>Perc_commuter_by_public_transport</td>\n",
       "      <td>housing_built_1939_or_earlier</td>\n",
       "    </tr>\n",
       "    <tr>\n",
       "      <th>85</th>\n",
       "      <td>0.188870</td>\n",
       "      <td>families_with_young_children_summed</td>\n",
       "      <td>Perc_hispanic</td>\n",
       "    </tr>\n",
       "    <tr>\n",
       "      <th>127</th>\n",
       "      <td>0.188577</td>\n",
       "      <td>Advanced_degree_perc</td>\n",
       "      <td>million_dollar_housing_units</td>\n",
       "    </tr>\n",
       "    <tr>\n",
       "      <th>54</th>\n",
       "      <td>0.187155</td>\n",
       "      <td>poverty</td>\n",
       "      <td>median_age</td>\n",
       "    </tr>\n",
       "  </tbody>\n",
       "</table>\n",
       "</div>"
      ],
      "text/plain": [
       "           r2                           x_var(>.8)  \\\n",
       "170  0.460656    Perc_commuter_by_public_transport   \n",
       "40   0.386578           dwellings_50_or_more_units   \n",
       "24   0.384098                        median_income   \n",
       "158  0.363463                              HS_perc   \n",
       "140  0.359951                 Advanced_degree_perc   \n",
       "132  0.331633                 Advanced_degree_perc   \n",
       "169  0.313814    Perc_commuter_by_public_transport   \n",
       "135  0.302047                 Advanced_degree_perc   \n",
       "32   0.284180                        median_income   \n",
       "110  0.272586             dwellings_under_10_units   \n",
       "166  0.266659    Perc_commuter_by_public_transport   \n",
       "67   0.253933                              poverty   \n",
       "60   0.253702                              poverty   \n",
       "19   0.202311                        median_income   \n",
       "27   0.198639                        median_income   \n",
       "150  0.190523                              HS_perc   \n",
       "164  0.188959    Perc_commuter_by_public_transport   \n",
       "85   0.188870  families_with_young_children_summed   \n",
       "127  0.188577                 Advanced_degree_perc   \n",
       "54   0.187155                              poverty   \n",
       "\n",
       "                        y_var(>.3)  \n",
       "170     Perc_commuters_over_45_min  \n",
       "40                  walked_to_work  \n",
       "24               unemployment_rate  \n",
       "158            Perc_worked_at_home  \n",
       "140            Perc_worked_at_home  \n",
       "132              unemployment_rate  \n",
       "169    Perc_commuters_under_15_min  \n",
       "135              Percent_pop_25_64  \n",
       "32             Perc_worked_at_home  \n",
       "110  housing_built_1939_or_earlier  \n",
       "166                 walked_to_work  \n",
       "67                   Perc_hispanic  \n",
       "60               unemployment_rate  \n",
       "19    million_dollar_housing_units  \n",
       "27               Percent_pop_25_64  \n",
       "150              unemployment_rate  \n",
       "164  housing_built_1939_or_earlier  \n",
       "85                   Perc_hispanic  \n",
       "127   million_dollar_housing_units  \n",
       "54                      median_age  "
      ]
     },
     "execution_count": 58,
     "metadata": {},
     "output_type": "execute_result"
    }
   ],
   "source": [
    "slr.head(20)"
   ]
  },
  {
   "cell_type": "code",
   "execution_count": null,
   "metadata": {},
   "outputs": [],
   "source": []
  }
 ],
 "metadata": {
  "kernelspec": {
   "display_name": "Python 3",
   "language": "python",
   "name": "python3"
  },
  "language_info": {
   "codemirror_mode": {
    "name": "ipython",
    "version": 3
   },
   "file_extension": ".py",
   "mimetype": "text/x-python",
   "name": "python",
   "nbconvert_exporter": "python",
   "pygments_lexer": "ipython3",
   "version": "3.8.5"
  }
 },
 "nbformat": 4,
 "nbformat_minor": 4
}
