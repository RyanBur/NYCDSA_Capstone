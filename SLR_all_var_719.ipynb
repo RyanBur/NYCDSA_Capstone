{
 "cells": [
  {
   "cell_type": "code",
   "execution_count": 25,
   "metadata": {},
   "outputs": [],
   "source": [
    "import numpy as np\n",
    "import pandas as pd\n",
    "from sklearn.linear_model import LinearRegression"
   ]
  },
  {
   "cell_type": "code",
   "execution_count": 26,
   "metadata": {},
   "outputs": [],
   "source": [
    "train_data = pd.read_csv('TRAINDATAnewcols7.19_3year.csv')\n",
    "test_data = pd.read_csv('TESTDATAnewcols7.19_3year.csv')"
   ]
  },
  {
   "cell_type": "code",
   "execution_count": 27,
   "metadata": {},
   "outputs": [],
   "source": [
    "#drop columns\n",
    "\n",
    "train_data = train_data.drop(['RegionName', 'City', 'State'], axis=1)\n",
    "test_data = test_data.drop(['RegionName', 'City', 'State'], axis=1)"
   ]
  },
  {
   "cell_type": "code",
   "execution_count": 28,
   "metadata": {},
   "outputs": [
    {
     "data": {
      "text/plain": [
       "Index(['Rent', 'Current Rent', 'total_pop', 'median_age', 'median_income',\n",
       "       'households_retirement_income', 'gini_index', 'unemployment_rate',\n",
       "       'average_car_per_household', 'Perc_commuters_under_15_min',\n",
       "       'Perc_commuters_over_45_min', 'Associates_College_perc',\n",
       "       'Advanced_degree_perc', 'HS_perc', 'Perc_vacat_housing_units',\n",
       "       'Perc_commuter_by_public_transport',\n",
       "       'Perc_different_house_year_ago_same_city',\n",
       "       'Perc_different_house_year_ago_dif_city',\n",
       "       'perc_housing_built_2005_or_later', 'armed_forces_perc',\n",
       "       'mobile_homes_perc', 'housing_built_1939_or_earlier_perc',\n",
       "       'walk_to_work_perc', 'dwellings_50_or_more_units_perc', 'poverty_perc',\n",
       "       'employed_in_finance_information_perc', 'housing_per_pop',\n",
       "       'renter_occupied_units_perc', 'married_households_perc',\n",
       "       'pop_in_labor_force_perc', 'ESTAB', 'HIFL_hospital_count',\n",
       "       'HIFL_transit_station_count', 'HIFL_uni', 'HIFL_govbldg'],\n",
       "      dtype='object')"
      ]
     },
     "execution_count": 28,
     "metadata": {},
     "output_type": "execute_result"
    }
   ],
   "source": [
    "train_data.columns"
   ]
  },
  {
   "cell_type": "code",
   "execution_count": 34,
   "metadata": {},
   "outputs": [],
   "source": [
    "x_df = train_data.drop(['Rent', 'Current Rent', 'total_pop', 'median_age',\n",
    "       'households_retirement_income', 'gini_index', 'unemployment_rate',\n",
    "       'Perc_commuters_under_15_min',\n",
    "       'Perc_commuters_over_45_min',\n",
    "       'Perc_different_house_year_ago_same_city',\n",
    "       'Perc_different_house_year_ago_dif_city',\n",
    "       'perc_housing_built_2005_or_later', 'armed_forces_perc',\n",
    "       'mobile_homes_perc', 'housing_built_1939_or_earlier_perc',\n",
    "       'walk_to_work_perc', 'dwellings_50_or_more_units_perc', 'poverty_perc',\n",
    "       'employed_in_finance_information_perc',\n",
    "       'renter_occupied_units_perc',\n",
    "       'ESTAB', 'HIFL_hospital_count',\n",
    "       'HIFL_transit_station_count', 'HIFL_uni', 'HIFL_govbldg'], axis=1)"
   ]
  },
  {
   "cell_type": "code",
   "execution_count": 35,
   "metadata": {},
   "outputs": [],
   "source": [
    "y_df = train_data.drop(['Rent', 'Current Rent', 'total_pop', 'median_income',\n",
    "       'average_car_per_household',\n",
    "       'Associates_College_perc',\n",
    "       'Advanced_degree_perc', 'HS_perc', 'Perc_vacat_housing_units',\n",
    "       'Perc_commuter_by_public_transport',\n",
    "       'perc_housing_built_2005_or_later', 'armed_forces_perc',\n",
    "       'mobile_homes_perc',\n",
    "       'dwellings_50_or_more_units_perc', 'poverty_perc',\n",
    "       'housing_per_pop',\n",
    "       'married_households_perc',\n",
    "       'pop_in_labor_force_perc', 'HIFL_hospital_count',\n",
    "       'HIFL_transit_station_count', 'HIFL_uni', 'HIFL_govbldg'], axis=1)"
   ]
  },
  {
   "cell_type": "code",
   "execution_count": 36,
   "metadata": {},
   "outputs": [],
   "source": [
    "x_list = x_df.columns.values.tolist()\n",
    "y_list = y_df.columns.values.tolist()"
   ]
  },
  {
   "cell_type": "code",
   "execution_count": 37,
   "metadata": {},
   "outputs": [],
   "source": [
    "ols = LinearRegression()"
   ]
  },
  {
   "cell_type": "code",
   "execution_count": 38,
   "metadata": {},
   "outputs": [
    {
     "data": {
      "text/plain": [
       "['median_income',\n",
       " 'average_car_per_household',\n",
       " 'Associates_College_perc',\n",
       " 'Advanced_degree_perc',\n",
       " 'HS_perc',\n",
       " 'Perc_vacat_housing_units',\n",
       " 'Perc_commuter_by_public_transport',\n",
       " 'housing_per_pop',\n",
       " 'married_households_perc',\n",
       " 'pop_in_labor_force_perc']"
      ]
     },
     "execution_count": 38,
     "metadata": {},
     "output_type": "execute_result"
    }
   ],
   "source": [
    "x_list"
   ]
  },
  {
   "cell_type": "code",
   "execution_count": 39,
   "metadata": {},
   "outputs": [],
   "source": [
    "r2 = []\n",
    "var_x = []\n",
    "var_y = []\n",
    "for x in x_list:\n",
    "    for y in y_list:\n",
    "        ols.fit(np.array(train_data[x]).reshape(-1, 1), train_data[y])\n",
    "        r2.append(ols.score(np.array(train_data[x]).reshape(-1, 1), train_data[y]))\n",
    "        var_x.append(x)\n",
    "        var_y.append(y)\n",
    "        \n",
    "slr = pd.concat([pd.Series(r2), pd.Series(var_x), pd.Series(var_y)], axis=1)\n",
    "slr = slr.sort_values(by=0, ascending=False)\n",
    "slr = slr.rename(columns={0: 'r2', 1: 'x_var(>.8)', 2: 'y_var(>.3)'})"
   ]
  },
  {
   "cell_type": "code",
   "execution_count": 40,
   "metadata": {},
   "outputs": [
    {
     "data": {
      "text/html": [
       "<div>\n",
       "<style scoped>\n",
       "    .dataframe tbody tr th:only-of-type {\n",
       "        vertical-align: middle;\n",
       "    }\n",
       "\n",
       "    .dataframe tbody tr th {\n",
       "        vertical-align: top;\n",
       "    }\n",
       "\n",
       "    .dataframe thead th {\n",
       "        text-align: right;\n",
       "    }\n",
       "</style>\n",
       "<table border=\"1\" class=\"dataframe\">\n",
       "  <thead>\n",
       "    <tr style=\"text-align: right;\">\n",
       "      <th></th>\n",
       "      <th>r2</th>\n",
       "      <th>x_var(&gt;.8)</th>\n",
       "      <th>y_var(&gt;.3)</th>\n",
       "    </tr>\n",
       "  </thead>\n",
       "  <tbody>\n",
       "    <tr>\n",
       "      <th>36</th>\n",
       "      <td>0.560623</td>\n",
       "      <td>Associates_College_perc</td>\n",
       "      <td>employed_in_finance_information_perc</td>\n",
       "    </tr>\n",
       "    <tr>\n",
       "      <th>83</th>\n",
       "      <td>0.484725</td>\n",
       "      <td>Perc_commuter_by_public_transport</td>\n",
       "      <td>Perc_commuters_over_45_min</td>\n",
       "    </tr>\n",
       "    <tr>\n",
       "      <th>29</th>\n",
       "      <td>0.454814</td>\n",
       "      <td>Associates_College_perc</td>\n",
       "      <td>unemployment_rate</td>\n",
       "    </tr>\n",
       "    <tr>\n",
       "      <th>110</th>\n",
       "      <td>0.432994</td>\n",
       "      <td>married_households_perc</td>\n",
       "      <td>Perc_different_house_year_ago_same_city</td>\n",
       "    </tr>\n",
       "    <tr>\n",
       "      <th>49</th>\n",
       "      <td>0.430249</td>\n",
       "      <td>Advanced_degree_perc</td>\n",
       "      <td>employed_in_finance_information_perc</td>\n",
       "    </tr>\n",
       "    <tr>\n",
       "      <th>115</th>\n",
       "      <td>0.429411</td>\n",
       "      <td>married_households_perc</td>\n",
       "      <td>renter_occupied_units_perc</td>\n",
       "    </tr>\n",
       "    <tr>\n",
       "      <th>24</th>\n",
       "      <td>0.402151</td>\n",
       "      <td>average_car_per_household</td>\n",
       "      <td>renter_occupied_units_perc</td>\n",
       "    </tr>\n",
       "    <tr>\n",
       "      <th>3</th>\n",
       "      <td>0.396339</td>\n",
       "      <td>median_income</td>\n",
       "      <td>unemployment_rate</td>\n",
       "    </tr>\n",
       "    <tr>\n",
       "      <th>10</th>\n",
       "      <td>0.393248</td>\n",
       "      <td>median_income</td>\n",
       "      <td>employed_in_finance_information_perc</td>\n",
       "    </tr>\n",
       "    <tr>\n",
       "      <th>22</th>\n",
       "      <td>0.383283</td>\n",
       "      <td>average_car_per_household</td>\n",
       "      <td>walk_to_work_perc</td>\n",
       "    </tr>\n",
       "    <tr>\n",
       "      <th>82</th>\n",
       "      <td>0.351224</td>\n",
       "      <td>Perc_commuter_by_public_transport</td>\n",
       "      <td>Perc_commuters_under_15_min</td>\n",
       "    </tr>\n",
       "    <tr>\n",
       "      <th>42</th>\n",
       "      <td>0.351080</td>\n",
       "      <td>Advanced_degree_perc</td>\n",
       "      <td>unemployment_rate</td>\n",
       "    </tr>\n",
       "    <tr>\n",
       "      <th>120</th>\n",
       "      <td>0.331630</td>\n",
       "      <td>pop_in_labor_force_perc</td>\n",
       "      <td>unemployment_rate</td>\n",
       "    </tr>\n",
       "    <tr>\n",
       "      <th>21</th>\n",
       "      <td>0.324763</td>\n",
       "      <td>average_car_per_household</td>\n",
       "      <td>housing_built_1939_or_earlier_perc</td>\n",
       "    </tr>\n",
       "    <tr>\n",
       "      <th>106</th>\n",
       "      <td>0.311742</td>\n",
       "      <td>married_households_perc</td>\n",
       "      <td>gini_index</td>\n",
       "    </tr>\n",
       "    <tr>\n",
       "      <th>127</th>\n",
       "      <td>0.283916</td>\n",
       "      <td>pop_in_labor_force_perc</td>\n",
       "      <td>employed_in_finance_information_perc</td>\n",
       "    </tr>\n",
       "    <tr>\n",
       "      <th>15</th>\n",
       "      <td>0.258511</td>\n",
       "      <td>average_car_per_household</td>\n",
       "      <td>gini_index</td>\n",
       "    </tr>\n",
       "    <tr>\n",
       "      <th>62</th>\n",
       "      <td>0.246141</td>\n",
       "      <td>HS_perc</td>\n",
       "      <td>employed_in_finance_information_perc</td>\n",
       "    </tr>\n",
       "    <tr>\n",
       "      <th>89</th>\n",
       "      <td>0.208787</td>\n",
       "      <td>Perc_commuter_by_public_transport</td>\n",
       "      <td>renter_occupied_units_perc</td>\n",
       "    </tr>\n",
       "    <tr>\n",
       "      <th>93</th>\n",
       "      <td>0.202712</td>\n",
       "      <td>housing_per_pop</td>\n",
       "      <td>gini_index</td>\n",
       "    </tr>\n",
       "  </tbody>\n",
       "</table>\n",
       "</div>"
      ],
      "text/plain": [
       "           r2                         x_var(>.8)  \\\n",
       "36   0.560623            Associates_College_perc   \n",
       "83   0.484725  Perc_commuter_by_public_transport   \n",
       "29   0.454814            Associates_College_perc   \n",
       "110  0.432994            married_households_perc   \n",
       "49   0.430249               Advanced_degree_perc   \n",
       "115  0.429411            married_households_perc   \n",
       "24   0.402151          average_car_per_household   \n",
       "3    0.396339                      median_income   \n",
       "10   0.393248                      median_income   \n",
       "22   0.383283          average_car_per_household   \n",
       "82   0.351224  Perc_commuter_by_public_transport   \n",
       "42   0.351080               Advanced_degree_perc   \n",
       "120  0.331630            pop_in_labor_force_perc   \n",
       "21   0.324763          average_car_per_household   \n",
       "106  0.311742            married_households_perc   \n",
       "127  0.283916            pop_in_labor_force_perc   \n",
       "15   0.258511          average_car_per_household   \n",
       "62   0.246141                            HS_perc   \n",
       "89   0.208787  Perc_commuter_by_public_transport   \n",
       "93   0.202712                    housing_per_pop   \n",
       "\n",
       "                                  y_var(>.3)  \n",
       "36      employed_in_finance_information_perc  \n",
       "83                Perc_commuters_over_45_min  \n",
       "29                         unemployment_rate  \n",
       "110  Perc_different_house_year_ago_same_city  \n",
       "49      employed_in_finance_information_perc  \n",
       "115               renter_occupied_units_perc  \n",
       "24                renter_occupied_units_perc  \n",
       "3                          unemployment_rate  \n",
       "10      employed_in_finance_information_perc  \n",
       "22                         walk_to_work_perc  \n",
       "82               Perc_commuters_under_15_min  \n",
       "42                         unemployment_rate  \n",
       "120                        unemployment_rate  \n",
       "21        housing_built_1939_or_earlier_perc  \n",
       "106                               gini_index  \n",
       "127     employed_in_finance_information_perc  \n",
       "15                                gini_index  \n",
       "62      employed_in_finance_information_perc  \n",
       "89                renter_occupied_units_perc  \n",
       "93                                gini_index  "
      ]
     },
     "execution_count": 40,
     "metadata": {},
     "output_type": "execute_result"
    }
   ],
   "source": [
    "slr.head(20)"
   ]
  },
  {
   "cell_type": "code",
   "execution_count": null,
   "metadata": {},
   "outputs": [],
   "source": []
  }
 ],
 "metadata": {
  "kernelspec": {
   "display_name": "Python 3",
   "language": "python",
   "name": "python3"
  },
  "language_info": {
   "codemirror_mode": {
    "name": "ipython",
    "version": 3
   },
   "file_extension": ".py",
   "mimetype": "text/x-python",
   "name": "python",
   "nbconvert_exporter": "python",
   "pygments_lexer": "ipython3",
   "version": "3.8.5"
  }
 },
 "nbformat": 4,
 "nbformat_minor": 4
}
